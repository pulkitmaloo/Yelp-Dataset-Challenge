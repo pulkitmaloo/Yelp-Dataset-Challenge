{
 "cells": [
  {
   "cell_type": "code",
   "execution_count": 1,
   "metadata": {},
   "outputs": [],
   "source": [
    "import pandas as pd\n",
    "import numpy as np\n",
    "import matplotlib.pyplot as plt\n",
    "import seaborn as sns\n",
    "import glob\n",
    "from tqdm import tqdm\n",
    "%matplotlib inline"
   ]
  },
  {
   "cell_type": "code",
   "execution_count": 2,
   "metadata": {},
   "outputs": [
    {
     "data": {
      "image/png": "[encoded data removed]",
      "text/plain": [
       "<Figure size 432x288 with 1 Axes>"
      ]
     },
     "metadata": {},
     "output_type": "display_data"
    }
   ],
   "source": [
    "reviews = pd.read_html('mon_reviews.html', header=0)[0]\n",
    "# stars = reviews[['date', 'stars']].sort_values(by=['date'])\n",
    "reviews['date'] = pd.to_datetime(reviews['date'])\n",
    "reviews['year'], reviews['month'] = reviews['date'].dt.year, reviews['date'].dt.month\n",
    "reviews = reviews[reviews['year']==2017]\n",
    "mean_stars = reviews.groupby(['year', 'month'], as_index=False)['stars'].agg({\"mean_score\": \"mean\"})\n",
    "ax = sns.pointplot(x='month', y='mean_score', data=mean_stars)"
   ]
  },
  {
   "cell_type": "code",
   "execution_count": 7,
   "metadata": {},
   "outputs": [],
   "source": [
    "#list(reviews['user_id'])"
   ]
  },
  {
   "cell_type": "code",
   "execution_count": 8,
   "metadata": {},
   "outputs": [],
   "source": [
    "# reviews = pd.read_html('gordon_reviews.html', header=0)[0]\n",
    "# stars = reviews[['date', 'stars']].sort_values(by=['date'])\n",
    "# stars['date'] = pd.to_datetime(stars['date'])\n",
    "# stars['year'], stars['month'] = stars['date'].dt.year, stars['date'].dt.month\n",
    "# stars = stars[stars['year']>=2015]\n",
    "# mean_stars = stars.groupby(['year', 'month'], as_index=False)['stars'].agg({\"mean_score\": \"mean\"})\n",
    "# ax = sns.pointplot(x='month', y='mean_score', hue='year', data=mean_stars)"
   ]
  },
  {
   "cell_type": "code",
   "execution_count": 9,
   "metadata": {},
   "outputs": [
    {
     "data": {
      "text/html": [
       "<div>\n",
       "<style scoped>\n",
       "    .dataframe tbody tr th:only-of-type {\n",
       "        vertical-align: middle;\n",
       "    }\n",
       "\n",
       "    .dataframe tbody tr th {\n",
       "        vertical-align: top;\n",
       "    }\n",
       "\n",
       "    .dataframe thead th {\n",
       "        text-align: right;\n",
       "    }\n",
       "</style>\n",
       "<table border=\"1\" class=\"dataframe\">\n",
       "  <thead>\n",
       "    <tr style=\"text-align: right;\">\n",
       "      <th></th>\n",
       "      <th>id</th>\n",
       "      <th>business_id</th>\n",
       "      <th>user_id</th>\n",
       "      <th>stars</th>\n",
       "      <th>date</th>\n",
       "      <th>text</th>\n",
       "      <th>useful</th>\n",
       "      <th>funny</th>\n",
       "      <th>cool</th>\n",
       "      <th>year</th>\n",
       "      <th>month</th>\n",
       "    </tr>\n",
       "  </thead>\n",
       "  <tbody>\n",
       "    <tr>\n",
       "      <th>19</th>\n",
       "      <td>-BapNk1B4IuTDZUxKdbYnQ</td>\n",
       "      <td>4JNXUYY8wbaaDmk3BPzlWw</td>\n",
       "      <td>EMMKdK1cGrLSo08wgSYHJQ</td>\n",
       "      <td>3</td>\n",
       "      <td>2017-04-19</td>\n",
       "      <td>As much as people I know have raved about thei...</td>\n",
       "      <td>2</td>\n",
       "      <td>0</td>\n",
       "      <td>0</td>\n",
       "      <td>2017</td>\n",
       "      <td>4</td>\n",
       "    </tr>\n",
       "    <tr>\n",
       "      <th>58</th>\n",
       "      <td>-tRXFjeMjpX7qAv1_EcT7g</td>\n",
       "      <td>4JNXUYY8wbaaDmk3BPzlWw</td>\n",
       "      <td>SRMOslD85xkPQzfMIUsQNQ</td>\n",
       "      <td>2</td>\n",
       "      <td>2017-04-23</td>\n",
       "      <td>We are here on a Saturday night. The atmospher...</td>\n",
       "      <td>0</td>\n",
       "      <td>0</td>\n",
       "      <td>0</td>\n",
       "      <td>2017</td>\n",
       "      <td>4</td>\n",
       "    </tr>\n",
       "    <tr>\n",
       "      <th>71</th>\n",
       "      <td>-YPzsFf8dzmVTRwekNnFDA</td>\n",
       "      <td>4JNXUYY8wbaaDmk3BPzlWw</td>\n",
       "      <td>WgRKynZBQSdrSYOCAf3JXg</td>\n",
       "      <td>2</td>\n",
       "      <td>2017-05-14</td>\n",
       "      <td>First had reservations and still had to wait 3...</td>\n",
       "      <td>0</td>\n",
       "      <td>0</td>\n",
       "      <td>0</td>\n",
       "      <td>2017</td>\n",
       "      <td>5</td>\n",
       "    </tr>\n",
       "    <tr>\n",
       "      <th>100</th>\n",
       "      <td>0cUaPoyrcyf-GDukR75pbQ</td>\n",
       "      <td>4JNXUYY8wbaaDmk3BPzlWw</td>\n",
       "      <td>j5ezF5mEGpnDwdTmAHci7Q</td>\n",
       "      <td>4</td>\n",
       "      <td>2017-03-07</td>\n",
       "      <td>If you've been to Paris... this is a poor subs...</td>\n",
       "      <td>0</td>\n",
       "      <td>0</td>\n",
       "      <td>0</td>\n",
       "      <td>2017</td>\n",
       "      <td>3</td>\n",
       "    </tr>\n",
       "    <tr>\n",
       "      <th>103</th>\n",
       "      <td>0dw964e_pXFfGMLuvQZ7zA</td>\n",
       "      <td>4JNXUYY8wbaaDmk3BPzlWw</td>\n",
       "      <td>PXPs4ZY7c77MejUVv6MLVw</td>\n",
       "      <td>5</td>\n",
       "      <td>2017-03-17</td>\n",
       "      <td>Mon Ami Gabi has been a must-stop breakfast sp...</td>\n",
       "      <td>0</td>\n",
       "      <td>0</td>\n",
       "      <td>0</td>\n",
       "      <td>2017</td>\n",
       "      <td>3</td>\n",
       "    </tr>\n",
       "  </tbody>\n",
       "</table>\n",
       "</div>"
      ],
      "text/plain": [
       "                         id             business_id                 user_id  \\\n",
       "19   -BapNk1B4IuTDZUxKdbYnQ  4JNXUYY8wbaaDmk3BPzlWw  EMMKdK1cGrLSo08wgSYHJQ   \n",
       "58   -tRXFjeMjpX7qAv1_EcT7g  4JNXUYY8wbaaDmk3BPzlWw  SRMOslD85xkPQzfMIUsQNQ   \n",
       "71   -YPzsFf8dzmVTRwekNnFDA  4JNXUYY8wbaaDmk3BPzlWw  WgRKynZBQSdrSYOCAf3JXg   \n",
       "100  0cUaPoyrcyf-GDukR75pbQ  4JNXUYY8wbaaDmk3BPzlWw  j5ezF5mEGpnDwdTmAHci7Q   \n",
       "103  0dw964e_pXFfGMLuvQZ7zA  4JNXUYY8wbaaDmk3BPzlWw  PXPs4ZY7c77MejUVv6MLVw   \n",
       "\n",
       "     stars       date                                               text  \\\n",
       "19       3 2017-04-19  As much as people I know have raved about thei...   \n",
       "58       2 2017-04-23  We are here on a Saturday night. The atmospher...   \n",
       "71       2 2017-05-14  First had reservations and still had to wait 3...   \n",
       "100      4 2017-03-07  If you've been to Paris... this is a poor subs...   \n",
       "103      5 2017-03-17  Mon Ami Gabi has been a must-stop breakfast sp...   \n",
       "\n",
       "     useful  funny  cool  year  month  \n",
       "19        2      0     0  2017      4  \n",
       "58        0      0     0  2017      4  \n",
       "71        0      0     0  2017      5  \n",
       "100       0      0     0  2017      3  \n",
       "103       0      0     0  2017      3  "
      ]
     },
     "execution_count": 9,
     "metadata": {},
     "output_type": "execute_result"
    }
   ],
   "source": [
    "low_reviews = reviews[(reviews['year']==2017) & (reviews['month'].isin([3,4,5]))]\n",
    "low_reviews.head()"
   ]
  },
  {
   "cell_type": "code",
   "execution_count": 10,
   "metadata": {},
   "outputs": [
    {
     "data": {
      "text/plain": [
       "['EMMKdK1cGrLSo08wgSYHJQ',\n",
       " 'SRMOslD85xkPQzfMIUsQNQ',\n",
       " 'WgRKynZBQSdrSYOCAf3JXg',\n",
       " 'j5ezF5mEGpnDwdTmAHci7Q',\n",
       " 'PXPs4ZY7c77MejUVv6MLVw']"
      ]
     },
     "execution_count": 10,
     "metadata": {},
     "output_type": "execute_result"
    }
   ],
   "source": [
    "list(low_reviews['user_id'])[:5]"
   ]
  },
  {
   "cell_type": "code",
   "execution_count": 12,
   "metadata": {},
   "outputs": [
    {
     "data": {
      "text/html": [
       "<div>\n",
       "<style scoped>\n",
       "    .dataframe tbody tr th:only-of-type {\n",
       "        vertical-align: middle;\n",
       "    }\n",
       "\n",
       "    .dataframe tbody tr th {\n",
       "        vertical-align: top;\n",
       "    }\n",
       "\n",
       "    .dataframe thead th {\n",
       "        text-align: right;\n",
       "    }\n",
       "</style>\n",
       "<table border=\"1\" class=\"dataframe\">\n",
       "  <thead>\n",
       "    <tr style=\"text-align: right;\">\n",
       "      <th></th>\n",
       "      <th>id</th>\n",
       "      <th>name</th>\n",
       "      <th>review_count</th>\n",
       "      <th>yelping_since</th>\n",
       "      <th>useful</th>\n",
       "      <th>funny</th>\n",
       "      <th>cool</th>\n",
       "      <th>fans</th>\n",
       "      <th>average_stars</th>\n",
       "      <th>compliment_hot</th>\n",
       "      <th>compliment_more</th>\n",
       "      <th>compliment_profile</th>\n",
       "      <th>compliment_cute</th>\n",
       "      <th>compliment_list</th>\n",
       "      <th>compliment_note</th>\n",
       "      <th>compliment_plain</th>\n",
       "      <th>compliment_cool</th>\n",
       "      <th>compliment_funny</th>\n",
       "      <th>compliment_writer</th>\n",
       "      <th>compliment_photos</th>\n",
       "    </tr>\n",
       "  </thead>\n",
       "  <tbody>\n",
       "    <tr>\n",
       "      <th>0</th>\n",
       "      <td>--8ELb8W1afbyP21EZStPg</td>\n",
       "      <td>Mi Sou</td>\n",
       "      <td>20</td>\n",
       "      <td>2011-10-25 00:00:00</td>\n",
       "      <td>0</td>\n",
       "      <td>0</td>\n",
       "      <td>0</td>\n",
       "      <td>0</td>\n",
       "      <td>4.13</td>\n",
       "      <td>0</td>\n",
       "      <td>0</td>\n",
       "      <td>0</td>\n",
       "      <td>0</td>\n",
       "      <td>0</td>\n",
       "      <td>0</td>\n",
       "      <td>0</td>\n",
       "      <td>1</td>\n",
       "      <td>1</td>\n",
       "      <td>0</td>\n",
       "      <td>0</td>\n",
       "    </tr>\n",
       "    <tr>\n",
       "      <th>1</th>\n",
       "      <td>-0tLDaIzN1Gbxc51Bxad4A</td>\n",
       "      <td>Rana</td>\n",
       "      <td>33</td>\n",
       "      <td>2013-05-14 00:00:00</td>\n",
       "      <td>4</td>\n",
       "      <td>0</td>\n",
       "      <td>0</td>\n",
       "      <td>0</td>\n",
       "      <td>3.35</td>\n",
       "      <td>0</td>\n",
       "      <td>0</td>\n",
       "      <td>0</td>\n",
       "      <td>0</td>\n",
       "      <td>0</td>\n",
       "      <td>0</td>\n",
       "      <td>0</td>\n",
       "      <td>0</td>\n",
       "      <td>0</td>\n",
       "      <td>0</td>\n",
       "      <td>0</td>\n",
       "    </tr>\n",
       "    <tr>\n",
       "      <th>2</th>\n",
       "      <td>-9ZFoRZpBAsf1ckY3aeyrg</td>\n",
       "      <td>Alexandra</td>\n",
       "      <td>91</td>\n",
       "      <td>2013-01-14 00:00:00</td>\n",
       "      <td>5</td>\n",
       "      <td>0</td>\n",
       "      <td>1</td>\n",
       "      <td>2</td>\n",
       "      <td>3.88</td>\n",
       "      <td>1</td>\n",
       "      <td>1</td>\n",
       "      <td>0</td>\n",
       "      <td>0</td>\n",
       "      <td>0</td>\n",
       "      <td>1</td>\n",
       "      <td>5</td>\n",
       "      <td>5</td>\n",
       "      <td>5</td>\n",
       "      <td>5</td>\n",
       "      <td>0</td>\n",
       "    </tr>\n",
       "    <tr>\n",
       "      <th>3</th>\n",
       "      <td>-9_Nz6wJ9Rj0q7kq6YJ-MA</td>\n",
       "      <td>Olga</td>\n",
       "      <td>125</td>\n",
       "      <td>2013-05-26 00:00:00</td>\n",
       "      <td>4</td>\n",
       "      <td>0</td>\n",
       "      <td>6</td>\n",
       "      <td>5</td>\n",
       "      <td>3.97</td>\n",
       "      <td>5</td>\n",
       "      <td>0</td>\n",
       "      <td>0</td>\n",
       "      <td>0</td>\n",
       "      <td>0</td>\n",
       "      <td>1</td>\n",
       "      <td>2</td>\n",
       "      <td>10</td>\n",
       "      <td>10</td>\n",
       "      <td>2</td>\n",
       "      <td>2</td>\n",
       "    </tr>\n",
       "    <tr>\n",
       "      <th>4</th>\n",
       "      <td>-AkgXdzDcdEvyXgKYJQW4w</td>\n",
       "      <td>Karli</td>\n",
       "      <td>322</td>\n",
       "      <td>2013-01-09 00:00:00</td>\n",
       "      <td>2</td>\n",
       "      <td>2</td>\n",
       "      <td>2</td>\n",
       "      <td>15</td>\n",
       "      <td>4.05</td>\n",
       "      <td>7</td>\n",
       "      <td>0</td>\n",
       "      <td>0</td>\n",
       "      <td>2</td>\n",
       "      <td>0</td>\n",
       "      <td>1</td>\n",
       "      <td>9</td>\n",
       "      <td>7</td>\n",
       "      <td>7</td>\n",
       "      <td>6</td>\n",
       "      <td>5</td>\n",
       "    </tr>\n",
       "  </tbody>\n",
       "</table>\n",
       "</div>"
      ],
      "text/plain": [
       "                       id       name  review_count        yelping_since  \\\n",
       "0  --8ELb8W1afbyP21EZStPg     Mi Sou            20  2011-10-25 00:00:00   \n",
       "1  -0tLDaIzN1Gbxc51Bxad4A       Rana            33  2013-05-14 00:00:00   \n",
       "2  -9ZFoRZpBAsf1ckY3aeyrg  Alexandra            91  2013-01-14 00:00:00   \n",
       "3  -9_Nz6wJ9Rj0q7kq6YJ-MA       Olga           125  2013-05-26 00:00:00   \n",
       "4  -AkgXdzDcdEvyXgKYJQW4w      Karli           322  2013-01-09 00:00:00   \n",
       "\n",
       "   useful  funny  cool  fans  average_stars  compliment_hot  compliment_more  \\\n",
       "0       0      0     0     0           4.13               0                0   \n",
       "1       4      0     0     0           3.35               0                0   \n",
       "2       5      0     1     2           3.88               1                1   \n",
       "3       4      0     6     5           3.97               5                0   \n",
       "4       2      2     2    15           4.05               7                0   \n",
       "\n",
       "   compliment_profile  compliment_cute  compliment_list  compliment_note  \\\n",
       "0                   0                0                0                0   \n",
       "1                   0                0                0                0   \n",
       "2                   0                0                0                1   \n",
       "3                   0                0                0                1   \n",
       "4                   0                2                0                1   \n",
       "\n",
       "   compliment_plain  compliment_cool  compliment_funny  compliment_writer  \\\n",
       "0                 0                1                 1                  0   \n",
       "1                 0                0                 0                  0   \n",
       "2                 5                5                 5                  5   \n",
       "3                 2               10                10                  2   \n",
       "4                 9                7                 7                  6   \n",
       "\n",
       "   compliment_photos  \n",
       "0                  0  \n",
       "1                  0  \n",
       "2                  0  \n",
       "3                  2  \n",
       "4                  5  "
      ]
     },
     "execution_count": 12,
     "metadata": {},
     "output_type": "execute_result"
    }
   ],
   "source": [
    "mon_users = pd.read_csv('mon_users.csv')\n",
    "mon_users.head()"
   ]
  },
  {
   "cell_type": "code",
   "execution_count": 13,
   "metadata": {},
   "outputs": [
    {
     "data": {
      "text/html": [
       "<div>\n",
       "<style scoped>\n",
       "    .dataframe tbody tr th:only-of-type {\n",
       "        vertical-align: middle;\n",
       "    }\n",
       "\n",
       "    .dataframe tbody tr th {\n",
       "        vertical-align: top;\n",
       "    }\n",
       "\n",
       "    .dataframe thead th {\n",
       "        text-align: right;\n",
       "    }\n",
       "</style>\n",
       "<table border=\"1\" class=\"dataframe\">\n",
       "  <thead>\n",
       "    <tr style=\"text-align: right;\">\n",
       "      <th></th>\n",
       "      <th>review_count</th>\n",
       "      <th>useful</th>\n",
       "      <th>funny</th>\n",
       "      <th>cool</th>\n",
       "      <th>fans</th>\n",
       "      <th>average_stars</th>\n",
       "      <th>compliment_hot</th>\n",
       "      <th>compliment_more</th>\n",
       "      <th>compliment_profile</th>\n",
       "      <th>compliment_cute</th>\n",
       "      <th>compliment_list</th>\n",
       "      <th>compliment_note</th>\n",
       "      <th>compliment_plain</th>\n",
       "      <th>compliment_cool</th>\n",
       "      <th>compliment_funny</th>\n",
       "      <th>compliment_writer</th>\n",
       "      <th>compliment_photos</th>\n",
       "    </tr>\n",
       "  </thead>\n",
       "  <tbody>\n",
       "    <tr>\n",
       "      <th>0</th>\n",
       "      <td>20</td>\n",
       "      <td>0</td>\n",
       "      <td>0</td>\n",
       "      <td>0</td>\n",
       "      <td>0</td>\n",
       "      <td>4.13</td>\n",
       "      <td>0</td>\n",
       "      <td>0</td>\n",
       "      <td>0</td>\n",
       "      <td>0</td>\n",
       "      <td>0</td>\n",
       "      <td>0</td>\n",
       "      <td>0</td>\n",
       "      <td>1</td>\n",
       "      <td>1</td>\n",
       "      <td>0</td>\n",
       "      <td>0</td>\n",
       "    </tr>\n",
       "    <tr>\n",
       "      <th>1</th>\n",
       "      <td>33</td>\n",
       "      <td>4</td>\n",
       "      <td>0</td>\n",
       "      <td>0</td>\n",
       "      <td>0</td>\n",
       "      <td>3.35</td>\n",
       "      <td>0</td>\n",
       "      <td>0</td>\n",
       "      <td>0</td>\n",
       "      <td>0</td>\n",
       "      <td>0</td>\n",
       "      <td>0</td>\n",
       "      <td>0</td>\n",
       "      <td>0</td>\n",
       "      <td>0</td>\n",
       "      <td>0</td>\n",
       "      <td>0</td>\n",
       "    </tr>\n",
       "    <tr>\n",
       "      <th>2</th>\n",
       "      <td>91</td>\n",
       "      <td>5</td>\n",
       "      <td>0</td>\n",
       "      <td>1</td>\n",
       "      <td>2</td>\n",
       "      <td>3.88</td>\n",
       "      <td>1</td>\n",
       "      <td>1</td>\n",
       "      <td>0</td>\n",
       "      <td>0</td>\n",
       "      <td>0</td>\n",
       "      <td>1</td>\n",
       "      <td>5</td>\n",
       "      <td>5</td>\n",
       "      <td>5</td>\n",
       "      <td>5</td>\n",
       "      <td>0</td>\n",
       "    </tr>\n",
       "    <tr>\n",
       "      <th>3</th>\n",
       "      <td>125</td>\n",
       "      <td>4</td>\n",
       "      <td>0</td>\n",
       "      <td>6</td>\n",
       "      <td>5</td>\n",
       "      <td>3.97</td>\n",
       "      <td>5</td>\n",
       "      <td>0</td>\n",
       "      <td>0</td>\n",
       "      <td>0</td>\n",
       "      <td>0</td>\n",
       "      <td>1</td>\n",
       "      <td>2</td>\n",
       "      <td>10</td>\n",
       "      <td>10</td>\n",
       "      <td>2</td>\n",
       "      <td>2</td>\n",
       "    </tr>\n",
       "    <tr>\n",
       "      <th>4</th>\n",
       "      <td>322</td>\n",
       "      <td>2</td>\n",
       "      <td>2</td>\n",
       "      <td>2</td>\n",
       "      <td>15</td>\n",
       "      <td>4.05</td>\n",
       "      <td>7</td>\n",
       "      <td>0</td>\n",
       "      <td>0</td>\n",
       "      <td>2</td>\n",
       "      <td>0</td>\n",
       "      <td>1</td>\n",
       "      <td>9</td>\n",
       "      <td>7</td>\n",
       "      <td>7</td>\n",
       "      <td>6</td>\n",
       "      <td>5</td>\n",
       "    </tr>\n",
       "  </tbody>\n",
       "</table>\n",
       "</div>"
      ],
      "text/plain": [
       "   review_count  useful  funny  cool  fans  average_stars  compliment_hot  \\\n",
       "0            20       0      0     0     0           4.13               0   \n",
       "1            33       4      0     0     0           3.35               0   \n",
       "2            91       5      0     1     2           3.88               1   \n",
       "3           125       4      0     6     5           3.97               5   \n",
       "4           322       2      2     2    15           4.05               7   \n",
       "\n",
       "   compliment_more  compliment_profile  compliment_cute  compliment_list  \\\n",
       "0                0                   0                0                0   \n",
       "1                0                   0                0                0   \n",
       "2                1                   0                0                0   \n",
       "3                0                   0                0                0   \n",
       "4                0                   0                2                0   \n",
       "\n",
       "   compliment_note  compliment_plain  compliment_cool  compliment_funny  \\\n",
       "0                0                 0                1                 1   \n",
       "1                0                 0                0                 0   \n",
       "2                1                 5                5                 5   \n",
       "3                1                 2               10                10   \n",
       "4                1                 9                7                 7   \n",
       "\n",
       "   compliment_writer  compliment_photos  \n",
       "0                  0                  0  \n",
       "1                  0                  0  \n",
       "2                  5                  0  \n",
       "3                  2                  2  \n",
       "4                  6                  5  "
      ]
     },
     "execution_count": 13,
     "metadata": {},
     "output_type": "execute_result"
    }
   ],
   "source": [
    "users = mon_users.drop(['id', 'name', 'yelping_since'], axis=1)\n",
    "users.head()"
   ]
  },
  {
   "cell_type": "code",
   "execution_count": 14,
   "metadata": {},
   "outputs": [
    {
     "data": {
      "text/plain": [
       "(array([197, 311, 489]),)"
      ]
     },
     "execution_count": 14,
     "metadata": {},
     "output_type": "execute_result"
    }
   ],
   "source": [
    "from sklearn.preprocessing import StandardScaler\n",
    "from sklearn.cluster import KMeans, DBSCAN\n",
    "\n",
    "x = users.values\n",
    "scaler = StandardScaler()\n",
    "x = scaler.fit_transform(x)\n",
    "kmeans = KMeans(n_clusters=2, random_state=1).fit(x)\n",
    "pred = kmeans.predict(x)\n",
    "np.where(pred>0)"
   ]
  },
  {
   "cell_type": "code",
   "execution_count": 15,
   "metadata": {},
   "outputs": [
    {
     "data": {
      "text/plain": [
       "array([  9,  15,  54,  87, 119, 156, 177, 197, 214, 259, 296, 302, 311,\n",
       "       330, 333, 335, 368, 429, 489, 559, 562, 573])"
      ]
     },
     "execution_count": 15,
     "metadata": {},
     "output_type": "execute_result"
    }
   ],
   "source": [
    "#DBSCAN\n",
    "dbscan = DBSCAN(eps=2)\n",
    "pred = dbscan.fit_predict(x)\n",
    "influencers = np.where(pred==-1)[0]\n",
    "influencers"
   ]
  },
  {
   "cell_type": "code",
   "execution_count": 16,
   "metadata": {},
   "outputs": [],
   "source": [
    "influ = list(mon_users.iloc[influencers, :]['id'])"
   ]
  },
  {
   "cell_type": "code",
   "execution_count": 17,
   "metadata": {},
   "outputs": [
    {
     "data": {
      "text/html": [
       "<div>\n",
       "<style scoped>\n",
       "    .dataframe tbody tr th:only-of-type {\n",
       "        vertical-align: middle;\n",
       "    }\n",
       "\n",
       "    .dataframe tbody tr th {\n",
       "        vertical-align: top;\n",
       "    }\n",
       "\n",
       "    .dataframe thead th {\n",
       "        text-align: right;\n",
       "    }\n",
       "</style>\n",
       "<table border=\"1\" class=\"dataframe\">\n",
       "  <thead>\n",
       "    <tr style=\"text-align: right;\">\n",
       "      <th></th>\n",
       "      <th>id</th>\n",
       "      <th>business_id</th>\n",
       "      <th>user_id</th>\n",
       "      <th>stars</th>\n",
       "      <th>date</th>\n",
       "      <th>text</th>\n",
       "      <th>useful</th>\n",
       "      <th>funny</th>\n",
       "      <th>cool</th>\n",
       "      <th>year</th>\n",
       "      <th>month</th>\n",
       "    </tr>\n",
       "  </thead>\n",
       "  <tbody>\n",
       "    <tr>\n",
       "      <th>19</th>\n",
       "      <td>-BapNk1B4IuTDZUxKdbYnQ</td>\n",
       "      <td>4JNXUYY8wbaaDmk3BPzlWw</td>\n",
       "      <td>EMMKdK1cGrLSo08wgSYHJQ</td>\n",
       "      <td>3</td>\n",
       "      <td>2017-04-19</td>\n",
       "      <td>As much as people I know have raved about thei...</td>\n",
       "      <td>2</td>\n",
       "      <td>0</td>\n",
       "      <td>0</td>\n",
       "      <td>2017</td>\n",
       "      <td>4</td>\n",
       "    </tr>\n",
       "    <tr>\n",
       "      <th>44</th>\n",
       "      <td>-Lk8DRj59iWk09iXGugSmA</td>\n",
       "      <td>4JNXUYY8wbaaDmk3BPzlWw</td>\n",
       "      <td>q3eLont3I-8fBKbekmX_xg</td>\n",
       "      <td>5</td>\n",
       "      <td>2017-10-14</td>\n",
       "      <td>Love, love, love this place! We go every time ...</td>\n",
       "      <td>0</td>\n",
       "      <td>0</td>\n",
       "      <td>0</td>\n",
       "      <td>2017</td>\n",
       "      <td>10</td>\n",
       "    </tr>\n",
       "    <tr>\n",
       "      <th>47</th>\n",
       "      <td>-NQ4dmUjBjpauRmydtROHg</td>\n",
       "      <td>4JNXUYY8wbaaDmk3BPzlWw</td>\n",
       "      <td>EK8lYaib-nW6RH1VxapA-g</td>\n",
       "      <td>5</td>\n",
       "      <td>2017-01-30</td>\n",
       "      <td>Gotta hand it to them.. They get packed but ca...</td>\n",
       "      <td>0</td>\n",
       "      <td>0</td>\n",
       "      <td>0</td>\n",
       "      <td>2017</td>\n",
       "      <td>1</td>\n",
       "    </tr>\n",
       "    <tr>\n",
       "      <th>58</th>\n",
       "      <td>-tRXFjeMjpX7qAv1_EcT7g</td>\n",
       "      <td>4JNXUYY8wbaaDmk3BPzlWw</td>\n",
       "      <td>SRMOslD85xkPQzfMIUsQNQ</td>\n",
       "      <td>2</td>\n",
       "      <td>2017-04-23</td>\n",
       "      <td>We are here on a Saturday night. The atmospher...</td>\n",
       "      <td>0</td>\n",
       "      <td>0</td>\n",
       "      <td>0</td>\n",
       "      <td>2017</td>\n",
       "      <td>4</td>\n",
       "    </tr>\n",
       "    <tr>\n",
       "      <th>71</th>\n",
       "      <td>-YPzsFf8dzmVTRwekNnFDA</td>\n",
       "      <td>4JNXUYY8wbaaDmk3BPzlWw</td>\n",
       "      <td>WgRKynZBQSdrSYOCAf3JXg</td>\n",
       "      <td>2</td>\n",
       "      <td>2017-05-14</td>\n",
       "      <td>First had reservations and still had to wait 3...</td>\n",
       "      <td>0</td>\n",
       "      <td>0</td>\n",
       "      <td>0</td>\n",
       "      <td>2017</td>\n",
       "      <td>5</td>\n",
       "    </tr>\n",
       "  </tbody>\n",
       "</table>\n",
       "</div>"
      ],
      "text/plain": [
       "                        id             business_id                 user_id  \\\n",
       "19  -BapNk1B4IuTDZUxKdbYnQ  4JNXUYY8wbaaDmk3BPzlWw  EMMKdK1cGrLSo08wgSYHJQ   \n",
       "44  -Lk8DRj59iWk09iXGugSmA  4JNXUYY8wbaaDmk3BPzlWw  q3eLont3I-8fBKbekmX_xg   \n",
       "47  -NQ4dmUjBjpauRmydtROHg  4JNXUYY8wbaaDmk3BPzlWw  EK8lYaib-nW6RH1VxapA-g   \n",
       "58  -tRXFjeMjpX7qAv1_EcT7g  4JNXUYY8wbaaDmk3BPzlWw  SRMOslD85xkPQzfMIUsQNQ   \n",
       "71  -YPzsFf8dzmVTRwekNnFDA  4JNXUYY8wbaaDmk3BPzlWw  WgRKynZBQSdrSYOCAf3JXg   \n",
       "\n",
       "    stars       date                                               text  \\\n",
       "19      3 2017-04-19  As much as people I know have raved about thei...   \n",
       "44      5 2017-10-14  Love, love, love this place! We go every time ...   \n",
       "47      5 2017-01-30  Gotta hand it to them.. They get packed but ca...   \n",
       "58      2 2017-04-23  We are here on a Saturday night. The atmospher...   \n",
       "71      2 2017-05-14  First had reservations and still had to wait 3...   \n",
       "\n",
       "    useful  funny  cool  year  month  \n",
       "19       2      0     0  2017      4  \n",
       "44       0      0     0  2017     10  \n",
       "47       0      0     0  2017      1  \n",
       "58       0      0     0  2017      4  \n",
       "71       0      0     0  2017      5  "
      ]
     },
     "execution_count": 17,
     "metadata": {},
     "output_type": "execute_result"
    }
   ],
   "source": [
    "reviews.head()"
   ]
  },
  {
   "cell_type": "code",
   "execution_count": 18,
   "metadata": {},
   "outputs": [
    {
     "data": {
      "text/html": [
       "<div>\n",
       "<style scoped>\n",
       "    .dataframe tbody tr th:only-of-type {\n",
       "        vertical-align: middle;\n",
       "    }\n",
       "\n",
       "    .dataframe tbody tr th {\n",
       "        vertical-align: top;\n",
       "    }\n",
       "\n",
       "    .dataframe thead th {\n",
       "        text-align: right;\n",
       "    }\n",
       "</style>\n",
       "<table border=\"1\" class=\"dataframe\">\n",
       "  <thead>\n",
       "    <tr style=\"text-align: right;\">\n",
       "      <th></th>\n",
       "      <th>id</th>\n",
       "      <th>business_id</th>\n",
       "      <th>user_id</th>\n",
       "      <th>date</th>\n",
       "      <th>text</th>\n",
       "      <th>useful</th>\n",
       "      <th>funny</th>\n",
       "      <th>cool</th>\n",
       "      <th>year</th>\n",
       "      <th>month</th>\n",
       "    </tr>\n",
       "    <tr>\n",
       "      <th>stars</th>\n",
       "      <th></th>\n",
       "      <th></th>\n",
       "      <th></th>\n",
       "      <th></th>\n",
       "      <th></th>\n",
       "      <th></th>\n",
       "      <th></th>\n",
       "      <th></th>\n",
       "      <th></th>\n",
       "      <th></th>\n",
       "    </tr>\n",
       "  </thead>\n",
       "  <tbody>\n",
       "    <tr>\n",
       "      <th>1</th>\n",
       "      <td>5</td>\n",
       "      <td>5</td>\n",
       "      <td>5</td>\n",
       "      <td>5</td>\n",
       "      <td>5</td>\n",
       "      <td>5</td>\n",
       "      <td>5</td>\n",
       "      <td>5</td>\n",
       "      <td>5</td>\n",
       "      <td>5</td>\n",
       "    </tr>\n",
       "    <tr>\n",
       "      <th>2</th>\n",
       "      <td>13</td>\n",
       "      <td>13</td>\n",
       "      <td>13</td>\n",
       "      <td>13</td>\n",
       "      <td>13</td>\n",
       "      <td>13</td>\n",
       "      <td>13</td>\n",
       "      <td>13</td>\n",
       "      <td>13</td>\n",
       "      <td>13</td>\n",
       "    </tr>\n",
       "    <tr>\n",
       "      <th>3</th>\n",
       "      <td>22</td>\n",
       "      <td>22</td>\n",
       "      <td>22</td>\n",
       "      <td>22</td>\n",
       "      <td>22</td>\n",
       "      <td>22</td>\n",
       "      <td>22</td>\n",
       "      <td>22</td>\n",
       "      <td>22</td>\n",
       "      <td>22</td>\n",
       "    </tr>\n",
       "    <tr>\n",
       "      <th>4</th>\n",
       "      <td>43</td>\n",
       "      <td>43</td>\n",
       "      <td>43</td>\n",
       "      <td>43</td>\n",
       "      <td>43</td>\n",
       "      <td>43</td>\n",
       "      <td>43</td>\n",
       "      <td>43</td>\n",
       "      <td>43</td>\n",
       "      <td>43</td>\n",
       "    </tr>\n",
       "    <tr>\n",
       "      <th>5</th>\n",
       "      <td>64</td>\n",
       "      <td>64</td>\n",
       "      <td>64</td>\n",
       "      <td>64</td>\n",
       "      <td>64</td>\n",
       "      <td>64</td>\n",
       "      <td>64</td>\n",
       "      <td>64</td>\n",
       "      <td>64</td>\n",
       "      <td>64</td>\n",
       "    </tr>\n",
       "  </tbody>\n",
       "</table>\n",
       "</div>"
      ],
      "text/plain": [
       "       id  business_id  user_id  date  text  useful  funny  cool  year  month\n",
       "stars                                                                        \n",
       "1       5            5        5     5     5       5      5     5     5      5\n",
       "2      13           13       13    13    13      13     13    13    13     13\n",
       "3      22           22       22    22    22      22     22    22    22     22\n",
       "4      43           43       43    43    43      43     43    43    43     43\n",
       "5      64           64       64    64    64      64     64    64    64     64"
      ]
     },
     "execution_count": 18,
     "metadata": {},
     "output_type": "execute_result"
    }
   ],
   "source": [
    "reviews[(reviews['month'].isin([8,9,10])) & (reviews['year']==2017)].groupby(\"stars\").count()"
   ]
  },
  {
   "cell_type": "code",
   "execution_count": 19,
   "metadata": {},
   "outputs": [
    {
     "data": {
      "text/html": [
       "<div>\n",
       "<style scoped>\n",
       "    .dataframe tbody tr th:only-of-type {\n",
       "        vertical-align: middle;\n",
       "    }\n",
       "\n",
       "    .dataframe tbody tr th {\n",
       "        vertical-align: top;\n",
       "    }\n",
       "\n",
       "    .dataframe thead th {\n",
       "        text-align: right;\n",
       "    }\n",
       "</style>\n",
       "<table border=\"1\" class=\"dataframe\">\n",
       "  <thead>\n",
       "    <tr style=\"text-align: right;\">\n",
       "      <th></th>\n",
       "      <th>id</th>\n",
       "      <th>business_id</th>\n",
       "      <th>user_id</th>\n",
       "      <th>date</th>\n",
       "      <th>text</th>\n",
       "      <th>useful</th>\n",
       "      <th>funny</th>\n",
       "      <th>cool</th>\n",
       "      <th>year</th>\n",
       "      <th>month</th>\n",
       "    </tr>\n",
       "    <tr>\n",
       "      <th>stars</th>\n",
       "      <th></th>\n",
       "      <th></th>\n",
       "      <th></th>\n",
       "      <th></th>\n",
       "      <th></th>\n",
       "      <th></th>\n",
       "      <th></th>\n",
       "      <th></th>\n",
       "      <th></th>\n",
       "      <th></th>\n",
       "    </tr>\n",
       "  </thead>\n",
       "  <tbody>\n",
       "    <tr>\n",
       "      <th>1</th>\n",
       "      <td>4</td>\n",
       "      <td>4</td>\n",
       "      <td>4</td>\n",
       "      <td>4</td>\n",
       "      <td>4</td>\n",
       "      <td>4</td>\n",
       "      <td>4</td>\n",
       "      <td>4</td>\n",
       "      <td>4</td>\n",
       "      <td>4</td>\n",
       "    </tr>\n",
       "    <tr>\n",
       "      <th>2</th>\n",
       "      <td>2</td>\n",
       "      <td>2</td>\n",
       "      <td>2</td>\n",
       "      <td>2</td>\n",
       "      <td>2</td>\n",
       "      <td>2</td>\n",
       "      <td>2</td>\n",
       "      <td>2</td>\n",
       "      <td>2</td>\n",
       "      <td>2</td>\n",
       "    </tr>\n",
       "    <tr>\n",
       "      <th>3</th>\n",
       "      <td>6</td>\n",
       "      <td>6</td>\n",
       "      <td>6</td>\n",
       "      <td>6</td>\n",
       "      <td>6</td>\n",
       "      <td>6</td>\n",
       "      <td>6</td>\n",
       "      <td>6</td>\n",
       "      <td>6</td>\n",
       "      <td>6</td>\n",
       "    </tr>\n",
       "    <tr>\n",
       "      <th>4</th>\n",
       "      <td>34</td>\n",
       "      <td>34</td>\n",
       "      <td>34</td>\n",
       "      <td>34</td>\n",
       "      <td>34</td>\n",
       "      <td>34</td>\n",
       "      <td>34</td>\n",
       "      <td>34</td>\n",
       "      <td>34</td>\n",
       "      <td>34</td>\n",
       "    </tr>\n",
       "    <tr>\n",
       "      <th>5</th>\n",
       "      <td>58</td>\n",
       "      <td>58</td>\n",
       "      <td>58</td>\n",
       "      <td>58</td>\n",
       "      <td>58</td>\n",
       "      <td>58</td>\n",
       "      <td>58</td>\n",
       "      <td>58</td>\n",
       "      <td>58</td>\n",
       "      <td>58</td>\n",
       "    </tr>\n",
       "  </tbody>\n",
       "</table>\n",
       "</div>"
      ],
      "text/plain": [
       "       id  business_id  user_id  date  text  useful  funny  cool  year  month\n",
       "stars                                                                        \n",
       "1       4            4        4     4     4       4      4     4     4      4\n",
       "2       2            2        2     2     2       2      2     2     2      2\n",
       "3       6            6        6     6     6       6      6     6     6      6\n",
       "4      34           34       34    34    34      34     34    34    34     34\n",
       "5      58           58       58    58    58      58     58    58    58     58"
      ]
     },
     "execution_count": 19,
     "metadata": {},
     "output_type": "execute_result"
    }
   ],
   "source": [
    "reviews[(reviews['month'].isin([6,7])) & (reviews['year']==2017)].groupby(\"stars\").count()"
   ]
  },
  {
   "cell_type": "code",
   "execution_count": 21,
   "metadata": {
    "scrolled": false
   },
   "outputs": [
    {
     "name": "stderr",
     "output_type": "stream",
     "text": [
      "100%|██████████| 5/5 [01:03<00:00, 12.70s/it]\n"
     ]
    }
   ],
   "source": [
    "#reading reviews files for all 5 top restaurants\n",
    "files = glob.glob('*.html')\n",
    "df = pd.DataFrame()\n",
    "for file in tqdm(files):\n",
    "    reviews = pd.read_html(file, header=0)[0]\n",
    "    if df.shape[0] == 0:\n",
    "        df = reviews\n",
    "    else:\n",
    "        df = df.append(reviews)"
   ]
  },
  {
   "cell_type": "code",
   "execution_count": 22,
   "metadata": {},
   "outputs": [
    {
     "data": {
      "text/plain": [
       "(22671, 9)"
      ]
     },
     "execution_count": 22,
     "metadata": {},
     "output_type": "execute_result"
    }
   ],
   "source": [
    "df.shape"
   ]
  },
  {
   "cell_type": "code",
   "execution_count": 23,
   "metadata": {
    "scrolled": true
   },
   "outputs": [
    {
     "data": {
      "text/html": [
       "<div>\n",
       "<style scoped>\n",
       "    .dataframe tbody tr th:only-of-type {\n",
       "        vertical-align: middle;\n",
       "    }\n",
       "\n",
       "    .dataframe tbody tr th {\n",
       "        vertical-align: top;\n",
       "    }\n",
       "\n",
       "    .dataframe thead th {\n",
       "        text-align: right;\n",
       "    }\n",
       "</style>\n",
       "<table border=\"1\" class=\"dataframe\">\n",
       "  <thead>\n",
       "    <tr style=\"text-align: right;\">\n",
       "      <th></th>\n",
       "      <th>id</th>\n",
       "      <th>business_id</th>\n",
       "      <th>user_id</th>\n",
       "      <th>stars</th>\n",
       "      <th>date</th>\n",
       "      <th>text</th>\n",
       "      <th>useful</th>\n",
       "      <th>funny</th>\n",
       "      <th>cool</th>\n",
       "    </tr>\n",
       "  </thead>\n",
       "  <tbody>\n",
       "    <tr>\n",
       "      <th>0</th>\n",
       "      <td>--1h6ROOo2XEsLQK8uKvaQ</td>\n",
       "      <td>RESDUcs7fIiihp38-d6_6g</td>\n",
       "      <td>2rMCI2OU7ZIusbjnXGomdQ</td>\n",
       "      <td>4</td>\n",
       "      <td>2016-02-14 00:00:00</td>\n",
       "      <td>Mind you the wait time could be loooong! So br...</td>\n",
       "      <td>0</td>\n",
       "      <td>0</td>\n",
       "      <td>0</td>\n",
       "    </tr>\n",
       "    <tr>\n",
       "      <th>1</th>\n",
       "      <td>-28T41kjGIKfapLuPvS9Ow</td>\n",
       "      <td>RESDUcs7fIiihp38-d6_6g</td>\n",
       "      <td>QVrLRR_Q-gPq4EinMochpw</td>\n",
       "      <td>5</td>\n",
       "      <td>2015-02-12 00:00:00</td>\n",
       "      <td>Best in Las Vegas for a reason. Bacchanal seem...</td>\n",
       "      <td>0</td>\n",
       "      <td>0</td>\n",
       "      <td>0</td>\n",
       "    </tr>\n",
       "    <tr>\n",
       "      <th>2</th>\n",
       "      <td>-3EMV8zNQvOuWMjlddQeIQ</td>\n",
       "      <td>RESDUcs7fIiihp38-d6_6g</td>\n",
       "      <td>6HWYZmkibLA935-p3ACkRQ</td>\n",
       "      <td>1</td>\n",
       "      <td>2016-07-09 00:00:00</td>\n",
       "      <td>Wow! It was a huge disappointing experience at...</td>\n",
       "      <td>0</td>\n",
       "      <td>1</td>\n",
       "      <td>0</td>\n",
       "    </tr>\n",
       "    <tr>\n",
       "      <th>3</th>\n",
       "      <td>-3RQaujJxVDppbCWVLiJog</td>\n",
       "      <td>RESDUcs7fIiihp38-d6_6g</td>\n",
       "      <td>mC-Nq-FfHJb-8OTWOh0pxw</td>\n",
       "      <td>5</td>\n",
       "      <td>2014-01-04 00:00:00</td>\n",
       "      <td>Hands down one of the best buffets I've had in...</td>\n",
       "      <td>1</td>\n",
       "      <td>0</td>\n",
       "      <td>0</td>\n",
       "    </tr>\n",
       "    <tr>\n",
       "      <th>4</th>\n",
       "      <td>-4eA3A6hd1Ic29GmHthLdA</td>\n",
       "      <td>RESDUcs7fIiihp38-d6_6g</td>\n",
       "      <td>q448ePtKZhlma-AqG_Z97g</td>\n",
       "      <td>3</td>\n",
       "      <td>2016-11-30 00:00:00</td>\n",
       "      <td>First time trying out this place and it's okay...</td>\n",
       "      <td>0</td>\n",
       "      <td>0</td>\n",
       "      <td>1</td>\n",
       "    </tr>\n",
       "  </tbody>\n",
       "</table>\n",
       "</div>"
      ],
      "text/plain": [
       "                       id             business_id                 user_id  \\\n",
       "0  --1h6ROOo2XEsLQK8uKvaQ  RESDUcs7fIiihp38-d6_6g  2rMCI2OU7ZIusbjnXGomdQ   \n",
       "1  -28T41kjGIKfapLuPvS9Ow  RESDUcs7fIiihp38-d6_6g  QVrLRR_Q-gPq4EinMochpw   \n",
       "2  -3EMV8zNQvOuWMjlddQeIQ  RESDUcs7fIiihp38-d6_6g  6HWYZmkibLA935-p3ACkRQ   \n",
       "3  -3RQaujJxVDppbCWVLiJog  RESDUcs7fIiihp38-d6_6g  mC-Nq-FfHJb-8OTWOh0pxw   \n",
       "4  -4eA3A6hd1Ic29GmHthLdA  RESDUcs7fIiihp38-d6_6g  q448ePtKZhlma-AqG_Z97g   \n",
       "\n",
       "   stars                 date  \\\n",
       "0      4  2016-02-14 00:00:00   \n",
       "1      5  2015-02-12 00:00:00   \n",
       "2      1  2016-07-09 00:00:00   \n",
       "3      5  2014-01-04 00:00:00   \n",
       "4      3  2016-11-30 00:00:00   \n",
       "\n",
       "                                                text  useful  funny  cool  \n",
       "0  Mind you the wait time could be loooong! So br...       0      0     0  \n",
       "1  Best in Las Vegas for a reason. Bacchanal seem...       0      0     0  \n",
       "2  Wow! It was a huge disappointing experience at...       0      1     0  \n",
       "3  Hands down one of the best buffets I've had in...       1      0     0  \n",
       "4  First time trying out this place and it's okay...       0      0     1  "
      ]
     },
     "execution_count": 23,
     "metadata": {},
     "output_type": "execute_result"
    }
   ],
   "source": [
    "df.head()"
   ]
  },
  {
   "cell_type": "code",
   "execution_count": 24,
   "metadata": {
    "scrolled": false
   },
   "outputs": [
    {
     "data": {
      "text/plain": [
       "Text(0,0.5,'Count')"
      ]
     },
     "execution_count": 24,
     "metadata": {},
     "output_type": "execute_result"
    },
    {
     "data": {
      "image/png": "[encoded data removed]",
      "text/plain": [
       "<Figure size 432x288 with 1 Axes>"
      ]
     },
     "metadata": {},
     "output_type": "display_data"
    }
   ],
   "source": [
    "b_ids = df['business_id'].unique()\n",
    "restaurants = pd.read_csv('restaurants.csv')\n",
    "names = restaurants[restaurants['id'].isin(b_ids)]\n",
    "data = pd.merge(df, names, left_on=['business_id'], right_on = ['id'], how = 'inner')\n",
    "data = data.groupby('name')['useful', 'funny', 'cool'].sum()\n",
    "data['total'] = data.sum(axis=1)\n",
    "data.sort_values(by='total', ascending=False, inplace=True)\n",
    "ax = data.iloc[:,:-1].plot(kind='bar', stacked=True)\n",
    "ax.set_title('Distribution of Useful, Funny, and Cool reviews')\n",
    "ax.set_xlabel('Restaurants')\n",
    "ax.set_ylabel('Count')"
   ]
  },
  {
   "cell_type": "code",
   "execution_count": 20,
   "metadata": {
    "scrolled": false
   },
   "outputs": [
    {
     "name": "stdout",
     "output_type": "stream",
     "text": [
      "18591\n"
     ]
    }
   ],
   "source": [
    "## print all users to \n",
    "l = df['user_id'].unique()\n",
    "print(len(l))\n",
    "with open(\"temp.txt\",\"w\") as outfile:\n",
    "    for item in l:\n",
    "        outfile.write(\"\\'%s\\',\\n\"% item)"
   ]
  },
  {
   "cell_type": "code",
   "execution_count": 21,
   "metadata": {},
   "outputs": [
    {
     "data": {
      "text/plain": [
       "(18591,)"
      ]
     },
     "execution_count": 21,
     "metadata": {},
     "output_type": "execute_result"
    }
   ],
   "source": [
    "df['user_id'].unique().shape"
   ]
  },
  {
   "cell_type": "code",
   "execution_count": 22,
   "metadata": {},
   "outputs": [
    {
     "data": {
      "text/plain": [
       "(579,)"
      ]
     },
     "execution_count": 22,
     "metadata": {},
     "output_type": "execute_result"
    }
   ],
   "source": [
    "mon_users['id'].unique().shape"
   ]
  },
  {
   "cell_type": "code",
   "execution_count": 83,
   "metadata": {},
   "outputs": [
    {
     "name": "stdout",
     "output_type": "stream",
     "text": [
      "(18591, 20)\n"
     ]
    },
    {
     "data": {
      "text/html": [
       "<div>\n",
       "<style scoped>\n",
       "    .dataframe tbody tr th:only-of-type {\n",
       "        vertical-align: middle;\n",
       "    }\n",
       "\n",
       "    .dataframe tbody tr th {\n",
       "        vertical-align: top;\n",
       "    }\n",
       "\n",
       "    .dataframe thead th {\n",
       "        text-align: right;\n",
       "    }\n",
       "</style>\n",
       "<table border=\"1\" class=\"dataframe\">\n",
       "  <thead>\n",
       "    <tr style=\"text-align: right;\">\n",
       "      <th></th>\n",
       "      <th>review_count</th>\n",
       "      <th>useful</th>\n",
       "      <th>funny</th>\n",
       "      <th>cool</th>\n",
       "      <th>fans</th>\n",
       "      <th>average_stars</th>\n",
       "      <th>compliment_hot</th>\n",
       "      <th>compliment_more</th>\n",
       "      <th>compliment_profile</th>\n",
       "      <th>compliment_cute</th>\n",
       "      <th>compliment_list</th>\n",
       "      <th>compliment_note</th>\n",
       "      <th>compliment_plain</th>\n",
       "      <th>compliment_cool</th>\n",
       "      <th>compliment_funny</th>\n",
       "      <th>compliment_writer</th>\n",
       "      <th>compliment_photos</th>\n",
       "    </tr>\n",
       "  </thead>\n",
       "  <tbody>\n",
       "    <tr>\n",
       "      <th>2840</th>\n",
       "      <td>7764</td>\n",
       "      <td>123</td>\n",
       "      <td>139</td>\n",
       "      <td>113</td>\n",
       "      <td>272</td>\n",
       "      <td>3.49</td>\n",
       "      <td>36</td>\n",
       "      <td>23</td>\n",
       "      <td>7</td>\n",
       "      <td>4</td>\n",
       "      <td>14</td>\n",
       "      <td>137</td>\n",
       "      <td>219</td>\n",
       "      <td>97</td>\n",
       "      <td>97</td>\n",
       "      <td>67</td>\n",
       "      <td>78</td>\n",
       "    </tr>\n",
       "    <tr>\n",
       "      <th>7485</th>\n",
       "      <td>5344</td>\n",
       "      <td>3905</td>\n",
       "      <td>3876</td>\n",
       "      <td>3847</td>\n",
       "      <td>397</td>\n",
       "      <td>3.93</td>\n",
       "      <td>2104</td>\n",
       "      <td>183</td>\n",
       "      <td>246</td>\n",
       "      <td>113</td>\n",
       "      <td>232</td>\n",
       "      <td>1028</td>\n",
       "      <td>6677</td>\n",
       "      <td>3624</td>\n",
       "      <td>3624</td>\n",
       "      <td>1165</td>\n",
       "      <td>338</td>\n",
       "    </tr>\n",
       "    <tr>\n",
       "      <th>7807</th>\n",
       "      <td>8353</td>\n",
       "      <td>22628</td>\n",
       "      <td>19263</td>\n",
       "      <td>19369</td>\n",
       "      <td>417</td>\n",
       "      <td>3.58</td>\n",
       "      <td>1294</td>\n",
       "      <td>379</td>\n",
       "      <td>252</td>\n",
       "      <td>19</td>\n",
       "      <td>39</td>\n",
       "      <td>708</td>\n",
       "      <td>2312</td>\n",
       "      <td>1797</td>\n",
       "      <td>1797</td>\n",
       "      <td>933</td>\n",
       "      <td>819</td>\n",
       "    </tr>\n",
       "    <tr>\n",
       "      <th>17081</th>\n",
       "      <td>6653</td>\n",
       "      <td>1444</td>\n",
       "      <td>1142</td>\n",
       "      <td>1167</td>\n",
       "      <td>237</td>\n",
       "      <td>3.32</td>\n",
       "      <td>92</td>\n",
       "      <td>39</td>\n",
       "      <td>12</td>\n",
       "      <td>2</td>\n",
       "      <td>1</td>\n",
       "      <td>208</td>\n",
       "      <td>496</td>\n",
       "      <td>288</td>\n",
       "      <td>288</td>\n",
       "      <td>78</td>\n",
       "      <td>89</td>\n",
       "    </tr>\n",
       "  </tbody>\n",
       "</table>\n",
       "</div>"
      ],
      "text/plain": [
       "       review_count  useful  funny   cool  fans  average_stars  \\\n",
       "2840           7764     123    139    113   272           3.49   \n",
       "7485           5344    3905   3876   3847   397           3.93   \n",
       "7807           8353   22628  19263  19369   417           3.58   \n",
       "17081          6653    1444   1142   1167   237           3.32   \n",
       "\n",
       "       compliment_hot  compliment_more  compliment_profile  compliment_cute  \\\n",
       "2840               36               23                   7                4   \n",
       "7485             2104              183                 246              113   \n",
       "7807             1294              379                 252               19   \n",
       "17081              92               39                  12                2   \n",
       "\n",
       "       compliment_list  compliment_note  compliment_plain  compliment_cool  \\\n",
       "2840                14              137               219               97   \n",
       "7485               232             1028              6677             3624   \n",
       "7807                39              708              2312             1797   \n",
       "17081                1              208               496              288   \n",
       "\n",
       "       compliment_funny  compliment_writer  compliment_photos  \n",
       "2840                 97                 67                 78  \n",
       "7485               3624               1165                338  \n",
       "7807               1797                933                819  \n",
       "17081               288                 78                 89  "
      ]
     },
     "execution_count": 83,
     "metadata": {},
     "output_type": "execute_result"
    }
   ],
   "source": [
    "### read all user data\n",
    "all_users = pd.read_csv(\"top_rated_res_user.csv\", sep = \",\")\n",
    "print(all_users.shape)\n",
    "users = all_users.drop(['id', 'name', 'yelping_since'], axis=1)\n",
    "users[users['review_count'] > 5000]"
   ]
  },
  {
   "cell_type": "markdown",
   "metadata": {},
   "source": [
    "## Clustering analysis to find outlying users across 5 most reviewed restaurants"
   ]
  },
  {
   "cell_type": "code",
   "execution_count": 73,
   "metadata": {},
   "outputs": [
    {
     "name": "stdout",
     "output_type": "stream",
     "text": [
      "{0, 1}\n",
      "cluster = 0 18564\n",
      "cluster = 1 27\n"
     ]
    }
   ],
   "source": [
    "from sklearn.preprocessing import StandardScaler\n",
    "from sklearn.cluster import KMeans, DBSCAN\n",
    "\n",
    "x = users.values\n",
    "scaler = StandardScaler()\n",
    "x = scaler.fit_transform(x)\n",
    "kmeans = KMeans(n_clusters=2, random_state=1).fit(x)\n",
    "pred = kmeans.predict(x)\n",
    "print(set(pred))\n",
    "print(\"cluster = 0\", len(pred[np.where(pred == 0)[0]]) )\n",
    "print(\"cluster = 1\", len(pred[np.where(pred == 1)[0]]) )\n",
    "# we see that the class 1 are outliers"
   ]
  },
  {
   "cell_type": "code",
   "execution_count": 74,
   "metadata": {},
   "outputs": [
    {
     "data": {
      "text/html": [
       "<div>\n",
       "<style scoped>\n",
       "    .dataframe tbody tr th:only-of-type {\n",
       "        vertical-align: middle;\n",
       "    }\n",
       "\n",
       "    .dataframe tbody tr th {\n",
       "        vertical-align: top;\n",
       "    }\n",
       "\n",
       "    .dataframe thead th {\n",
       "        text-align: right;\n",
       "    }\n",
       "</style>\n",
       "<table border=\"1\" class=\"dataframe\">\n",
       "  <thead>\n",
       "    <tr style=\"text-align: right;\">\n",
       "      <th></th>\n",
       "      <th>review_count</th>\n",
       "      <th>useful</th>\n",
       "      <th>funny</th>\n",
       "      <th>cool</th>\n",
       "      <th>fans</th>\n",
       "      <th>average_stars</th>\n",
       "      <th>compliment_hot</th>\n",
       "      <th>compliment_more</th>\n",
       "      <th>compliment_profile</th>\n",
       "      <th>compliment_cute</th>\n",
       "      <th>compliment_list</th>\n",
       "      <th>compliment_note</th>\n",
       "      <th>compliment_plain</th>\n",
       "      <th>compliment_cool</th>\n",
       "      <th>compliment_funny</th>\n",
       "      <th>compliment_writer</th>\n",
       "      <th>compliment_photos</th>\n",
       "    </tr>\n",
       "  </thead>\n",
       "  <tbody>\n",
       "    <tr>\n",
       "      <th>16073</th>\n",
       "      <td>2688</td>\n",
       "      <td>36573</td>\n",
       "      <td>36094</td>\n",
       "      <td>35824</td>\n",
       "      <td>935</td>\n",
       "      <td>3.09</td>\n",
       "      <td>10157</td>\n",
       "      <td>1562</td>\n",
       "      <td>844</td>\n",
       "      <td>598</td>\n",
       "      <td>457</td>\n",
       "      <td>5885</td>\n",
       "      <td>7113</td>\n",
       "      <td>13240</td>\n",
       "      <td>13240</td>\n",
       "      <td>5299</td>\n",
       "      <td>7130</td>\n",
       "    </tr>\n",
       "    <tr>\n",
       "      <th>16085</th>\n",
       "      <td>1167</td>\n",
       "      <td>31406</td>\n",
       "      <td>31284</td>\n",
       "      <td>31279</td>\n",
       "      <td>402</td>\n",
       "      <td>3.82</td>\n",
       "      <td>6466</td>\n",
       "      <td>360</td>\n",
       "      <td>422</td>\n",
       "      <td>159</td>\n",
       "      <td>74</td>\n",
       "      <td>1461</td>\n",
       "      <td>3100</td>\n",
       "      <td>5638</td>\n",
       "      <td>5638</td>\n",
       "      <td>2878</td>\n",
       "      <td>3127</td>\n",
       "    </tr>\n",
       "    <tr>\n",
       "      <th>17580</th>\n",
       "      <td>3253</td>\n",
       "      <td>48621</td>\n",
       "      <td>29166</td>\n",
       "      <td>38033</td>\n",
       "      <td>1266</td>\n",
       "      <td>3.42</td>\n",
       "      <td>2832</td>\n",
       "      <td>315</td>\n",
       "      <td>348</td>\n",
       "      <td>126</td>\n",
       "      <td>220</td>\n",
       "      <td>2968</td>\n",
       "      <td>11276</td>\n",
       "      <td>5481</td>\n",
       "      <td>5481</td>\n",
       "      <td>1251</td>\n",
       "      <td>451</td>\n",
       "    </tr>\n",
       "    <tr>\n",
       "      <th>17617</th>\n",
       "      <td>3172</td>\n",
       "      <td>12558</td>\n",
       "      <td>11284</td>\n",
       "      <td>14958</td>\n",
       "      <td>595</td>\n",
       "      <td>3.57</td>\n",
       "      <td>3806</td>\n",
       "      <td>252</td>\n",
       "      <td>259</td>\n",
       "      <td>140</td>\n",
       "      <td>153</td>\n",
       "      <td>2296</td>\n",
       "      <td>7056</td>\n",
       "      <td>4847</td>\n",
       "      <td>4847</td>\n",
       "      <td>1800</td>\n",
       "      <td>874</td>\n",
       "    </tr>\n",
       "    <tr>\n",
       "      <th>17809</th>\n",
       "      <td>2159</td>\n",
       "      <td>24482</td>\n",
       "      <td>24027</td>\n",
       "      <td>25391</td>\n",
       "      <td>567</td>\n",
       "      <td>3.83</td>\n",
       "      <td>18812</td>\n",
       "      <td>1013</td>\n",
       "      <td>1543</td>\n",
       "      <td>1443</td>\n",
       "      <td>357</td>\n",
       "      <td>3038</td>\n",
       "      <td>6724</td>\n",
       "      <td>11404</td>\n",
       "      <td>11404</td>\n",
       "      <td>4222</td>\n",
       "      <td>6771</td>\n",
       "    </tr>\n",
       "  </tbody>\n",
       "</table>\n",
       "</div>"
      ],
      "text/plain": [
       "       review_count  useful  funny   cool  fans  average_stars  \\\n",
       "16073          2688   36573  36094  35824   935           3.09   \n",
       "16085          1167   31406  31284  31279   402           3.82   \n",
       "17580          3253   48621  29166  38033  1266           3.42   \n",
       "17617          3172   12558  11284  14958   595           3.57   \n",
       "17809          2159   24482  24027  25391   567           3.83   \n",
       "\n",
       "       compliment_hot  compliment_more  compliment_profile  compliment_cute  \\\n",
       "16073           10157             1562                 844              598   \n",
       "16085            6466              360                 422              159   \n",
       "17580            2832              315                 348              126   \n",
       "17617            3806              252                 259              140   \n",
       "17809           18812             1013                1543             1443   \n",
       "\n",
       "       compliment_list  compliment_note  compliment_plain  compliment_cool  \\\n",
       "16073              457             5885              7113            13240   \n",
       "16085               74             1461              3100             5638   \n",
       "17580              220             2968             11276             5481   \n",
       "17617              153             2296              7056             4847   \n",
       "17809              357             3038              6724            11404   \n",
       "\n",
       "       compliment_funny  compliment_writer  compliment_photos  \n",
       "16073             13240               5299               7130  \n",
       "16085              5638               2878               3127  \n",
       "17580              5481               1251                451  \n",
       "17617              4847               1800                874  \n",
       "17809             11404               4222               6771  "
      ]
     },
     "execution_count": 74,
     "metadata": {},
     "output_type": "execute_result"
    }
   ],
   "source": [
    "## analysing outliers in detail\n",
    "outliers = np.where(pred == 1)[0]\n",
    "users.iloc[outliers,:].tail()"
   ]
  },
  {
   "cell_type": "code",
   "execution_count": 75,
   "metadata": {},
   "outputs": [
    {
     "name": "stdout",
     "output_type": "stream",
     "text": [
      "Variance Explained : 0.759036628359894 [0.68402683 0.0750098 ]\n"
     ]
    }
   ],
   "source": [
    "from sklearn.decomposition import PCA\n",
    "pca = PCA(n_components = 2)\n",
    "x_red = pca.fit_transform(x)\n",
    "print(\"Variance Explained :\", np.sum(pca.explained_variance_ratio_), pca.explained_variance_ratio_)"
   ]
  },
  {
   "cell_type": "code",
   "execution_count": 76,
   "metadata": {
    "scrolled": true
   },
   "outputs": [
    {
     "data": {
      "text/plain": [
       "<matplotlib.collections.PathCollection at 0x7f880d549dd8>"
      ]
     },
     "execution_count": 76,
     "metadata": {},
     "output_type": "execute_result"
    },
    {
     "data": {
      "image/png": "[encoded data removed]",
      "text/plain": [
       "<Figure size 432x288 with 1 Axes>"
      ]
     },
     "metadata": {},
     "output_type": "display_data"
    }
   ],
   "source": [
    "color = ['r' if c == 1 else 'b' for c in pred]\n",
    "plt.scatter(x = x_red[:,0], y = x_red[:,1], c= color)"
   ]
  },
  {
   "cell_type": "code",
   "execution_count": 77,
   "metadata": {
    "scrolled": true
   },
   "outputs": [
    {
     "name": "stdout",
     "output_type": "stream",
     "text": [
      "{0, -1}\n",
      "cluster = 0 12982\n",
      "cluster = 1 0\n",
      "cluster = -1 5609\n"
     ]
    }
   ],
   "source": [
    "x = users.values\n",
    "scaler = StandardScaler()\n",
    "x = scaler.fit_transform(x)\n",
    "dbscan = DBSCAN(min_samples=20, eps = 0.01, metric=\"cosine\", algorithm='brute').fit(x)\n",
    "pred = dbscan.fit_predict(x)\n",
    "print(set(pred))\n",
    "print(\"cluster = 0\", len(pred[np.where(pred == 0)[0]]) )\n",
    "print(\"cluster = 1\", len(pred[np.where(pred == 1)[0]]) )\n",
    "print(\"cluster = -1\", len(pred[np.where(pred == -1)[0]]) )"
   ]
  },
  {
   "cell_type": "code",
   "execution_count": 78,
   "metadata": {},
   "outputs": [
    {
     "data": {
      "text/plain": [
       "<matplotlib.collections.PathCollection at 0x7f880d60b4a8>"
      ]
     },
     "execution_count": 78,
     "metadata": {},
     "output_type": "execute_result"
    },
    {
     "data": {
      "image/png": "[encoded data removed]",
      "text/plain": [
       "<Figure size 432x288 with 1 Axes>"
      ]
     },
     "metadata": {},
     "output_type": "display_data"
    }
   ],
   "source": [
    "# print(list(pred))\n",
    "color = ['r' if c == -1 else 'b' for c in pred]\n",
    "plt.scatter(x = x_red[:,0], y = x_red[:,1], c= color)"
   ]
  },
  {
   "cell_type": "code",
   "execution_count": 79,
   "metadata": {},
   "outputs": [],
   "source": [
    "# from sklearn.manifold import TSNE\n",
    "# tsne = TSNE(n_components = 2, metric = 'cosine', n_iter = 250)\n",
    "# x_red = tsne.fit_transform(x)\n",
    "# print(\"divergence :\",kl_divergence_)"
   ]
  },
  {
   "cell_type": "code",
   "execution_count": 80,
   "metadata": {},
   "outputs": [
    {
     "data": {
      "text/html": [
       "<div>\n",
       "<style scoped>\n",
       "    .dataframe tbody tr th:only-of-type {\n",
       "        vertical-align: middle;\n",
       "    }\n",
       "\n",
       "    .dataframe tbody tr th {\n",
       "        vertical-align: top;\n",
       "    }\n",
       "\n",
       "    .dataframe thead th {\n",
       "        text-align: right;\n",
       "    }\n",
       "</style>\n",
       "<table border=\"1\" class=\"dataframe\">\n",
       "  <thead>\n",
       "    <tr style=\"text-align: right;\">\n",
       "      <th></th>\n",
       "      <th>review_count</th>\n",
       "      <th>useful</th>\n",
       "      <th>funny</th>\n",
       "      <th>cool</th>\n",
       "      <th>fans</th>\n",
       "      <th>average_stars</th>\n",
       "      <th>compliment_hot</th>\n",
       "      <th>compliment_more</th>\n",
       "      <th>compliment_profile</th>\n",
       "      <th>compliment_cute</th>\n",
       "      <th>compliment_list</th>\n",
       "      <th>compliment_note</th>\n",
       "      <th>compliment_plain</th>\n",
       "      <th>compliment_cool</th>\n",
       "      <th>compliment_funny</th>\n",
       "      <th>compliment_writer</th>\n",
       "      <th>compliment_photos</th>\n",
       "    </tr>\n",
       "  </thead>\n",
       "  <tbody>\n",
       "    <tr>\n",
       "      <th>0</th>\n",
       "      <td>214</td>\n",
       "      <td>64</td>\n",
       "      <td>6</td>\n",
       "      <td>4</td>\n",
       "      <td>11</td>\n",
       "      <td>3.91</td>\n",
       "      <td>11</td>\n",
       "      <td>6</td>\n",
       "      <td>0</td>\n",
       "      <td>0</td>\n",
       "      <td>0</td>\n",
       "      <td>5</td>\n",
       "      <td>20</td>\n",
       "      <td>18</td>\n",
       "      <td>18</td>\n",
       "      <td>9</td>\n",
       "      <td>2</td>\n",
       "    </tr>\n",
       "    <tr>\n",
       "      <th>6</th>\n",
       "      <td>372</td>\n",
       "      <td>351</td>\n",
       "      <td>51</td>\n",
       "      <td>32</td>\n",
       "      <td>33</td>\n",
       "      <td>3.82</td>\n",
       "      <td>20</td>\n",
       "      <td>3</td>\n",
       "      <td>0</td>\n",
       "      <td>3</td>\n",
       "      <td>0</td>\n",
       "      <td>17</td>\n",
       "      <td>33</td>\n",
       "      <td>19</td>\n",
       "      <td>19</td>\n",
       "      <td>7</td>\n",
       "      <td>2</td>\n",
       "    </tr>\n",
       "    <tr>\n",
       "      <th>17</th>\n",
       "      <td>214</td>\n",
       "      <td>9</td>\n",
       "      <td>12</td>\n",
       "      <td>9</td>\n",
       "      <td>5</td>\n",
       "      <td>4.11</td>\n",
       "      <td>4</td>\n",
       "      <td>7</td>\n",
       "      <td>0</td>\n",
       "      <td>1</td>\n",
       "      <td>1</td>\n",
       "      <td>3</td>\n",
       "      <td>5</td>\n",
       "      <td>11</td>\n",
       "      <td>11</td>\n",
       "      <td>6</td>\n",
       "      <td>1</td>\n",
       "    </tr>\n",
       "    <tr>\n",
       "      <th>20</th>\n",
       "      <td>315</td>\n",
       "      <td>23</td>\n",
       "      <td>23</td>\n",
       "      <td>3</td>\n",
       "      <td>26</td>\n",
       "      <td>3.70</td>\n",
       "      <td>13</td>\n",
       "      <td>5</td>\n",
       "      <td>0</td>\n",
       "      <td>0</td>\n",
       "      <td>0</td>\n",
       "      <td>5</td>\n",
       "      <td>17</td>\n",
       "      <td>29</td>\n",
       "      <td>29</td>\n",
       "      <td>12</td>\n",
       "      <td>2</td>\n",
       "    </tr>\n",
       "    <tr>\n",
       "      <th>24</th>\n",
       "      <td>408</td>\n",
       "      <td>820</td>\n",
       "      <td>753</td>\n",
       "      <td>746</td>\n",
       "      <td>83</td>\n",
       "      <td>3.67</td>\n",
       "      <td>1004</td>\n",
       "      <td>91</td>\n",
       "      <td>72</td>\n",
       "      <td>80</td>\n",
       "      <td>32</td>\n",
       "      <td>200</td>\n",
       "      <td>1038</td>\n",
       "      <td>1209</td>\n",
       "      <td>1209</td>\n",
       "      <td>333</td>\n",
       "      <td>249</td>\n",
       "    </tr>\n",
       "  </tbody>\n",
       "</table>\n",
       "</div>"
      ],
      "text/plain": [
       "    review_count  useful  funny  cool  fans  average_stars  compliment_hot  \\\n",
       "0            214      64      6     4    11           3.91              11   \n",
       "6            372     351     51    32    33           3.82              20   \n",
       "17           214       9     12     9     5           4.11               4   \n",
       "20           315      23     23     3    26           3.70              13   \n",
       "24           408     820    753   746    83           3.67            1004   \n",
       "\n",
       "    compliment_more  compliment_profile  compliment_cute  compliment_list  \\\n",
       "0                 6                   0                0                0   \n",
       "6                 3                   0                3                0   \n",
       "17                7                   0                1                1   \n",
       "20                5                   0                0                0   \n",
       "24               91                  72               80               32   \n",
       "\n",
       "    compliment_note  compliment_plain  compliment_cool  compliment_funny  \\\n",
       "0                 5                20               18                18   \n",
       "6                17                33               19                19   \n",
       "17                3                 5               11                11   \n",
       "20                5                17               29                29   \n",
       "24              200              1038             1209              1209   \n",
       "\n",
       "    compliment_writer  compliment_photos  \n",
       "0                   9                  2  \n",
       "6                   7                  2  \n",
       "17                  6                  1  \n",
       "20                 12                  2  \n",
       "24                333                249  "
      ]
     },
     "execution_count": 80,
     "metadata": {},
     "output_type": "execute_result"
    }
   ],
   "source": [
    "# color = ['r' if c == -1 else 'b' for c in pred]\n",
    "# plt.scatter(x = x_red[:,0], y = x_red[:,1], c= color)\n",
    "outliers = np.where(pred == -1)[0]\n",
    "users.iloc[outliers,:].head()"
   ]
  },
  {
   "cell_type": "code",
   "execution_count": 81,
   "metadata": {},
   "outputs": [
    {
     "name": "stdout",
     "output_type": "stream",
     "text": [
      "{0, -1}\n",
      "cluster = 0 18556\n",
      "cluster = 1 0\n",
      "cluster = -1 35\n"
     ]
    }
   ],
   "source": [
    "x = users.values\n",
    "scaler = StandardScaler()\n",
    "x = scaler.fit_transform(x)\n",
    "dbscan = DBSCAN(min_samples=5, eps = 40, metric=\"manhattan\").fit(x)\n",
    "pred = dbscan.fit_predict(x)\n",
    "print(set(pred))\n",
    "print(\"cluster = 0\", len(pred[np.where(pred == 0)[0]]) )\n",
    "print(\"cluster = 1\", len(pred[np.where(pred == 1)[0]]) )\n",
    "print(\"cluster = -1\", len(pred[np.where(pred == -1)[0]]) )"
   ]
  },
  {
   "cell_type": "code",
   "execution_count": 82,
   "metadata": {},
   "outputs": [
    {
     "data": {
      "text/plain": [
       "<matplotlib.collections.PathCollection at 0x7f8811d61748>"
      ]
     },
     "execution_count": 82,
     "metadata": {},
     "output_type": "execute_result"
    },
    {
     "data": {
      "image/png": "[encoded data removed]",
      "text/plain": [
       "<Figure size 432x288 with 1 Axes>"
      ]
     },
     "metadata": {},
     "output_type": "display_data"
    }
   ],
   "source": [
    "# print(list(pred))\n",
    "color = ['r' if c == -1 else 'b' for c in pred]\n",
    "plt.scatter(x = x_red[:,0], y = x_red[:,1], c= color)"
   ]
  },
  {
   "cell_type": "markdown",
   "metadata": {},
   "source": [
    "## Make a clustering function to return ids, and plot using different clustering methods and  params"
   ]
  },
  {
   "cell_type": "code",
   "execution_count": 29,
   "metadata": {},
   "outputs": [],
   "source": [
    "from sklearn.preprocessing import StandardScaler\n",
    "from sklearn.cluster import KMeans, DBSCAN\n",
    "from sklearn.decomposition import PCA\n",
    "def cluster(data, method, **args):\n",
    "    print (args)\n",
    "    \"\"\"\n",
    "    data : data frame with user information\n",
    "    method: string\n",
    "    args: parameters passed to the clustering method\n",
    "        epsilon\n",
    "        num_samples\n",
    "    \"\"\"\n",
    "    data_drop = data.drop(['id', 'name', 'yelping_since'], axis=1)\n",
    "    x = data_drop.values\n",
    "    \n",
    "    scaler = StandardScaler()\n",
    "    \n",
    "    outlier_ids = []\n",
    "    outlier_cluster = 0\n",
    "\n",
    "    ## PCA\n",
    "    pca = PCA(n_components = 2)\n",
    "    x_red = pca.fit_transform(x)\n",
    "    print(\"METHOD :\", method)\n",
    "    if method == \"kmeans\":\n",
    "        kmeans = KMeans(n_clusters=2, random_state=1).fit(x)\n",
    "        pred = kmeans.predict(x)\n",
    "        outlier_cluster = np.argmin([list(pred).count(i) for i in set(pred)])\n",
    "        outliers = np.where(pred == outlier_cluster)[0]\n",
    "        \n",
    "    if method == \"dbscan\":\n",
    "        x = scaler.fit_transform(x)\n",
    "        dbscan = DBSCAN(eps = args['eps'], min_samples = args['min_samples'], metric = args['metric']).fit(x)\n",
    "        pred = dbscan.fit_predict(x)\n",
    "        outliers = np.where(pred == -1)[0]\n",
    "        outlier_cluster = -1\n",
    "        \n",
    "    outlier_ids = data.iloc[outliers, :]['id']\n",
    "    \n",
    "    \n",
    "    print(\"Variance Explained :\", np.sum(pca.explained_variance_ratio_), pca.explained_variance_ratio_)\n",
    "    \n",
    "    ## Plotting\n",
    "    color = ['r' if c == outlier_cluster else 'b' for c in pred]\n",
    "    plt.scatter(x = x_red[:,0], y = x_red[:,1], c= color)\n",
    "    plt.show()\n",
    "    return outlier_ids, outliers\n",
    "method1 = \"dbscan\"\n",
    "method2 = \"kmeans\""
   ]
  },
  {
   "cell_type": "code",
   "execution_count": 4,
   "metadata": {},
   "outputs": [
    {
     "data": {
      "text/plain": [
       "(18591, 20)"
      ]
     },
     "execution_count": 4,
     "metadata": {},
     "output_type": "execute_result"
    }
   ],
   "source": [
    "### users who rated top 5 restaurants\n",
    "all_users = pd.read_csv(\"top_rated_res_user.csv\", sep = \",\")\n",
    "all_users.shape"
   ]
  },
  {
   "cell_type": "code",
   "execution_count": 5,
   "metadata": {},
   "outputs": [
    {
     "name": "stdout",
     "output_type": "stream",
     "text": [
      "{'min_samples': 5, 'eps': 60, 'metric': 'manhattan'}\n",
      "METHOD : kmeans\n",
      "Variance Explained : 0.7590366283598969 [0.68402683 0.0750098 ]\n",
      "27\n"
     ]
    },
    {
     "data": {
      "image/png": "[encoded data removed]",
      "text/plain": [
       "<Figure size 432x288 with 1 Axes>"
      ]
     },
     "metadata": {},
     "output_type": "display_data"
    }
   ],
   "source": [
    "out_ids, _ = cluster(all_users, method2, min_samples = 5, eps = 60,  metric = \"manhattan\")\n",
    "print(len(out_ids))"
   ]
  },
  {
   "cell_type": "code",
   "execution_count": 6,
   "metadata": {},
   "outputs": [
    {
     "name": "stdout",
     "output_type": "stream",
     "text": [
      "{'min_samples': 5, 'eps': 45, 'metric': 'manhattan'}\n",
      "METHOD : dbscan\n",
      "Variance Explained : 0.759036628359895 [0.68402683 0.0750098 ]\n",
      "27\n"
     ]
    },
    {
     "data": {
      "image/png": "[encoded data removed]",
      "text/plain": [
       "<Figure size 432x288 with 1 Axes>"
      ]
     },
     "metadata": {},
     "output_type": "display_data"
    }
   ],
   "source": [
    "out_ids,_ = cluster(all_users, method1, min_samples = 5, eps = 45,  metric = \"manhattan\")\n",
    "print(len(out_ids))"
   ]
  },
  {
   "cell_type": "markdown",
   "metadata": {},
   "source": [
    "### get data for 5 restaurants with lesser number of reviews"
   ]
  },
  {
   "cell_type": "code",
   "execution_count": 9,
   "metadata": {},
   "outputs": [
    {
     "name": "stderr",
     "output_type": "stream",
     "text": [
      "100%|██████████| 5/5 [00:19<00:00,  3.80s/it]\n"
     ]
    }
   ],
   "source": [
    "#reading reviews files for all 5 top restaurants\n",
    "files = glob.glob('lesser_reviews_restaurants/*.html')\n",
    "df_small = pd.DataFrame()\n",
    "for file in tqdm(files):\n",
    "    reviews = pd.read_html(file, header=0)[0]\n",
    "    if df_small.shape[0] == 0:\n",
    "        df_small = reviews\n",
    "    else:\n",
    "        df_small = df_small.append(reviews)"
   ]
  },
  {
   "cell_type": "code",
   "execution_count": 10,
   "metadata": {},
   "outputs": [
    {
     "name": "stdout",
     "output_type": "stream",
     "text": [
      "6525\n",
      "(6525,)\n"
     ]
    }
   ],
   "source": [
    "l = df_small['user_id'].unique()\n",
    "print(len(l))\n",
    "with open(\"temp_small.txt\",\"w\") as outfile:\n",
    "    for item in l:\n",
    "        outfile.write(\"\\'%s\\',\\n\"% item)\n",
    "print(df_small['user_id'].unique().shape)"
   ]
  },
  {
   "cell_type": "markdown",
   "metadata": {},
   "source": [
    "### Cluster for lesser reviewed restaurants"
   ]
  },
  {
   "cell_type": "code",
   "execution_count": 11,
   "metadata": {},
   "outputs": [
    {
     "data": {
      "text/plain": [
       "(6525, 20)"
      ]
     },
     "execution_count": 11,
     "metadata": {},
     "output_type": "execute_result"
    }
   ],
   "source": [
    "### users who rated top 5 restaurants\n",
    "small_users = pd.read_csv(\"lesser_review_users.csv\", sep = \",\")\n",
    "small_users.shape"
   ]
  },
  {
   "cell_type": "code",
   "execution_count": 12,
   "metadata": {},
   "outputs": [
    {
     "name": "stdout",
     "output_type": "stream",
     "text": [
      "{'min_samples': 5, 'eps': 60, 'metric': 'manhattan'}\n",
      "METHOD : kmeans\n",
      "Variance Explained : 0.7213099522641476 [0.6049616  0.11634835]\n",
      "42\n"
     ]
    },
    {
     "data": {
      "image/png": "[encoded data removed]",
      "text/plain": [
       "<Figure size 432x288 with 1 Axes>"
      ]
     },
     "metadata": {},
     "output_type": "display_data"
    }
   ],
   "source": [
    "small_out_ids,_ = cluster(small_users, method2, min_samples = 5, eps = 60,  metric = \"manhattan\")\n",
    "print(len(small_out_ids))"
   ]
  },
  {
   "cell_type": "code",
   "execution_count": 13,
   "metadata": {},
   "outputs": [
    {
     "name": "stdout",
     "output_type": "stream",
     "text": [
      "{'min_samples': 5, 'eps': 25, 'metric': 'manhattan'}\n",
      "METHOD : dbscan\n",
      "Variance Explained : 0.7213099522641475 [0.6049616  0.11634835]\n",
      "37\n"
     ]
    },
    {
     "data": {
      "image/png": "[encoded data removed]",
      "text/plain": [
       "<Figure size 432x288 with 1 Axes>"
      ]
     },
     "metadata": {},
     "output_type": "display_data"
    }
   ],
   "source": [
    "small_out_ids,_ = cluster(small_users, method1, min_samples = 5, eps = 25,  metric = \"manhattan\")\n",
    "print(len(small_out_ids))"
   ]
  },
  {
   "cell_type": "code",
   "execution_count": null,
   "metadata": {},
   "outputs": [],
   "source": []
  },
  {
   "cell_type": "markdown",
   "metadata": {},
   "source": [
    "## Preparing the data and doing a significance test"
   ]
  },
  {
   "cell_type": "code",
   "execution_count": 7,
   "metadata": {},
   "outputs": [],
   "source": [
    "thres = 30\n",
    "\n",
    "def get_rolling(df, thres, outliers):\n",
    "#     reviews = pd.read_html(file, header=0)[0]\n",
    "    reviews = df\n",
    "    reviews['date'] = pd.to_datetime(reviews['date'])\n",
    "    reviews['year'], reviews['month'] = reviews['date'].dt.year, reviews['date'].dt.month\n",
    "    reviews = reviews.sort_values(by=['date'])\n",
    "    reviews['prev_date'] = reviews['date'] + pd.DateOffset(days=-thres)\n",
    "    reviews['after_date'] = reviews['date'] + pd.DateOffset(days=thres)\n",
    "    reviews['star_before']=''\n",
    "    reviews['star_after']=''\n",
    "    l1, l2 = [], []\n",
    "\n",
    "    for i in range(reviews.shape[0]):\n",
    "        before_date = reviews.iloc[i, :]['prev_date']\n",
    "        curr_date = reviews.iloc[i, :]['date']\n",
    "        after_date = reviews.iloc[i, :]['after_date']\n",
    "        l1.append(reviews[(reviews['date']>=before_date) & (reviews['date']<curr_date)]['stars'].mean())\n",
    "        l2.append(reviews[(reviews['date']>curr_date) & (reviews['date']<=after_date)]['stars'].mean())\n",
    "    \n",
    "    reviews[\"star_before\"] = l1\n",
    "    reviews[\"star_after\"] = l2\n",
    "    reviews['star_diff'] = reviews[\"star_after\"] - reviews[\"star_before\"]\n",
    "    \n",
    "    influencers_ids = list(all_users.iloc[outliers,:]['id'])\n",
    "    influencers_reviews = reviews[reviews['user_id'].isin(influencers_ids)]\n",
    "    influencers_reviews = influencers_reviews.dropna()\n",
    "    return influencers_reviews['star_diff'].values\n",
    "    "
   ]
  },
  {
   "cell_type": "markdown",
   "metadata": {},
   "source": [
    "### read review data for highly reviewed restaurants"
   ]
  },
  {
   "cell_type": "code",
   "execution_count": 8,
   "metadata": {},
   "outputs": [
    {
     "name": "stderr",
     "output_type": "stream",
     "text": [
      "100%|██████████| 5/5 [01:03<00:00, 12.68s/it]\n"
     ]
    }
   ],
   "source": [
    "files = glob.glob('*.html')\n",
    "top_df_list = []\n",
    "for file in tqdm(files):\n",
    "    temp_df = pd.read_html(file, header=0)[0]\n",
    "    top_df_list.append(temp_df)"
   ]
  },
  {
   "cell_type": "code",
   "execution_count": 27,
   "metadata": {},
   "outputs": [
    {
     "data": {
      "text/plain": [
       "(18591, 20)"
      ]
     },
     "execution_count": 27,
     "metadata": {},
     "output_type": "execute_result"
    }
   ],
   "source": [
    "top_users = pd.read_csv(\"top_rated_res_user.csv\", sep = \",\")\n",
    "top_users.shape"
   ]
  },
  {
   "cell_type": "markdown",
   "metadata": {},
   "source": [
    "### read review data for lesser reviewed restaurants"
   ]
  },
  {
   "cell_type": "code",
   "execution_count": 10,
   "metadata": {},
   "outputs": [
    {
     "name": "stderr",
     "output_type": "stream",
     "text": [
      "100%|██████████| 5/5 [00:18<00:00,  3.68s/it]\n"
     ]
    }
   ],
   "source": [
    "files = glob.glob('lesser_reviews_restaurants/*.html')\n",
    "less_df_list = []\n",
    "for file in tqdm(files):\n",
    "    temp_df = pd.read_html(file, header=0)[0]\n",
    "    less_df_list.append(temp_df)"
   ]
  },
  {
   "cell_type": "code",
   "execution_count": 28,
   "metadata": {},
   "outputs": [],
   "source": [
    "from scipy import stats\n",
    "def t_testing(df_list, outliers, thresh = 30):\n",
    "    ### rolling\n",
    "    mean_diff = []\n",
    "    for reviews_df in tqdm(df_list):\n",
    "        mean_diff.append(get_rolling(reviews_df, thres, outliers))\n",
    "    mean_diff_total = [j for i in mean_diff for j in i]\n",
    "    \n",
    "    ### do t-test\n",
    "    from scipy import stats\n",
    "    t = stats.ttest_1samp(mean_diff_total,0)\n",
    "    sigma  = np.std(mean_diff_total)\n",
    "    n = len(mean_diff_total)\n",
    "    mean = np.mean(mean_diff_total)\n",
    "    conf_interval = stats.norm.interval(0.90, loc = mean, scale=sigma/np.sqrt(n))\n",
    "    conf_interval_len = conf_interval[1] - conf_interval[0]\n",
    "    return (conf_interval_len, conf_interval,t.pvalue)"
   ]
  },
  {
   "cell_type": "markdown",
   "metadata": {},
   "source": [
    "## cluster top_users dataframe using various parameters\n",
    "#### use different parameters for dbscan and do the t-test to get pvalue and confidence interval"
   ]
  },
  {
   "cell_type": "code",
   "execution_count": 30,
   "metadata": {},
   "outputs": [
    {
     "name": "stdout",
     "output_type": "stream",
     "text": [
      "{}\n",
      "METHOD : kmeans\n",
      "Variance Explained : 0.9629267095396812 [0.93079208 0.03213463]\n"
     ]
    },
    {
     "data": {
      "image/png": "[encoded data removed]",
      "text/plain": [
       "<Figure size 432x288 with 1 Axes>"
      ]
     },
     "metadata": {},
     "output_type": "display_data"
    },
    {
     "name": "stderr",
     "output_type": "stream",
     "text": [
      "\n",
      "  0%|          | 0/5 [00:00<?, ?it/s]\u001b[A"
     ]
    },
    {
     "name": "stdout",
     "output_type": "stream",
     "text": [
      "66\n"
     ]
    },
    {
     "name": "stderr",
     "output_type": "stream",
     "text": [
      "\n",
      "100%|██████████| 5/5 [01:16<00:00, 15.33s/it]"
     ]
    },
    {
     "name": "stdout",
     "output_type": "stream",
     "text": [
      "(0.0656366890464363, (0.006135751516687507, 0.0717724405631238), 0.0546759304235769)\n"
     ]
    },
    {
     "name": "stderr",
     "output_type": "stream",
     "text": [
      "\n"
     ]
    }
   ],
   "source": [
    "### K-means analysis\n",
    "out_ids, outliers = cluster(top_users, \"kmeans\")\n",
    "print(len(outliers))\n",
    "print(t_testing(top_df_list, outliers))"
   ]
  },
  {
   "cell_type": "code",
   "execution_count": null,
   "metadata": {},
   "outputs": [],
   "source": [
    "### dbscan with varying params\n",
    "eps_list = [30, 35, 40, 45]\n",
    "min_samples_list = [3,4,5,6]\n",
    "eps_list = [40]\n",
    "min_samples_list = [5]\n",
    "for eps in eps_list:\n",
    "    for min_samples in min_samples_list:\n",
    "        print(\"eps = \", eps, \"min_samples = \", min_samples)\n",
    "        out_ids, outliers = cluster(top_users, \"dbscan\", min_samples = min_samples, eps = eps,  metric = \"manhattan\")\n",
    "        print(t_testing(top_df_list, outliers))"
   ]
  },
  {
   "cell_type": "code",
   "execution_count": 25,
   "metadata": {},
   "outputs": [
    {
     "data": {
      "text/plain": [
       "array([  594,  1252,  1802,  2593,  2710,  2879,  2901,  3214,  3334,\n",
       "        3730,  4027,  5870,  6380,  6394,  6632,  6819, 11384, 11517,\n",
       "       13060, 13707, 14721, 16012, 16073, 16085, 17580, 17617, 17809])"
      ]
     },
     "execution_count": 25,
     "metadata": {},
     "output_type": "execute_result"
    }
   ],
   "source": [
    "outliers"
   ]
  },
  {
   "cell_type": "code",
   "execution_count": null,
   "metadata": {},
   "outputs": [],
   "source": []
  }
 ],
 "metadata": {
  "kernelspec": {
   "display_name": "Python 3",
   "language": "python",
   "name": "python3"
  },
  "language_info": {
   "codemirror_mode": {
    "name": "ipython",
    "version": 3
   },
   "file_extension": ".py",
   "mimetype": "text/x-python",
   "name": "python",
   "nbconvert_exporter": "python",
   "pygments_lexer": "ipython3",
   "version": "3.6.4"
  }
 },
 "nbformat": 4,
 "nbformat_minor": 2
}
