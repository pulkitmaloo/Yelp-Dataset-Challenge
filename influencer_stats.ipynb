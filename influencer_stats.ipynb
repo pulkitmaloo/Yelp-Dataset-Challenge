{
 "cells": [
  {
   "cell_type": "code",
   "execution_count": 1,
   "metadata": {},
   "outputs": [],
   "source": [
    "import pandas as pd\n",
    "import numpy as np\n",
    "import matplotlib.pyplot as plt\n",
    "import seaborn as sns\n",
    "import glob\n",
    "from tqdm import tqdm\n",
    "%matplotlib inline"
   ]
  },
  {
   "cell_type": "code",
   "execution_count": 15,
   "metadata": {},
   "outputs": [
    {
     "data": {
      "image/png": "[encoded data removed]",
      "text/plain": [
       "<Figure size 432x288 with 1 Axes>"
      ]
     },
     "metadata": {},
     "output_type": "display_data"
    }
   ],
   "source": [
    "reviews = pd.read_html('../mon_reviews.html', header=0)[0]\n",
    "# stars = reviews[['date', 'stars']].sort_values(by=['date'])\n",
    "reviews['date'] = pd.to_datetime(reviews['date'])\n",
    "reviews['year'], reviews['month'] = reviews['date'].dt.year, reviews['date'].dt.month\n",
    "reviews = reviews[reviews['year']==2017]\n",
    "mean_stars = reviews.groupby(['year', 'month'], as_index=False)['stars'].agg({\"mean_score\": \"mean\"})\n",
    "ax = sns.pointplot(x='month', y='mean_score', data=mean_stars)"
   ]
  },
  {
   "cell_type": "code",
   "execution_count": 16,
   "metadata": {
    "collapsed": true
   },
   "outputs": [],
   "source": [
    "#list(reviews['user_id'])"
   ]
  },
  {
   "cell_type": "code",
   "execution_count": 17,
   "metadata": {
    "collapsed": true
   },
   "outputs": [],
   "source": [
    "# reviews = pd.read_html('gordon_reviews.html', header=0)[0]\n",
    "# stars = reviews[['date', 'stars']].sort_values(by=['date'])\n",
    "# stars['date'] = pd.to_datetime(stars['date'])\n",
    "# stars['year'], stars['month'] = stars['date'].dt.year, stars['date'].dt.month\n",
    "# stars = stars[stars['year']>=2015]\n",
    "# mean_stars = stars.groupby(['year', 'month'], as_index=False)['stars'].agg({\"mean_score\": \"mean\"})\n",
    "# ax = sns.pointplot(x='month', y='mean_score', hue='year', data=mean_stars)"
   ]
  },
  {
   "cell_type": "code",
   "execution_count": 18,
   "metadata": {},
   "outputs": [
    {
     "data": {
      "text/html": [
       "<div>\n",
       "<style>\n",
       "    .dataframe thead tr:only-child th {\n",
       "        text-align: right;\n",
       "    }\n",
       "\n",
       "    .dataframe thead th {\n",
       "        text-align: left;\n",
       "    }\n",
       "\n",
       "    .dataframe tbody tr th {\n",
       "        vertical-align: top;\n",
       "    }\n",
       "</style>\n",
       "<table border=\"1\" class=\"dataframe\">\n",
       "  <thead>\n",
       "    <tr style=\"text-align: right;\">\n",
       "      <th></th>\n",
       "      <th>id</th>\n",
       "      <th>business_id</th>\n",
       "      <th>user_id</th>\n",
       "      <th>stars</th>\n",
       "      <th>date</th>\n",
       "      <th>text</th>\n",
       "      <th>useful</th>\n",
       "      <th>funny</th>\n",
       "      <th>cool</th>\n",
       "      <th>year</th>\n",
       "      <th>month</th>\n",
       "    </tr>\n",
       "  </thead>\n",
       "  <tbody>\n",
       "    <tr>\n",
       "      <th>19</th>\n",
       "      <td>-BapNk1B4IuTDZUxKdbYnQ</td>\n",
       "      <td>4JNXUYY8wbaaDmk3BPzlWw</td>\n",
       "      <td>EMMKdK1cGrLSo08wgSYHJQ</td>\n",
       "      <td>3</td>\n",
       "      <td>2017-04-19</td>\n",
       "      <td>As much as people I know have raved about thei...</td>\n",
       "      <td>2</td>\n",
       "      <td>0</td>\n",
       "      <td>0</td>\n",
       "      <td>2017</td>\n",
       "      <td>4</td>\n",
       "    </tr>\n",
       "    <tr>\n",
       "      <th>58</th>\n",
       "      <td>-tRXFjeMjpX7qAv1_EcT7g</td>\n",
       "      <td>4JNXUYY8wbaaDmk3BPzlWw</td>\n",
       "      <td>SRMOslD85xkPQzfMIUsQNQ</td>\n",
       "      <td>2</td>\n",
       "      <td>2017-04-23</td>\n",
       "      <td>We are here on a Saturday night. The atmospher...</td>\n",
       "      <td>0</td>\n",
       "      <td>0</td>\n",
       "      <td>0</td>\n",
       "      <td>2017</td>\n",
       "      <td>4</td>\n",
       "    </tr>\n",
       "    <tr>\n",
       "      <th>71</th>\n",
       "      <td>-YPzsFf8dzmVTRwekNnFDA</td>\n",
       "      <td>4JNXUYY8wbaaDmk3BPzlWw</td>\n",
       "      <td>WgRKynZBQSdrSYOCAf3JXg</td>\n",
       "      <td>2</td>\n",
       "      <td>2017-05-14</td>\n",
       "      <td>First had reservations and still had to wait 3...</td>\n",
       "      <td>0</td>\n",
       "      <td>0</td>\n",
       "      <td>0</td>\n",
       "      <td>2017</td>\n",
       "      <td>5</td>\n",
       "    </tr>\n",
       "    <tr>\n",
       "      <th>100</th>\n",
       "      <td>0cUaPoyrcyf-GDukR75pbQ</td>\n",
       "      <td>4JNXUYY8wbaaDmk3BPzlWw</td>\n",
       "      <td>j5ezF5mEGpnDwdTmAHci7Q</td>\n",
       "      <td>4</td>\n",
       "      <td>2017-03-07</td>\n",
       "      <td>If you've been to Paris... this is a poor subs...</td>\n",
       "      <td>0</td>\n",
       "      <td>0</td>\n",
       "      <td>0</td>\n",
       "      <td>2017</td>\n",
       "      <td>3</td>\n",
       "    </tr>\n",
       "    <tr>\n",
       "      <th>103</th>\n",
       "      <td>0dw964e_pXFfGMLuvQZ7zA</td>\n",
       "      <td>4JNXUYY8wbaaDmk3BPzlWw</td>\n",
       "      <td>PXPs4ZY7c77MejUVv6MLVw</td>\n",
       "      <td>5</td>\n",
       "      <td>2017-03-17</td>\n",
       "      <td>Mon Ami Gabi has been a must-stop breakfast sp...</td>\n",
       "      <td>0</td>\n",
       "      <td>0</td>\n",
       "      <td>0</td>\n",
       "      <td>2017</td>\n",
       "      <td>3</td>\n",
       "    </tr>\n",
       "  </tbody>\n",
       "</table>\n",
       "</div>"
      ],
      "text/plain": [
       "                         id             business_id                 user_id  \\\n",
       "19   -BapNk1B4IuTDZUxKdbYnQ  4JNXUYY8wbaaDmk3BPzlWw  EMMKdK1cGrLSo08wgSYHJQ   \n",
       "58   -tRXFjeMjpX7qAv1_EcT7g  4JNXUYY8wbaaDmk3BPzlWw  SRMOslD85xkPQzfMIUsQNQ   \n",
       "71   -YPzsFf8dzmVTRwekNnFDA  4JNXUYY8wbaaDmk3BPzlWw  WgRKynZBQSdrSYOCAf3JXg   \n",
       "100  0cUaPoyrcyf-GDukR75pbQ  4JNXUYY8wbaaDmk3BPzlWw  j5ezF5mEGpnDwdTmAHci7Q   \n",
       "103  0dw964e_pXFfGMLuvQZ7zA  4JNXUYY8wbaaDmk3BPzlWw  PXPs4ZY7c77MejUVv6MLVw   \n",
       "\n",
       "     stars       date                                               text  \\\n",
       "19       3 2017-04-19  As much as people I know have raved about thei...   \n",
       "58       2 2017-04-23  We are here on a Saturday night. The atmospher...   \n",
       "71       2 2017-05-14  First had reservations and still had to wait 3...   \n",
       "100      4 2017-03-07  If you've been to Paris... this is a poor subs...   \n",
       "103      5 2017-03-17  Mon Ami Gabi has been a must-stop breakfast sp...   \n",
       "\n",
       "     useful  funny  cool  year  month  \n",
       "19        2      0     0  2017      4  \n",
       "58        0      0     0  2017      4  \n",
       "71        0      0     0  2017      5  \n",
       "100       0      0     0  2017      3  \n",
       "103       0      0     0  2017      3  "
      ]
     },
     "execution_count": 18,
     "metadata": {},
     "output_type": "execute_result"
    }
   ],
   "source": [
    "low_reviews = reviews[(reviews['year']==2017) & (reviews['month'].isin([3,4,5]))]\n",
    "low_reviews.head()"
   ]
  },
  {
   "cell_type": "code",
   "execution_count": 19,
   "metadata": {},
   "outputs": [
    {
     "data": {
      "text/plain": [
       "['EMMKdK1cGrLSo08wgSYHJQ',\n",
       " 'SRMOslD85xkPQzfMIUsQNQ',\n",
       " 'WgRKynZBQSdrSYOCAf3JXg',\n",
       " 'j5ezF5mEGpnDwdTmAHci7Q',\n",
       " 'PXPs4ZY7c77MejUVv6MLVw']"
      ]
     },
     "execution_count": 19,
     "metadata": {},
     "output_type": "execute_result"
    }
   ],
   "source": [
    "list(low_reviews['user_id'])[:5]"
   ]
  },
  {
   "cell_type": "code",
   "execution_count": 20,
   "metadata": {},
   "outputs": [
    {
     "data": {
      "text/html": [
       "<div>\n",
       "<style>\n",
       "    .dataframe thead tr:only-child th {\n",
       "        text-align: right;\n",
       "    }\n",
       "\n",
       "    .dataframe thead th {\n",
       "        text-align: left;\n",
       "    }\n",
       "\n",
       "    .dataframe tbody tr th {\n",
       "        vertical-align: top;\n",
       "    }\n",
       "</style>\n",
       "<table border=\"1\" class=\"dataframe\">\n",
       "  <thead>\n",
       "    <tr style=\"text-align: right;\">\n",
       "      <th></th>\n",
       "      <th>id</th>\n",
       "      <th>name</th>\n",
       "      <th>review_count</th>\n",
       "      <th>yelping_since</th>\n",
       "      <th>useful</th>\n",
       "      <th>funny</th>\n",
       "      <th>cool</th>\n",
       "      <th>fans</th>\n",
       "      <th>average_stars</th>\n",
       "      <th>compliment_hot</th>\n",
       "      <th>compliment_more</th>\n",
       "      <th>compliment_profile</th>\n",
       "      <th>compliment_cute</th>\n",
       "      <th>compliment_list</th>\n",
       "      <th>compliment_note</th>\n",
       "      <th>compliment_plain</th>\n",
       "      <th>compliment_cool</th>\n",
       "      <th>compliment_funny</th>\n",
       "      <th>compliment_writer</th>\n",
       "      <th>compliment_photos</th>\n",
       "    </tr>\n",
       "  </thead>\n",
       "  <tbody>\n",
       "    <tr>\n",
       "      <th>0</th>\n",
       "      <td>--8ELb8W1afbyP21EZStPg</td>\n",
       "      <td>Mi Sou</td>\n",
       "      <td>20</td>\n",
       "      <td>2011-10-25 00:00:00</td>\n",
       "      <td>0</td>\n",
       "      <td>0</td>\n",
       "      <td>0</td>\n",
       "      <td>0</td>\n",
       "      <td>4.13</td>\n",
       "      <td>0</td>\n",
       "      <td>0</td>\n",
       "      <td>0</td>\n",
       "      <td>0</td>\n",
       "      <td>0</td>\n",
       "      <td>0</td>\n",
       "      <td>0</td>\n",
       "      <td>1</td>\n",
       "      <td>1</td>\n",
       "      <td>0</td>\n",
       "      <td>0</td>\n",
       "    </tr>\n",
       "    <tr>\n",
       "      <th>1</th>\n",
       "      <td>-0tLDaIzN1Gbxc51Bxad4A</td>\n",
       "      <td>Rana</td>\n",
       "      <td>33</td>\n",
       "      <td>2013-05-14 00:00:00</td>\n",
       "      <td>4</td>\n",
       "      <td>0</td>\n",
       "      <td>0</td>\n",
       "      <td>0</td>\n",
       "      <td>3.35</td>\n",
       "      <td>0</td>\n",
       "      <td>0</td>\n",
       "      <td>0</td>\n",
       "      <td>0</td>\n",
       "      <td>0</td>\n",
       "      <td>0</td>\n",
       "      <td>0</td>\n",
       "      <td>0</td>\n",
       "      <td>0</td>\n",
       "      <td>0</td>\n",
       "      <td>0</td>\n",
       "    </tr>\n",
       "    <tr>\n",
       "      <th>2</th>\n",
       "      <td>-9ZFoRZpBAsf1ckY3aeyrg</td>\n",
       "      <td>Alexandra</td>\n",
       "      <td>91</td>\n",
       "      <td>2013-01-14 00:00:00</td>\n",
       "      <td>5</td>\n",
       "      <td>0</td>\n",
       "      <td>1</td>\n",
       "      <td>2</td>\n",
       "      <td>3.88</td>\n",
       "      <td>1</td>\n",
       "      <td>1</td>\n",
       "      <td>0</td>\n",
       "      <td>0</td>\n",
       "      <td>0</td>\n",
       "      <td>1</td>\n",
       "      <td>5</td>\n",
       "      <td>5</td>\n",
       "      <td>5</td>\n",
       "      <td>5</td>\n",
       "      <td>0</td>\n",
       "    </tr>\n",
       "    <tr>\n",
       "      <th>3</th>\n",
       "      <td>-9_Nz6wJ9Rj0q7kq6YJ-MA</td>\n",
       "      <td>Olga</td>\n",
       "      <td>125</td>\n",
       "      <td>2013-05-26 00:00:00</td>\n",
       "      <td>4</td>\n",
       "      <td>0</td>\n",
       "      <td>6</td>\n",
       "      <td>5</td>\n",
       "      <td>3.97</td>\n",
       "      <td>5</td>\n",
       "      <td>0</td>\n",
       "      <td>0</td>\n",
       "      <td>0</td>\n",
       "      <td>0</td>\n",
       "      <td>1</td>\n",
       "      <td>2</td>\n",
       "      <td>10</td>\n",
       "      <td>10</td>\n",
       "      <td>2</td>\n",
       "      <td>2</td>\n",
       "    </tr>\n",
       "    <tr>\n",
       "      <th>4</th>\n",
       "      <td>-AkgXdzDcdEvyXgKYJQW4w</td>\n",
       "      <td>Karli</td>\n",
       "      <td>322</td>\n",
       "      <td>2013-01-09 00:00:00</td>\n",
       "      <td>2</td>\n",
       "      <td>2</td>\n",
       "      <td>2</td>\n",
       "      <td>15</td>\n",
       "      <td>4.05</td>\n",
       "      <td>7</td>\n",
       "      <td>0</td>\n",
       "      <td>0</td>\n",
       "      <td>2</td>\n",
       "      <td>0</td>\n",
       "      <td>1</td>\n",
       "      <td>9</td>\n",
       "      <td>7</td>\n",
       "      <td>7</td>\n",
       "      <td>6</td>\n",
       "      <td>5</td>\n",
       "    </tr>\n",
       "  </tbody>\n",
       "</table>\n",
       "</div>"
      ],
      "text/plain": [
       "                       id       name  review_count        yelping_since  \\\n",
       "0  --8ELb8W1afbyP21EZStPg     Mi Sou            20  2011-10-25 00:00:00   \n",
       "1  -0tLDaIzN1Gbxc51Bxad4A       Rana            33  2013-05-14 00:00:00   \n",
       "2  -9ZFoRZpBAsf1ckY3aeyrg  Alexandra            91  2013-01-14 00:00:00   \n",
       "3  -9_Nz6wJ9Rj0q7kq6YJ-MA       Olga           125  2013-05-26 00:00:00   \n",
       "4  -AkgXdzDcdEvyXgKYJQW4w      Karli           322  2013-01-09 00:00:00   \n",
       "\n",
       "   useful  funny  cool  fans  average_stars  compliment_hot  compliment_more  \\\n",
       "0       0      0     0     0           4.13               0                0   \n",
       "1       4      0     0     0           3.35               0                0   \n",
       "2       5      0     1     2           3.88               1                1   \n",
       "3       4      0     6     5           3.97               5                0   \n",
       "4       2      2     2    15           4.05               7                0   \n",
       "\n",
       "   compliment_profile  compliment_cute  compliment_list  compliment_note  \\\n",
       "0                   0                0                0                0   \n",
       "1                   0                0                0                0   \n",
       "2                   0                0                0                1   \n",
       "3                   0                0                0                1   \n",
       "4                   0                2                0                1   \n",
       "\n",
       "   compliment_plain  compliment_cool  compliment_funny  compliment_writer  \\\n",
       "0                 0                1                 1                  0   \n",
       "1                 0                0                 0                  0   \n",
       "2                 5                5                 5                  5   \n",
       "3                 2               10                10                  2   \n",
       "4                 9                7                 7                  6   \n",
       "\n",
       "   compliment_photos  \n",
       "0                  0  \n",
       "1                  0  \n",
       "2                  0  \n",
       "3                  2  \n",
       "4                  5  "
      ]
     },
     "execution_count": 20,
     "metadata": {},
     "output_type": "execute_result"
    }
   ],
   "source": [
    "mon_users = pd.read_csv('../mon_users.csv')\n",
    "mon_users.head()"
   ]
  },
  {
   "cell_type": "code",
   "execution_count": 21,
   "metadata": {},
   "outputs": [
    {
     "data": {
      "text/html": [
       "<div>\n",
       "<style>\n",
       "    .dataframe thead tr:only-child th {\n",
       "        text-align: right;\n",
       "    }\n",
       "\n",
       "    .dataframe thead th {\n",
       "        text-align: left;\n",
       "    }\n",
       "\n",
       "    .dataframe tbody tr th {\n",
       "        vertical-align: top;\n",
       "    }\n",
       "</style>\n",
       "<table border=\"1\" class=\"dataframe\">\n",
       "  <thead>\n",
       "    <tr style=\"text-align: right;\">\n",
       "      <th></th>\n",
       "      <th>review_count</th>\n",
       "      <th>useful</th>\n",
       "      <th>funny</th>\n",
       "      <th>cool</th>\n",
       "      <th>fans</th>\n",
       "      <th>average_stars</th>\n",
       "      <th>compliment_hot</th>\n",
       "      <th>compliment_more</th>\n",
       "      <th>compliment_profile</th>\n",
       "      <th>compliment_cute</th>\n",
       "      <th>compliment_list</th>\n",
       "      <th>compliment_note</th>\n",
       "      <th>compliment_plain</th>\n",
       "      <th>compliment_cool</th>\n",
       "      <th>compliment_funny</th>\n",
       "      <th>compliment_writer</th>\n",
       "      <th>compliment_photos</th>\n",
       "    </tr>\n",
       "  </thead>\n",
       "  <tbody>\n",
       "    <tr>\n",
       "      <th>0</th>\n",
       "      <td>20</td>\n",
       "      <td>0</td>\n",
       "      <td>0</td>\n",
       "      <td>0</td>\n",
       "      <td>0</td>\n",
       "      <td>4.13</td>\n",
       "      <td>0</td>\n",
       "      <td>0</td>\n",
       "      <td>0</td>\n",
       "      <td>0</td>\n",
       "      <td>0</td>\n",
       "      <td>0</td>\n",
       "      <td>0</td>\n",
       "      <td>1</td>\n",
       "      <td>1</td>\n",
       "      <td>0</td>\n",
       "      <td>0</td>\n",
       "    </tr>\n",
       "    <tr>\n",
       "      <th>1</th>\n",
       "      <td>33</td>\n",
       "      <td>4</td>\n",
       "      <td>0</td>\n",
       "      <td>0</td>\n",
       "      <td>0</td>\n",
       "      <td>3.35</td>\n",
       "      <td>0</td>\n",
       "      <td>0</td>\n",
       "      <td>0</td>\n",
       "      <td>0</td>\n",
       "      <td>0</td>\n",
       "      <td>0</td>\n",
       "      <td>0</td>\n",
       "      <td>0</td>\n",
       "      <td>0</td>\n",
       "      <td>0</td>\n",
       "      <td>0</td>\n",
       "    </tr>\n",
       "    <tr>\n",
       "      <th>2</th>\n",
       "      <td>91</td>\n",
       "      <td>5</td>\n",
       "      <td>0</td>\n",
       "      <td>1</td>\n",
       "      <td>2</td>\n",
       "      <td>3.88</td>\n",
       "      <td>1</td>\n",
       "      <td>1</td>\n",
       "      <td>0</td>\n",
       "      <td>0</td>\n",
       "      <td>0</td>\n",
       "      <td>1</td>\n",
       "      <td>5</td>\n",
       "      <td>5</td>\n",
       "      <td>5</td>\n",
       "      <td>5</td>\n",
       "      <td>0</td>\n",
       "    </tr>\n",
       "    <tr>\n",
       "      <th>3</th>\n",
       "      <td>125</td>\n",
       "      <td>4</td>\n",
       "      <td>0</td>\n",
       "      <td>6</td>\n",
       "      <td>5</td>\n",
       "      <td>3.97</td>\n",
       "      <td>5</td>\n",
       "      <td>0</td>\n",
       "      <td>0</td>\n",
       "      <td>0</td>\n",
       "      <td>0</td>\n",
       "      <td>1</td>\n",
       "      <td>2</td>\n",
       "      <td>10</td>\n",
       "      <td>10</td>\n",
       "      <td>2</td>\n",
       "      <td>2</td>\n",
       "    </tr>\n",
       "    <tr>\n",
       "      <th>4</th>\n",
       "      <td>322</td>\n",
       "      <td>2</td>\n",
       "      <td>2</td>\n",
       "      <td>2</td>\n",
       "      <td>15</td>\n",
       "      <td>4.05</td>\n",
       "      <td>7</td>\n",
       "      <td>0</td>\n",
       "      <td>0</td>\n",
       "      <td>2</td>\n",
       "      <td>0</td>\n",
       "      <td>1</td>\n",
       "      <td>9</td>\n",
       "      <td>7</td>\n",
       "      <td>7</td>\n",
       "      <td>6</td>\n",
       "      <td>5</td>\n",
       "    </tr>\n",
       "  </tbody>\n",
       "</table>\n",
       "</div>"
      ],
      "text/plain": [
       "   review_count  useful  funny  cool  fans  average_stars  compliment_hot  \\\n",
       "0            20       0      0     0     0           4.13               0   \n",
       "1            33       4      0     0     0           3.35               0   \n",
       "2            91       5      0     1     2           3.88               1   \n",
       "3           125       4      0     6     5           3.97               5   \n",
       "4           322       2      2     2    15           4.05               7   \n",
       "\n",
       "   compliment_more  compliment_profile  compliment_cute  compliment_list  \\\n",
       "0                0                   0                0                0   \n",
       "1                0                   0                0                0   \n",
       "2                1                   0                0                0   \n",
       "3                0                   0                0                0   \n",
       "4                0                   0                2                0   \n",
       "\n",
       "   compliment_note  compliment_plain  compliment_cool  compliment_funny  \\\n",
       "0                0                 0                1                 1   \n",
       "1                0                 0                0                 0   \n",
       "2                1                 5                5                 5   \n",
       "3                1                 2               10                10   \n",
       "4                1                 9                7                 7   \n",
       "\n",
       "   compliment_writer  compliment_photos  \n",
       "0                  0                  0  \n",
       "1                  0                  0  \n",
       "2                  5                  0  \n",
       "3                  2                  2  \n",
       "4                  6                  5  "
      ]
     },
     "execution_count": 21,
     "metadata": {},
     "output_type": "execute_result"
    }
   ],
   "source": [
    "users = mon_users.drop(['id', 'name', 'yelping_since'], axis=1)\n",
    "users.head()"
   ]
  },
  {
   "cell_type": "code",
   "execution_count": 22,
   "metadata": {},
   "outputs": [
    {
     "data": {
      "text/plain": [
       "(array([197, 311, 489]),)"
      ]
     },
     "execution_count": 22,
     "metadata": {},
     "output_type": "execute_result"
    }
   ],
   "source": [
    "from sklearn.preprocessing import StandardScaler\n",
    "from sklearn.cluster import KMeans, DBSCAN\n",
    "\n",
    "x = users.values\n",
    "scaler = StandardScaler()\n",
    "x = scaler.fit_transform(x)\n",
    "kmeans = KMeans(n_clusters=2, random_state=1).fit(x)\n",
    "pred = kmeans.predict(x)\n",
    "np.where(pred>0)"
   ]
  },
  {
   "cell_type": "code",
   "execution_count": 23,
   "metadata": {},
   "outputs": [
    {
     "data": {
      "text/plain": [
       "array([  9,  15,  54,  87, 119, 156, 177, 197, 214, 259, 296, 302, 311,\n",
       "       330, 333, 335, 368, 429, 489, 559, 562, 573])"
      ]
     },
     "execution_count": 23,
     "metadata": {},
     "output_type": "execute_result"
    }
   ],
   "source": [
    "#DBSCAN\n",
    "dbscan = DBSCAN(eps=2)\n",
    "pred = dbscan.fit_predict(x)\n",
    "influencers = np.where(pred==-1)[0]\n",
    "influencers"
   ]
  },
  {
   "cell_type": "code",
   "execution_count": 24,
   "metadata": {
    "collapsed": true
   },
   "outputs": [],
   "source": [
    "influ = list(mon_users.iloc[influencers, :]['id'])"
   ]
  },
  {
   "cell_type": "code",
   "execution_count": 25,
   "metadata": {},
   "outputs": [
    {
     "data": {
      "text/html": [
       "<div>\n",
       "<style>\n",
       "    .dataframe thead tr:only-child th {\n",
       "        text-align: right;\n",
       "    }\n",
       "\n",
       "    .dataframe thead th {\n",
       "        text-align: left;\n",
       "    }\n",
       "\n",
       "    .dataframe tbody tr th {\n",
       "        vertical-align: top;\n",
       "    }\n",
       "</style>\n",
       "<table border=\"1\" class=\"dataframe\">\n",
       "  <thead>\n",
       "    <tr style=\"text-align: right;\">\n",
       "      <th></th>\n",
       "      <th>id</th>\n",
       "      <th>business_id</th>\n",
       "      <th>user_id</th>\n",
       "      <th>stars</th>\n",
       "      <th>date</th>\n",
       "      <th>text</th>\n",
       "      <th>useful</th>\n",
       "      <th>funny</th>\n",
       "      <th>cool</th>\n",
       "      <th>year</th>\n",
       "      <th>month</th>\n",
       "    </tr>\n",
       "  </thead>\n",
       "  <tbody>\n",
       "    <tr>\n",
       "      <th>19</th>\n",
       "      <td>-BapNk1B4IuTDZUxKdbYnQ</td>\n",
       "      <td>4JNXUYY8wbaaDmk3BPzlWw</td>\n",
       "      <td>EMMKdK1cGrLSo08wgSYHJQ</td>\n",
       "      <td>3</td>\n",
       "      <td>2017-04-19</td>\n",
       "      <td>As much as people I know have raved about thei...</td>\n",
       "      <td>2</td>\n",
       "      <td>0</td>\n",
       "      <td>0</td>\n",
       "      <td>2017</td>\n",
       "      <td>4</td>\n",
       "    </tr>\n",
       "    <tr>\n",
       "      <th>44</th>\n",
       "      <td>-Lk8DRj59iWk09iXGugSmA</td>\n",
       "      <td>4JNXUYY8wbaaDmk3BPzlWw</td>\n",
       "      <td>q3eLont3I-8fBKbekmX_xg</td>\n",
       "      <td>5</td>\n",
       "      <td>2017-10-14</td>\n",
       "      <td>Love, love, love this place! We go every time ...</td>\n",
       "      <td>0</td>\n",
       "      <td>0</td>\n",
       "      <td>0</td>\n",
       "      <td>2017</td>\n",
       "      <td>10</td>\n",
       "    </tr>\n",
       "    <tr>\n",
       "      <th>47</th>\n",
       "      <td>-NQ4dmUjBjpauRmydtROHg</td>\n",
       "      <td>4JNXUYY8wbaaDmk3BPzlWw</td>\n",
       "      <td>EK8lYaib-nW6RH1VxapA-g</td>\n",
       "      <td>5</td>\n",
       "      <td>2017-01-30</td>\n",
       "      <td>Gotta hand it to them.. They get packed but ca...</td>\n",
       "      <td>0</td>\n",
       "      <td>0</td>\n",
       "      <td>0</td>\n",
       "      <td>2017</td>\n",
       "      <td>1</td>\n",
       "    </tr>\n",
       "    <tr>\n",
       "      <th>58</th>\n",
       "      <td>-tRXFjeMjpX7qAv1_EcT7g</td>\n",
       "      <td>4JNXUYY8wbaaDmk3BPzlWw</td>\n",
       "      <td>SRMOslD85xkPQzfMIUsQNQ</td>\n",
       "      <td>2</td>\n",
       "      <td>2017-04-23</td>\n",
       "      <td>We are here on a Saturday night. The atmospher...</td>\n",
       "      <td>0</td>\n",
       "      <td>0</td>\n",
       "      <td>0</td>\n",
       "      <td>2017</td>\n",
       "      <td>4</td>\n",
       "    </tr>\n",
       "    <tr>\n",
       "      <th>71</th>\n",
       "      <td>-YPzsFf8dzmVTRwekNnFDA</td>\n",
       "      <td>4JNXUYY8wbaaDmk3BPzlWw</td>\n",
       "      <td>WgRKynZBQSdrSYOCAf3JXg</td>\n",
       "      <td>2</td>\n",
       "      <td>2017-05-14</td>\n",
       "      <td>First had reservations and still had to wait 3...</td>\n",
       "      <td>0</td>\n",
       "      <td>0</td>\n",
       "      <td>0</td>\n",
       "      <td>2017</td>\n",
       "      <td>5</td>\n",
       "    </tr>\n",
       "  </tbody>\n",
       "</table>\n",
       "</div>"
      ],
      "text/plain": [
       "                        id             business_id                 user_id  \\\n",
       "19  -BapNk1B4IuTDZUxKdbYnQ  4JNXUYY8wbaaDmk3BPzlWw  EMMKdK1cGrLSo08wgSYHJQ   \n",
       "44  -Lk8DRj59iWk09iXGugSmA  4JNXUYY8wbaaDmk3BPzlWw  q3eLont3I-8fBKbekmX_xg   \n",
       "47  -NQ4dmUjBjpauRmydtROHg  4JNXUYY8wbaaDmk3BPzlWw  EK8lYaib-nW6RH1VxapA-g   \n",
       "58  -tRXFjeMjpX7qAv1_EcT7g  4JNXUYY8wbaaDmk3BPzlWw  SRMOslD85xkPQzfMIUsQNQ   \n",
       "71  -YPzsFf8dzmVTRwekNnFDA  4JNXUYY8wbaaDmk3BPzlWw  WgRKynZBQSdrSYOCAf3JXg   \n",
       "\n",
       "    stars       date                                               text  \\\n",
       "19      3 2017-04-19  As much as people I know have raved about thei...   \n",
       "44      5 2017-10-14  Love, love, love this place! We go every time ...   \n",
       "47      5 2017-01-30  Gotta hand it to them.. They get packed but ca...   \n",
       "58      2 2017-04-23  We are here on a Saturday night. The atmospher...   \n",
       "71      2 2017-05-14  First had reservations and still had to wait 3...   \n",
       "\n",
       "    useful  funny  cool  year  month  \n",
       "19       2      0     0  2017      4  \n",
       "44       0      0     0  2017     10  \n",
       "47       0      0     0  2017      1  \n",
       "58       0      0     0  2017      4  \n",
       "71       0      0     0  2017      5  "
      ]
     },
     "execution_count": 25,
     "metadata": {},
     "output_type": "execute_result"
    }
   ],
   "source": [
    "reviews.head()"
   ]
  },
  {
   "cell_type": "code",
   "execution_count": 26,
   "metadata": {},
   "outputs": [
    {
     "data": {
      "text/html": [
       "<div>\n",
       "<style>\n",
       "    .dataframe thead tr:only-child th {\n",
       "        text-align: right;\n",
       "    }\n",
       "\n",
       "    .dataframe thead th {\n",
       "        text-align: left;\n",
       "    }\n",
       "\n",
       "    .dataframe tbody tr th {\n",
       "        vertical-align: top;\n",
       "    }\n",
       "</style>\n",
       "<table border=\"1\" class=\"dataframe\">\n",
       "  <thead>\n",
       "    <tr style=\"text-align: right;\">\n",
       "      <th></th>\n",
       "      <th>id</th>\n",
       "      <th>business_id</th>\n",
       "      <th>user_id</th>\n",
       "      <th>date</th>\n",
       "      <th>text</th>\n",
       "      <th>useful</th>\n",
       "      <th>funny</th>\n",
       "      <th>cool</th>\n",
       "      <th>year</th>\n",
       "      <th>month</th>\n",
       "    </tr>\n",
       "    <tr>\n",
       "      <th>stars</th>\n",
       "      <th></th>\n",
       "      <th></th>\n",
       "      <th></th>\n",
       "      <th></th>\n",
       "      <th></th>\n",
       "      <th></th>\n",
       "      <th></th>\n",
       "      <th></th>\n",
       "      <th></th>\n",
       "      <th></th>\n",
       "    </tr>\n",
       "  </thead>\n",
       "  <tbody>\n",
       "    <tr>\n",
       "      <th>1</th>\n",
       "      <td>5</td>\n",
       "      <td>5</td>\n",
       "      <td>5</td>\n",
       "      <td>5</td>\n",
       "      <td>5</td>\n",
       "      <td>5</td>\n",
       "      <td>5</td>\n",
       "      <td>5</td>\n",
       "      <td>5</td>\n",
       "      <td>5</td>\n",
       "    </tr>\n",
       "    <tr>\n",
       "      <th>2</th>\n",
       "      <td>13</td>\n",
       "      <td>13</td>\n",
       "      <td>13</td>\n",
       "      <td>13</td>\n",
       "      <td>13</td>\n",
       "      <td>13</td>\n",
       "      <td>13</td>\n",
       "      <td>13</td>\n",
       "      <td>13</td>\n",
       "      <td>13</td>\n",
       "    </tr>\n",
       "    <tr>\n",
       "      <th>3</th>\n",
       "      <td>22</td>\n",
       "      <td>22</td>\n",
       "      <td>22</td>\n",
       "      <td>22</td>\n",
       "      <td>22</td>\n",
       "      <td>22</td>\n",
       "      <td>22</td>\n",
       "      <td>22</td>\n",
       "      <td>22</td>\n",
       "      <td>22</td>\n",
       "    </tr>\n",
       "    <tr>\n",
       "      <th>4</th>\n",
       "      <td>43</td>\n",
       "      <td>43</td>\n",
       "      <td>43</td>\n",
       "      <td>43</td>\n",
       "      <td>43</td>\n",
       "      <td>43</td>\n",
       "      <td>43</td>\n",
       "      <td>43</td>\n",
       "      <td>43</td>\n",
       "      <td>43</td>\n",
       "    </tr>\n",
       "    <tr>\n",
       "      <th>5</th>\n",
       "      <td>64</td>\n",
       "      <td>64</td>\n",
       "      <td>64</td>\n",
       "      <td>64</td>\n",
       "      <td>64</td>\n",
       "      <td>64</td>\n",
       "      <td>64</td>\n",
       "      <td>64</td>\n",
       "      <td>64</td>\n",
       "      <td>64</td>\n",
       "    </tr>\n",
       "  </tbody>\n",
       "</table>\n",
       "</div>"
      ],
      "text/plain": [
       "       id  business_id  user_id  date  text  useful  funny  cool  year  month\n",
       "stars                                                                        \n",
       "1       5            5        5     5     5       5      5     5     5      5\n",
       "2      13           13       13    13    13      13     13    13    13     13\n",
       "3      22           22       22    22    22      22     22    22    22     22\n",
       "4      43           43       43    43    43      43     43    43    43     43\n",
       "5      64           64       64    64    64      64     64    64    64     64"
      ]
     },
     "execution_count": 26,
     "metadata": {},
     "output_type": "execute_result"
    }
   ],
   "source": [
    "reviews[(reviews['month'].isin([8,9,10])) & (reviews['year']==2017)].groupby(\"stars\").count()"
   ]
  },
  {
   "cell_type": "code",
   "execution_count": 27,
   "metadata": {},
   "outputs": [
    {
     "data": {
      "text/html": [
       "<div>\n",
       "<style>\n",
       "    .dataframe thead tr:only-child th {\n",
       "        text-align: right;\n",
       "    }\n",
       "\n",
       "    .dataframe thead th {\n",
       "        text-align: left;\n",
       "    }\n",
       "\n",
       "    .dataframe tbody tr th {\n",
       "        vertical-align: top;\n",
       "    }\n",
       "</style>\n",
       "<table border=\"1\" class=\"dataframe\">\n",
       "  <thead>\n",
       "    <tr style=\"text-align: right;\">\n",
       "      <th></th>\n",
       "      <th>id</th>\n",
       "      <th>business_id</th>\n",
       "      <th>user_id</th>\n",
       "      <th>date</th>\n",
       "      <th>text</th>\n",
       "      <th>useful</th>\n",
       "      <th>funny</th>\n",
       "      <th>cool</th>\n",
       "      <th>year</th>\n",
       "      <th>month</th>\n",
       "    </tr>\n",
       "    <tr>\n",
       "      <th>stars</th>\n",
       "      <th></th>\n",
       "      <th></th>\n",
       "      <th></th>\n",
       "      <th></th>\n",
       "      <th></th>\n",
       "      <th></th>\n",
       "      <th></th>\n",
       "      <th></th>\n",
       "      <th></th>\n",
       "      <th></th>\n",
       "    </tr>\n",
       "  </thead>\n",
       "  <tbody>\n",
       "    <tr>\n",
       "      <th>1</th>\n",
       "      <td>4</td>\n",
       "      <td>4</td>\n",
       "      <td>4</td>\n",
       "      <td>4</td>\n",
       "      <td>4</td>\n",
       "      <td>4</td>\n",
       "      <td>4</td>\n",
       "      <td>4</td>\n",
       "      <td>4</td>\n",
       "      <td>4</td>\n",
       "    </tr>\n",
       "    <tr>\n",
       "      <th>2</th>\n",
       "      <td>2</td>\n",
       "      <td>2</td>\n",
       "      <td>2</td>\n",
       "      <td>2</td>\n",
       "      <td>2</td>\n",
       "      <td>2</td>\n",
       "      <td>2</td>\n",
       "      <td>2</td>\n",
       "      <td>2</td>\n",
       "      <td>2</td>\n",
       "    </tr>\n",
       "    <tr>\n",
       "      <th>3</th>\n",
       "      <td>6</td>\n",
       "      <td>6</td>\n",
       "      <td>6</td>\n",
       "      <td>6</td>\n",
       "      <td>6</td>\n",
       "      <td>6</td>\n",
       "      <td>6</td>\n",
       "      <td>6</td>\n",
       "      <td>6</td>\n",
       "      <td>6</td>\n",
       "    </tr>\n",
       "    <tr>\n",
       "      <th>4</th>\n",
       "      <td>34</td>\n",
       "      <td>34</td>\n",
       "      <td>34</td>\n",
       "      <td>34</td>\n",
       "      <td>34</td>\n",
       "      <td>34</td>\n",
       "      <td>34</td>\n",
       "      <td>34</td>\n",
       "      <td>34</td>\n",
       "      <td>34</td>\n",
       "    </tr>\n",
       "    <tr>\n",
       "      <th>5</th>\n",
       "      <td>58</td>\n",
       "      <td>58</td>\n",
       "      <td>58</td>\n",
       "      <td>58</td>\n",
       "      <td>58</td>\n",
       "      <td>58</td>\n",
       "      <td>58</td>\n",
       "      <td>58</td>\n",
       "      <td>58</td>\n",
       "      <td>58</td>\n",
       "    </tr>\n",
       "  </tbody>\n",
       "</table>\n",
       "</div>"
      ],
      "text/plain": [
       "       id  business_id  user_id  date  text  useful  funny  cool  year  month\n",
       "stars                                                                        \n",
       "1       4            4        4     4     4       4      4     4     4      4\n",
       "2       2            2        2     2     2       2      2     2     2      2\n",
       "3       6            6        6     6     6       6      6     6     6      6\n",
       "4      34           34       34    34    34      34     34    34    34     34\n",
       "5      58           58       58    58    58      58     58    58    58     58"
      ]
     },
     "execution_count": 27,
     "metadata": {},
     "output_type": "execute_result"
    }
   ],
   "source": [
    "reviews[(reviews['month'].isin([6,7])) & (reviews['year']==2017)].groupby(\"stars\").count()"
   ]
  },
  {
   "cell_type": "code",
   "execution_count": 28,
   "metadata": {
    "scrolled": false
   },
   "outputs": [
    {
     "name": "stderr",
     "output_type": "stream",
     "text": [
      "100%|██████████| 10/10 [01:21<00:00,  8.19s/it]\n"
     ]
    }
   ],
   "source": [
    "#reading reviews files for all 5 top restaurants\n",
    "files = glob.glob('../*.html')\n",
    "df = pd.DataFrame()\n",
    "for file in tqdm(files):\n",
    "    reviews = pd.read_html(file, header=0)[0]\n",
    "    if df.shape[0] == 0:\n",
    "        df = reviews\n",
    "    else:\n",
    "        df = df.append(reviews)"
   ]
  },
  {
   "cell_type": "code",
   "execution_count": 29,
   "metadata": {},
   "outputs": [
    {
     "data": {
      "text/plain": [
       "(29351, 9)"
      ]
     },
     "execution_count": 29,
     "metadata": {},
     "output_type": "execute_result"
    }
   ],
   "source": [
    "df.shape"
   ]
  },
  {
   "cell_type": "code",
   "execution_count": 30,
   "metadata": {
    "scrolled": true
   },
   "outputs": [
    {
     "data": {
      "text/html": [
       "<div>\n",
       "<style>\n",
       "    .dataframe thead tr:only-child th {\n",
       "        text-align: right;\n",
       "    }\n",
       "\n",
       "    .dataframe thead th {\n",
       "        text-align: left;\n",
       "    }\n",
       "\n",
       "    .dataframe tbody tr th {\n",
       "        vertical-align: top;\n",
       "    }\n",
       "</style>\n",
       "<table border=\"1\" class=\"dataframe\">\n",
       "  <thead>\n",
       "    <tr style=\"text-align: right;\">\n",
       "      <th></th>\n",
       "      <th>id</th>\n",
       "      <th>business_id</th>\n",
       "      <th>user_id</th>\n",
       "      <th>stars</th>\n",
       "      <th>date</th>\n",
       "      <th>text</th>\n",
       "      <th>useful</th>\n",
       "      <th>funny</th>\n",
       "      <th>cool</th>\n",
       "    </tr>\n",
       "  </thead>\n",
       "  <tbody>\n",
       "    <tr>\n",
       "      <th>0</th>\n",
       "      <td>-5fjbaALbCP_6TmRJzo0xg</td>\n",
       "      <td>0W4lkclzZThpx3V65bVgig</td>\n",
       "      <td>VZyjSfNkd-TZWiJK9SIOPw</td>\n",
       "      <td>5</td>\n",
       "      <td>2015-03-03 00:00:00</td>\n",
       "      <td>The smoked meat sandwich is simple, but oh-so-...</td>\n",
       "      <td>0</td>\n",
       "      <td>0</td>\n",
       "      <td>0</td>\n",
       "    </tr>\n",
       "    <tr>\n",
       "      <th>1</th>\n",
       "      <td>-5oCsX651HT2KqYh3IsQlg</td>\n",
       "      <td>0W4lkclzZThpx3V65bVgig</td>\n",
       "      <td>RkVNb4DpKwehS3FAziAMVA</td>\n",
       "      <td>2</td>\n",
       "      <td>2012-08-06 00:00:00</td>\n",
       "      <td>This update is reviewing the take out section ...</td>\n",
       "      <td>2</td>\n",
       "      <td>0</td>\n",
       "      <td>0</td>\n",
       "    </tr>\n",
       "    <tr>\n",
       "      <th>2</th>\n",
       "      <td>-8kJZvQdYA_pzIsX9lRiCQ</td>\n",
       "      <td>0W4lkclzZThpx3V65bVgig</td>\n",
       "      <td>dnHvmhmUgO2eLn-oJZdQbA</td>\n",
       "      <td>5</td>\n",
       "      <td>2016-07-05 00:00:00</td>\n",
       "      <td>I realize this is very much hyped -- a stop fo...</td>\n",
       "      <td>0</td>\n",
       "      <td>0</td>\n",
       "      <td>0</td>\n",
       "    </tr>\n",
       "    <tr>\n",
       "      <th>3</th>\n",
       "      <td>-BT5-Ah24oJnvAoUaB5zWA</td>\n",
       "      <td>0W4lkclzZThpx3V65bVgig</td>\n",
       "      <td>fMPtHRh-I40K6-RI__-VVQ</td>\n",
       "      <td>5</td>\n",
       "      <td>2014-02-25 00:00:00</td>\n",
       "      <td>Does this place really need an introduction? I...</td>\n",
       "      <td>0</td>\n",
       "      <td>0</td>\n",
       "      <td>2</td>\n",
       "    </tr>\n",
       "    <tr>\n",
       "      <th>4</th>\n",
       "      <td>-cE93NNMbMshQ1snc22fwg</td>\n",
       "      <td>0W4lkclzZThpx3V65bVgig</td>\n",
       "      <td>7eFy-LxZuvS2K6PAQoibBA</td>\n",
       "      <td>3</td>\n",
       "      <td>2014-07-15 00:00:00</td>\n",
       "      <td>Schwartz's smoked meat eh? Coming from NYC, th...</td>\n",
       "      <td>2</td>\n",
       "      <td>0</td>\n",
       "      <td>0</td>\n",
       "    </tr>\n",
       "  </tbody>\n",
       "</table>\n",
       "</div>"
      ],
      "text/plain": [
       "                       id             business_id                 user_id  \\\n",
       "0  -5fjbaALbCP_6TmRJzo0xg  0W4lkclzZThpx3V65bVgig  VZyjSfNkd-TZWiJK9SIOPw   \n",
       "1  -5oCsX651HT2KqYh3IsQlg  0W4lkclzZThpx3V65bVgig  RkVNb4DpKwehS3FAziAMVA   \n",
       "2  -8kJZvQdYA_pzIsX9lRiCQ  0W4lkclzZThpx3V65bVgig  dnHvmhmUgO2eLn-oJZdQbA   \n",
       "3  -BT5-Ah24oJnvAoUaB5zWA  0W4lkclzZThpx3V65bVgig  fMPtHRh-I40K6-RI__-VVQ   \n",
       "4  -cE93NNMbMshQ1snc22fwg  0W4lkclzZThpx3V65bVgig  7eFy-LxZuvS2K6PAQoibBA   \n",
       "\n",
       "   stars                 date  \\\n",
       "0      5  2015-03-03 00:00:00   \n",
       "1      2  2012-08-06 00:00:00   \n",
       "2      5  2016-07-05 00:00:00   \n",
       "3      5  2014-02-25 00:00:00   \n",
       "4      3  2014-07-15 00:00:00   \n",
       "\n",
       "                                                text  useful  funny  cool  \n",
       "0  The smoked meat sandwich is simple, but oh-so-...       0      0     0  \n",
       "1  This update is reviewing the take out section ...       2      0     0  \n",
       "2  I realize this is very much hyped -- a stop fo...       0      0     0  \n",
       "3  Does this place really need an introduction? I...       0      0     2  \n",
       "4  Schwartz's smoked meat eh? Coming from NYC, th...       2      0     0  "
      ]
     },
     "execution_count": 30,
     "metadata": {},
     "output_type": "execute_result"
    }
   ],
   "source": [
    "df.head()"
   ]
  },
  {
   "cell_type": "code",
   "execution_count": 31,
   "metadata": {
    "scrolled": false
   },
   "outputs": [
    {
     "data": {
      "text/plain": [
       "Text(0,0.5,'Count')"
      ]
     },
     "execution_count": 31,
     "metadata": {},
     "output_type": "execute_result"
    },
    {
     "data": {
      "image/png": "[encoded data removed]",
      "text/plain": [
       "<Figure size 432x288 with 1 Axes>"
      ]
     },
     "metadata": {},
     "output_type": "display_data"
    }
   ],
   "source": [
    "b_ids = df['business_id'].unique()\n",
    "restaurants = pd.read_csv('../restaurants.csv')\n",
    "names = restaurants[restaurants['id'].isin(b_ids)]\n",
    "data = pd.merge(df, names, left_on=['business_id'], right_on = ['id'], how = 'inner')\n",
    "data = data.groupby('name')['useful', 'funny', 'cool'].sum()\n",
    "data['total'] = data.sum(axis=1)\n",
    "data.sort_values(by='total', ascending=False, inplace=True)\n",
    "ax = data.iloc[:,:-1].plot(kind='bar', stacked=True)\n",
    "ax.set_title('Distribution of Useful, Funny, and Cool reviews')\n",
    "ax.set_xlabel('Restaurants')\n",
    "ax.set_ylabel('Count')"
   ]
  },
  {
   "cell_type": "code",
   "execution_count": 32,
   "metadata": {
    "scrolled": false
   },
   "outputs": [
    {
     "name": "stdout",
     "output_type": "stream",
     "text": [
      "23782\n"
     ]
    }
   ],
   "source": [
    "## print all users to \n",
    "l = df['user_id'].unique()\n",
    "print(len(l))\n",
    "with open(\"temp.txt\",\"w\") as outfile:\n",
    "    for item in l:\n",
    "        outfile.write(\"\\'%s\\',\\n\"% item)"
   ]
  },
  {
   "cell_type": "code",
   "execution_count": 33,
   "metadata": {},
   "outputs": [
    {
     "data": {
      "text/plain": [
       "(23782,)"
      ]
     },
     "execution_count": 33,
     "metadata": {},
     "output_type": "execute_result"
    }
   ],
   "source": [
    "df['user_id'].unique().shape"
   ]
  },
  {
   "cell_type": "code",
   "execution_count": 34,
   "metadata": {},
   "outputs": [
    {
     "data": {
      "text/plain": [
       "(579,)"
      ]
     },
     "execution_count": 34,
     "metadata": {},
     "output_type": "execute_result"
    }
   ],
   "source": [
    "mon_users['id'].unique().shape"
   ]
  },
  {
   "cell_type": "code",
   "execution_count": 44,
   "metadata": {},
   "outputs": [
    {
     "data": {
      "text/html": [
       "<div>\n",
       "<style>\n",
       "    .dataframe thead tr:only-child th {\n",
       "        text-align: right;\n",
       "    }\n",
       "\n",
       "    .dataframe thead th {\n",
       "        text-align: left;\n",
       "    }\n",
       "\n",
       "    .dataframe tbody tr th {\n",
       "        vertical-align: top;\n",
       "    }\n",
       "</style>\n",
       "<table border=\"1\" class=\"dataframe\">\n",
       "  <thead>\n",
       "    <tr style=\"text-align: right;\">\n",
       "      <th></th>\n",
       "      <th>review_count</th>\n",
       "      <th>useful</th>\n",
       "      <th>funny</th>\n",
       "      <th>cool</th>\n",
       "      <th>fans</th>\n",
       "      <th>average_stars</th>\n",
       "      <th>compliment_hot</th>\n",
       "      <th>compliment_more</th>\n",
       "      <th>compliment_profile</th>\n",
       "      <th>compliment_cute</th>\n",
       "      <th>compliment_list</th>\n",
       "      <th>compliment_note</th>\n",
       "      <th>compliment_plain</th>\n",
       "      <th>compliment_cool</th>\n",
       "      <th>compliment_funny</th>\n",
       "      <th>compliment_writer</th>\n",
       "      <th>compliment_photos</th>\n",
       "    </tr>\n",
       "  </thead>\n",
       "  <tbody>\n",
       "    <tr>\n",
       "      <th>2840</th>\n",
       "      <td>7764</td>\n",
       "      <td>123</td>\n",
       "      <td>139</td>\n",
       "      <td>113</td>\n",
       "      <td>272</td>\n",
       "      <td>3.49</td>\n",
       "      <td>36</td>\n",
       "      <td>23</td>\n",
       "      <td>7</td>\n",
       "      <td>4</td>\n",
       "      <td>14</td>\n",
       "      <td>137</td>\n",
       "      <td>219</td>\n",
       "      <td>97</td>\n",
       "      <td>97</td>\n",
       "      <td>67</td>\n",
       "      <td>78</td>\n",
       "    </tr>\n",
       "    <tr>\n",
       "      <th>7485</th>\n",
       "      <td>5344</td>\n",
       "      <td>3905</td>\n",
       "      <td>3876</td>\n",
       "      <td>3847</td>\n",
       "      <td>397</td>\n",
       "      <td>3.93</td>\n",
       "      <td>2104</td>\n",
       "      <td>183</td>\n",
       "      <td>246</td>\n",
       "      <td>113</td>\n",
       "      <td>232</td>\n",
       "      <td>1028</td>\n",
       "      <td>6677</td>\n",
       "      <td>3624</td>\n",
       "      <td>3624</td>\n",
       "      <td>1165</td>\n",
       "      <td>338</td>\n",
       "    </tr>\n",
       "    <tr>\n",
       "      <th>7807</th>\n",
       "      <td>8353</td>\n",
       "      <td>22628</td>\n",
       "      <td>19263</td>\n",
       "      <td>19369</td>\n",
       "      <td>417</td>\n",
       "      <td>3.58</td>\n",
       "      <td>1294</td>\n",
       "      <td>379</td>\n",
       "      <td>252</td>\n",
       "      <td>19</td>\n",
       "      <td>39</td>\n",
       "      <td>708</td>\n",
       "      <td>2312</td>\n",
       "      <td>1797</td>\n",
       "      <td>1797</td>\n",
       "      <td>933</td>\n",
       "      <td>819</td>\n",
       "    </tr>\n",
       "    <tr>\n",
       "      <th>17081</th>\n",
       "      <td>6653</td>\n",
       "      <td>1444</td>\n",
       "      <td>1142</td>\n",
       "      <td>1167</td>\n",
       "      <td>237</td>\n",
       "      <td>3.32</td>\n",
       "      <td>92</td>\n",
       "      <td>39</td>\n",
       "      <td>12</td>\n",
       "      <td>2</td>\n",
       "      <td>1</td>\n",
       "      <td>208</td>\n",
       "      <td>496</td>\n",
       "      <td>288</td>\n",
       "      <td>288</td>\n",
       "      <td>78</td>\n",
       "      <td>89</td>\n",
       "    </tr>\n",
       "  </tbody>\n",
       "</table>\n",
       "</div>"
      ],
      "text/plain": [
       "       review_count  useful  funny   cool  fans  average_stars  \\\n",
       "2840           7764     123    139    113   272           3.49   \n",
       "7485           5344    3905   3876   3847   397           3.93   \n",
       "7807           8353   22628  19263  19369   417           3.58   \n",
       "17081          6653    1444   1142   1167   237           3.32   \n",
       "\n",
       "       compliment_hot  compliment_more  compliment_profile  compliment_cute  \\\n",
       "2840               36               23                   7                4   \n",
       "7485             2104              183                 246              113   \n",
       "7807             1294              379                 252               19   \n",
       "17081              92               39                  12                2   \n",
       "\n",
       "       compliment_list  compliment_note  compliment_plain  compliment_cool  \\\n",
       "2840                14              137               219               97   \n",
       "7485               232             1028              6677             3624   \n",
       "7807                39              708              2312             1797   \n",
       "17081                1              208               496              288   \n",
       "\n",
       "       compliment_funny  compliment_writer  compliment_photos  \n",
       "2840                 97                 67                 78  \n",
       "7485               3624               1165                338  \n",
       "7807               1797                933                819  \n",
       "17081               288                 78                 89  "
      ]
     },
     "execution_count": 44,
     "metadata": {},
     "output_type": "execute_result"
    }
   ],
   "source": [
    "### read all user data\n",
    "all_users = pd.read_csv(\"../top_rated_res_user.csv\", sep = \",\")\n",
    "all_users.shape\n",
    "users = all_users.drop(['id', 'name', 'yelping_since'], axis=1)\n",
    "users[users['review_count'] > 5000]"
   ]
  },
  {
   "cell_type": "markdown",
   "metadata": {},
   "source": [
    "## Clustering analysis to find outlying users across 5 most reviewed restaurants"
   ]
  },
  {
   "cell_type": "code",
   "execution_count": 45,
   "metadata": {},
   "outputs": [
    {
     "name": "stdout",
     "output_type": "stream",
     "text": [
      "{0, 1}\n",
      "cluster = 0 18525\n",
      "cluster = 1 66\n"
     ]
    }
   ],
   "source": [
    "from sklearn.preprocessing import StandardScaler\n",
    "from sklearn.cluster import KMeans, DBSCAN\n",
    "\n",
    "x = users.values\n",
    "scaler = StandardScaler()\n",
    "# x = scaler.fit_transform(x)\n",
    "kmeans = KMeans(n_clusters=2, random_state=1).fit(x)\n",
    "pred = kmeans.predict(x)\n",
    "print(set(pred))\n",
    "print(\"cluster = 0\", len(pred[np.where(pred == 0)[0]]) )\n",
    "print(\"cluster = 1\", len(pred[np.where(pred == 1)[0]]) )\n",
    "# we see that the class 1 are outliers"
   ]
  },
  {
   "cell_type": "code",
   "execution_count": 46,
   "metadata": {},
   "outputs": [
    {
     "data": {
      "text/html": [
       "<div>\n",
       "<style>\n",
       "    .dataframe thead tr:only-child th {\n",
       "        text-align: right;\n",
       "    }\n",
       "\n",
       "    .dataframe thead th {\n",
       "        text-align: left;\n",
       "    }\n",
       "\n",
       "    .dataframe tbody tr th {\n",
       "        vertical-align: top;\n",
       "    }\n",
       "</style>\n",
       "<table border=\"1\" class=\"dataframe\">\n",
       "  <thead>\n",
       "    <tr style=\"text-align: right;\">\n",
       "      <th></th>\n",
       "      <th>review_count</th>\n",
       "      <th>useful</th>\n",
       "      <th>funny</th>\n",
       "      <th>cool</th>\n",
       "      <th>fans</th>\n",
       "      <th>average_stars</th>\n",
       "      <th>compliment_hot</th>\n",
       "      <th>compliment_more</th>\n",
       "      <th>compliment_profile</th>\n",
       "      <th>compliment_cute</th>\n",
       "      <th>compliment_list</th>\n",
       "      <th>compliment_note</th>\n",
       "      <th>compliment_plain</th>\n",
       "      <th>compliment_cool</th>\n",
       "      <th>compliment_funny</th>\n",
       "      <th>compliment_writer</th>\n",
       "      <th>compliment_photos</th>\n",
       "    </tr>\n",
       "  </thead>\n",
       "  <tbody>\n",
       "    <tr>\n",
       "      <th>17383</th>\n",
       "      <td>558</td>\n",
       "      <td>24535</td>\n",
       "      <td>10353</td>\n",
       "      <td>18462</td>\n",
       "      <td>183</td>\n",
       "      <td>3.55</td>\n",
       "      <td>266</td>\n",
       "      <td>51</td>\n",
       "      <td>15</td>\n",
       "      <td>5</td>\n",
       "      <td>6</td>\n",
       "      <td>571</td>\n",
       "      <td>777</td>\n",
       "      <td>718</td>\n",
       "      <td>718</td>\n",
       "      <td>335</td>\n",
       "      <td>318</td>\n",
       "    </tr>\n",
       "    <tr>\n",
       "      <th>17580</th>\n",
       "      <td>3253</td>\n",
       "      <td>48621</td>\n",
       "      <td>29166</td>\n",
       "      <td>38033</td>\n",
       "      <td>1266</td>\n",
       "      <td>3.42</td>\n",
       "      <td>2832</td>\n",
       "      <td>315</td>\n",
       "      <td>348</td>\n",
       "      <td>126</td>\n",
       "      <td>220</td>\n",
       "      <td>2968</td>\n",
       "      <td>11276</td>\n",
       "      <td>5481</td>\n",
       "      <td>5481</td>\n",
       "      <td>1251</td>\n",
       "      <td>451</td>\n",
       "    </tr>\n",
       "    <tr>\n",
       "      <th>17662</th>\n",
       "      <td>761</td>\n",
       "      <td>17478</td>\n",
       "      <td>17469</td>\n",
       "      <td>17413</td>\n",
       "      <td>196</td>\n",
       "      <td>4.44</td>\n",
       "      <td>2982</td>\n",
       "      <td>254</td>\n",
       "      <td>506</td>\n",
       "      <td>317</td>\n",
       "      <td>166</td>\n",
       "      <td>1073</td>\n",
       "      <td>2951</td>\n",
       "      <td>3326</td>\n",
       "      <td>3326</td>\n",
       "      <td>1399</td>\n",
       "      <td>2700</td>\n",
       "    </tr>\n",
       "    <tr>\n",
       "      <th>17756</th>\n",
       "      <td>672</td>\n",
       "      <td>17608</td>\n",
       "      <td>17329</td>\n",
       "      <td>17569</td>\n",
       "      <td>63</td>\n",
       "      <td>3.47</td>\n",
       "      <td>315</td>\n",
       "      <td>22</td>\n",
       "      <td>11</td>\n",
       "      <td>1</td>\n",
       "      <td>5</td>\n",
       "      <td>164</td>\n",
       "      <td>916</td>\n",
       "      <td>625</td>\n",
       "      <td>625</td>\n",
       "      <td>115</td>\n",
       "      <td>16</td>\n",
       "    </tr>\n",
       "    <tr>\n",
       "      <th>17809</th>\n",
       "      <td>2159</td>\n",
       "      <td>24482</td>\n",
       "      <td>24027</td>\n",
       "      <td>25391</td>\n",
       "      <td>567</td>\n",
       "      <td>3.83</td>\n",
       "      <td>18812</td>\n",
       "      <td>1013</td>\n",
       "      <td>1543</td>\n",
       "      <td>1443</td>\n",
       "      <td>357</td>\n",
       "      <td>3038</td>\n",
       "      <td>6724</td>\n",
       "      <td>11404</td>\n",
       "      <td>11404</td>\n",
       "      <td>4222</td>\n",
       "      <td>6771</td>\n",
       "    </tr>\n",
       "  </tbody>\n",
       "</table>\n",
       "</div>"
      ],
      "text/plain": [
       "       review_count  useful  funny   cool  fans  average_stars  \\\n",
       "17383           558   24535  10353  18462   183           3.55   \n",
       "17580          3253   48621  29166  38033  1266           3.42   \n",
       "17662           761   17478  17469  17413   196           4.44   \n",
       "17756           672   17608  17329  17569    63           3.47   \n",
       "17809          2159   24482  24027  25391   567           3.83   \n",
       "\n",
       "       compliment_hot  compliment_more  compliment_profile  compliment_cute  \\\n",
       "17383             266               51                  15                5   \n",
       "17580            2832              315                 348              126   \n",
       "17662            2982              254                 506              317   \n",
       "17756             315               22                  11                1   \n",
       "17809           18812             1013                1543             1443   \n",
       "\n",
       "       compliment_list  compliment_note  compliment_plain  compliment_cool  \\\n",
       "17383                6              571               777              718   \n",
       "17580              220             2968             11276             5481   \n",
       "17662              166             1073              2951             3326   \n",
       "17756                5              164               916              625   \n",
       "17809              357             3038              6724            11404   \n",
       "\n",
       "       compliment_funny  compliment_writer  compliment_photos  \n",
       "17383               718                335                318  \n",
       "17580              5481               1251                451  \n",
       "17662              3326               1399               2700  \n",
       "17756               625                115                 16  \n",
       "17809             11404               4222               6771  "
      ]
     },
     "execution_count": 46,
     "metadata": {},
     "output_type": "execute_result"
    }
   ],
   "source": [
    "## analysing outliers in detail\n",
    "outliers = np.where(pred == 1)[0]\n",
    "users.iloc[outliers,:].tail()"
   ]
  },
  {
   "cell_type": "code",
   "execution_count": 47,
   "metadata": {},
   "outputs": [
    {
     "name": "stdout",
     "output_type": "stream",
     "text": [
      "Variance Explained : 0.9629267095396812 [0.93079208 0.03213463]\n"
     ]
    }
   ],
   "source": [
    "from sklearn.decomposition import PCA\n",
    "pca = PCA(n_components = 2)\n",
    "x_red = pca.fit_transform(x)\n",
    "print(\"Variance Explained :\", np.sum(pca.explained_variance_ratio_), pca.explained_variance_ratio_)"
   ]
  },
  {
   "cell_type": "code",
   "execution_count": 48,
   "metadata": {
    "scrolled": true
   },
   "outputs": [
    {
     "data": {
      "text/plain": [
       "<matplotlib.collections.PathCollection at 0x1155879b0>"
      ]
     },
     "execution_count": 48,
     "metadata": {},
     "output_type": "execute_result"
    },
    {
     "data": {
      "image/png": "[encoded data removed]",
      "text/plain": [
       "<Figure size 432x288 with 1 Axes>"
      ]
     },
     "metadata": {},
     "output_type": "display_data"
    }
   ],
   "source": [
    "color = ['r' if c == 1 else 'b' for c in pred]\n",
    "plt.scatter(x = x_red[:,0], y = x_red[:,1], c= color)"
   ]
  },
  {
   "cell_type": "code",
   "execution_count": 40,
   "metadata": {
    "scrolled": true
   },
   "outputs": [
    {
     "name": "stdout",
     "output_type": "stream",
     "text": [
      "{0, -1}\n",
      "cluster = 0 12982\n",
      "cluster = 1 0\n",
      "cluster = -1 5609\n"
     ]
    }
   ],
   "source": [
    "x = users.values\n",
    "scaler = StandardScaler()\n",
    "x = scaler.fit_transform(x)\n",
    "dbscan = DBSCAN(min_samples=20, eps = 0.01, metric=\"cosine\", algorithm='brute').fit(x)\n",
    "pred = dbscan.fit_predict(x)\n",
    "print(set(pred))\n",
    "print(\"cluster = 0\", len(pred[np.where(pred == 0)[0]]) )\n",
    "print(\"cluster = 1\", len(pred[np.where(pred == 1)[0]]) )\n",
    "print(\"cluster = -1\", len(pred[np.where(pred == -1)[0]]) )"
   ]
  },
  {
   "cell_type": "code",
   "execution_count": 41,
   "metadata": {},
   "outputs": [
    {
     "data": {
      "text/plain": [
       "<matplotlib.collections.PathCollection at 0x1142490f0>"
      ]
     },
     "execution_count": 41,
     "metadata": {},
     "output_type": "execute_result"
    },
    {
     "data": {
      "image/png": "[encoded data removed]",
      "text/plain": [
       "<Figure size 432x288 with 1 Axes>"
      ]
     },
     "metadata": {},
     "output_type": "display_data"
    }
   ],
   "source": [
    "# print(list(pred))\n",
    "color = ['r' if c == -1 else 'b' for c in pred]\n",
    "plt.scatter(x = x_red[:,0], y = x_red[:,1], c= color)"
   ]
  },
  {
   "cell_type": "code",
   "execution_count": 42,
   "metadata": {
    "collapsed": true
   },
   "outputs": [],
   "source": [
    "# from sklearn.manifold import TSNE\n",
    "# tsne = TSNE(n_components = 2, metric = 'cosine', n_iter = 250)\n",
    "# x_red = tsne.fit_transform(x)\n",
    "# print(\"divergence :\",kl_divergence_)"
   ]
  },
  {
   "cell_type": "code",
   "execution_count": 43,
   "metadata": {},
   "outputs": [
    {
     "data": {
      "text/html": [
       "<div>\n",
       "<style>\n",
       "    .dataframe thead tr:only-child th {\n",
       "        text-align: right;\n",
       "    }\n",
       "\n",
       "    .dataframe thead th {\n",
       "        text-align: left;\n",
       "    }\n",
       "\n",
       "    .dataframe tbody tr th {\n",
       "        vertical-align: top;\n",
       "    }\n",
       "</style>\n",
       "<table border=\"1\" class=\"dataframe\">\n",
       "  <thead>\n",
       "    <tr style=\"text-align: right;\">\n",
       "      <th></th>\n",
       "      <th>review_count</th>\n",
       "      <th>useful</th>\n",
       "      <th>funny</th>\n",
       "      <th>cool</th>\n",
       "      <th>fans</th>\n",
       "      <th>average_stars</th>\n",
       "      <th>compliment_hot</th>\n",
       "      <th>compliment_more</th>\n",
       "      <th>compliment_profile</th>\n",
       "      <th>compliment_cute</th>\n",
       "      <th>compliment_list</th>\n",
       "      <th>compliment_note</th>\n",
       "      <th>compliment_plain</th>\n",
       "      <th>compliment_cool</th>\n",
       "      <th>compliment_funny</th>\n",
       "      <th>compliment_writer</th>\n",
       "      <th>compliment_photos</th>\n",
       "    </tr>\n",
       "  </thead>\n",
       "  <tbody>\n",
       "    <tr>\n",
       "      <th>0</th>\n",
       "      <td>214</td>\n",
       "      <td>64</td>\n",
       "      <td>6</td>\n",
       "      <td>4</td>\n",
       "      <td>11</td>\n",
       "      <td>3.91</td>\n",
       "      <td>11</td>\n",
       "      <td>6</td>\n",
       "      <td>0</td>\n",
       "      <td>0</td>\n",
       "      <td>0</td>\n",
       "      <td>5</td>\n",
       "      <td>20</td>\n",
       "      <td>18</td>\n",
       "      <td>18</td>\n",
       "      <td>9</td>\n",
       "      <td>2</td>\n",
       "    </tr>\n",
       "    <tr>\n",
       "      <th>6</th>\n",
       "      <td>372</td>\n",
       "      <td>351</td>\n",
       "      <td>51</td>\n",
       "      <td>32</td>\n",
       "      <td>33</td>\n",
       "      <td>3.82</td>\n",
       "      <td>20</td>\n",
       "      <td>3</td>\n",
       "      <td>0</td>\n",
       "      <td>3</td>\n",
       "      <td>0</td>\n",
       "      <td>17</td>\n",
       "      <td>33</td>\n",
       "      <td>19</td>\n",
       "      <td>19</td>\n",
       "      <td>7</td>\n",
       "      <td>2</td>\n",
       "    </tr>\n",
       "    <tr>\n",
       "      <th>17</th>\n",
       "      <td>214</td>\n",
       "      <td>9</td>\n",
       "      <td>12</td>\n",
       "      <td>9</td>\n",
       "      <td>5</td>\n",
       "      <td>4.11</td>\n",
       "      <td>4</td>\n",
       "      <td>7</td>\n",
       "      <td>0</td>\n",
       "      <td>1</td>\n",
       "      <td>1</td>\n",
       "      <td>3</td>\n",
       "      <td>5</td>\n",
       "      <td>11</td>\n",
       "      <td>11</td>\n",
       "      <td>6</td>\n",
       "      <td>1</td>\n",
       "    </tr>\n",
       "    <tr>\n",
       "      <th>20</th>\n",
       "      <td>315</td>\n",
       "      <td>23</td>\n",
       "      <td>23</td>\n",
       "      <td>3</td>\n",
       "      <td>26</td>\n",
       "      <td>3.70</td>\n",
       "      <td>13</td>\n",
       "      <td>5</td>\n",
       "      <td>0</td>\n",
       "      <td>0</td>\n",
       "      <td>0</td>\n",
       "      <td>5</td>\n",
       "      <td>17</td>\n",
       "      <td>29</td>\n",
       "      <td>29</td>\n",
       "      <td>12</td>\n",
       "      <td>2</td>\n",
       "    </tr>\n",
       "    <tr>\n",
       "      <th>24</th>\n",
       "      <td>408</td>\n",
       "      <td>820</td>\n",
       "      <td>753</td>\n",
       "      <td>746</td>\n",
       "      <td>83</td>\n",
       "      <td>3.67</td>\n",
       "      <td>1004</td>\n",
       "      <td>91</td>\n",
       "      <td>72</td>\n",
       "      <td>80</td>\n",
       "      <td>32</td>\n",
       "      <td>200</td>\n",
       "      <td>1038</td>\n",
       "      <td>1209</td>\n",
       "      <td>1209</td>\n",
       "      <td>333</td>\n",
       "      <td>249</td>\n",
       "    </tr>\n",
       "  </tbody>\n",
       "</table>\n",
       "</div>"
      ],
      "text/plain": [
       "    review_count  useful  funny  cool  fans  average_stars  compliment_hot  \\\n",
       "0            214      64      6     4    11           3.91              11   \n",
       "6            372     351     51    32    33           3.82              20   \n",
       "17           214       9     12     9     5           4.11               4   \n",
       "20           315      23     23     3    26           3.70              13   \n",
       "24           408     820    753   746    83           3.67            1004   \n",
       "\n",
       "    compliment_more  compliment_profile  compliment_cute  compliment_list  \\\n",
       "0                 6                   0                0                0   \n",
       "6                 3                   0                3                0   \n",
       "17                7                   0                1                1   \n",
       "20                5                   0                0                0   \n",
       "24               91                  72               80               32   \n",
       "\n",
       "    compliment_note  compliment_plain  compliment_cool  compliment_funny  \\\n",
       "0                 5                20               18                18   \n",
       "6                17                33               19                19   \n",
       "17                3                 5               11                11   \n",
       "20                5                17               29                29   \n",
       "24              200              1038             1209              1209   \n",
       "\n",
       "    compliment_writer  compliment_photos  \n",
       "0                   9                  2  \n",
       "6                   7                  2  \n",
       "17                  6                  1  \n",
       "20                 12                  2  \n",
       "24                333                249  "
      ]
     },
     "execution_count": 43,
     "metadata": {},
     "output_type": "execute_result"
    }
   ],
   "source": [
    "# color = ['r' if c == -1 else 'b' for c in pred]\n",
    "# plt.scatter(x = x_red[:,0], y = x_red[:,1], c= color)\n",
    "outliers = np.where(pred == -1)[0]\n",
    "users.iloc[outliers,:].head()"
   ]
  },
  {
   "cell_type": "code",
   "execution_count": 43,
   "metadata": {},
   "outputs": [
    {
     "ename": "NameError",
     "evalue": "name 'users' is not defined",
     "output_type": "error",
     "traceback": [
      "\u001b[0;31m---------------------------------------------------------------------------\u001b[0m",
      "\u001b[0;31mNameError\u001b[0m                                 Traceback (most recent call last)",
      "\u001b[0;32m<ipython-input-43-4247e9cd9fa9>\u001b[0m in \u001b[0;36m<module>\u001b[0;34m()\u001b[0m\n\u001b[0;32m----> 1\u001b[0;31m \u001b[0mx\u001b[0m \u001b[0;34m=\u001b[0m \u001b[0musers\u001b[0m\u001b[0;34m.\u001b[0m\u001b[0mvalues\u001b[0m\u001b[0;34m\u001b[0m\u001b[0m\n\u001b[0m\u001b[1;32m      2\u001b[0m \u001b[0mscaler\u001b[0m \u001b[0;34m=\u001b[0m \u001b[0mStandardScaler\u001b[0m\u001b[0;34m(\u001b[0m\u001b[0;34m)\u001b[0m\u001b[0;34m\u001b[0m\u001b[0m\n\u001b[1;32m      3\u001b[0m \u001b[0mx\u001b[0m \u001b[0;34m=\u001b[0m \u001b[0mscaler\u001b[0m\u001b[0;34m.\u001b[0m\u001b[0mfit_transform\u001b[0m\u001b[0;34m(\u001b[0m\u001b[0mx\u001b[0m\u001b[0;34m)\u001b[0m\u001b[0;34m\u001b[0m\u001b[0m\n\u001b[1;32m      4\u001b[0m \u001b[0mdbscan\u001b[0m \u001b[0;34m=\u001b[0m \u001b[0mDBSCAN\u001b[0m\u001b[0;34m(\u001b[0m\u001b[0mmin_samples\u001b[0m\u001b[0;34m=\u001b[0m\u001b[0;36m5\u001b[0m\u001b[0;34m,\u001b[0m \u001b[0meps\u001b[0m \u001b[0;34m=\u001b[0m \u001b[0;36m40\u001b[0m\u001b[0;34m,\u001b[0m \u001b[0mmetric\u001b[0m\u001b[0;34m=\u001b[0m\u001b[0;34m\"manhattan\"\u001b[0m\u001b[0;34m)\u001b[0m\u001b[0;34m.\u001b[0m\u001b[0mfit\u001b[0m\u001b[0;34m(\u001b[0m\u001b[0mx\u001b[0m\u001b[0;34m)\u001b[0m\u001b[0;34m\u001b[0m\u001b[0m\n\u001b[1;32m      5\u001b[0m \u001b[0mpred\u001b[0m \u001b[0;34m=\u001b[0m \u001b[0mdbscan\u001b[0m\u001b[0;34m.\u001b[0m\u001b[0mfit_predict\u001b[0m\u001b[0;34m(\u001b[0m\u001b[0mx\u001b[0m\u001b[0;34m)\u001b[0m\u001b[0;34m\u001b[0m\u001b[0m\n",
      "\u001b[0;31mNameError\u001b[0m: name 'users' is not defined"
     ]
    }
   ],
   "source": [
    "x = users.values\n",
    "scaler = StandardScaler()\n",
    "x = scaler.fit_transform(x)\n",
    "dbscan = DBSCAN(min_samples=5, eps = 40, metric=\"manhattan\").fit(x)\n",
    "pred = dbscan.fit_predict(x)\n",
    "print(set(pred))\n",
    "print(\"cluster = 0\", len(pred[np.where(pred == 0)[0]]) )\n",
    "print(\"cluster = 1\", len(pred[np.where(pred == 1)[0]]) )\n",
    "print(\"cluster = -1\", len(pred[np.where(pred == -1)[0]]) )"
   ]
  },
  {
   "cell_type": "code",
   "execution_count": 45,
   "metadata": {},
   "outputs": [
    {
     "data": {
      "text/plain": [
       "<matplotlib.collections.PathCollection at 0x10ffcbd30>"
      ]
     },
     "execution_count": 45,
     "metadata": {},
     "output_type": "execute_result"
    },
    {
     "data": {
      "image/png": "[encoded data removed]",
      "text/plain": [
       "<Figure size 432x288 with 1 Axes>"
      ]
     },
     "metadata": {},
     "output_type": "display_data"
    }
   ],
   "source": [
    "# print(list(pred))\n",
    "color = ['r' if c == -1 else 'b' for c in pred]\n",
    "plt.scatter(x = x_red[:,0], y = x_red[:,1], c= color)"
   ]
  },
  {
   "cell_type": "code",
   "execution_count": 111,
   "metadata": {
    "collapsed": true,
    "scrolled": false
   },
   "outputs": [],
   "source": [
    "def get_rolling(file):\n",
    "    reviews = pd.read_html(file, header=0)[0]\n",
    "    reviews['date'] = pd.to_datetime(reviews['date'])\n",
    "    reviews['year'], reviews['month'] = reviews['date'].dt.year, reviews['date'].dt.month\n",
    "    reviews = reviews.sort_values(by=['date'])\n",
    "    thres = 30\n",
    "    reviews['stars_rolling_before'] = reviews['stars'].rolling(thres).mean()\n",
    "    reviews = reviews.sort_values(by=['date'], ascending=False)\n",
    "    reviews['stars_rolling_after'] = reviews['stars'].rolling(thres).mean()\n",
    "    reviews = reviews.sort_values(by=['date'])\n",
    "#     outliers = np.where(pred == -1)[0]\n",
    "#     all_users.iloc[outliers,:].head()\n",
    "    influencers_ids = list(all_users.iloc[outliers,:]['id'])\n",
    "    influencers_reviews = reviews[reviews['user_id'].isin(influencers_ids)]\n",
    "    influencers_reviews = influencers_reviews.sort_values(by=['date'])\n",
    "    influencers_reviews = influencers_reviews.dropna()\n",
    "#     influencers_reviews['stars_rolling_before'].values\n",
    "    before, after = influencers_reviews['stars_rolling_before'].values, influencers_reviews['stars_rolling_after'].values\n",
    "    mean_star_diff = np.diff([before, after], axis=0)\n",
    "    return mean_star_diff[0]"
   ]
  },
  {
   "cell_type": "code",
   "execution_count": 112,
   "metadata": {},
   "outputs": [
    {
     "name": "stdout",
     "output_type": "stream",
     "text": [
      "66\n"
     ]
    }
   ],
   "source": [
    "print(len(outliers))"
   ]
  },
  {
   "cell_type": "code",
   "execution_count": 47,
   "metadata": {},
   "outputs": [
    {
     "name": "stderr",
     "output_type": "stream",
     "text": [
      "\r",
      "  0%|          | 0/1 [00:00<?, ?it/s]"
     ]
    },
    {
     "name": "stdout",
     "output_type": "stream",
     "text": [
      "['../schwartz_reviews.html', '../aria_reviews.html', '../eat_reviews.html', '../fourpeaks_reviews.html', '../earl_reviews.html', '../bacchanal_reivews.html', '../wicked_reviews.html', '../ellis_reviews.html', '../mon_reviews.html', '../gordon_reviews.html']\n"
     ]
    },
    {
     "name": "stderr",
     "output_type": "stream",
     "text": [
      "100%|██████████| 1/1 [00:11<00:00, 11.51s/it]\n"
     ]
    }
   ],
   "source": [
    "files = glob.glob('../*.html')\n",
    "# mean_diff = {str(i): None for i in files}\n",
    "print(files)\n",
    "mean_diff = []\n",
    "for file in tqdm([files[4]]):\n",
    "    mean_diff.append(get_rolling(file))\n",
    "    "
   ]
  },
  {
   "cell_type": "code",
   "execution_count": 48,
   "metadata": {
    "collapsed": true
   },
   "outputs": [],
   "source": [
    "diff = [j for i in mean_diff for j in i]"
   ]
  },
  {
   "cell_type": "code",
   "execution_count": 49,
   "metadata": {},
   "outputs": [
    {
     "data": {
      "text/plain": [
       "Ttest_1sampResult(statistic=0.03052340232818107, pvalue=0.9756529203478516)"
      ]
     },
     "execution_count": 49,
     "metadata": {},
     "output_type": "execute_result"
    }
   ],
   "source": [
    "from scipy import stats\n",
    "stats.ttest_1samp(diff,0)"
   ]
  },
  {
   "cell_type": "code",
   "execution_count": 50,
   "metadata": {},
   "outputs": [
    {
     "data": {
      "text/plain": [
       "['JzOp695tclcNCNMuBl7oxA',\n",
       " 'LR0qF0FEVsCOhYWUOiH26A',\n",
       " '0W4lkclzZThpx3V65bVgig',\n",
       " 'EAwh1OmG6t6p3nRaZOW_AA',\n",
       " 'l_GV0hgEoTUf70uJVT0_hg']"
      ]
     },
     "execution_count": 50,
     "metadata": {},
     "output_type": "execute_result"
    }
   ],
   "source": [
    "review_counts = pd.read_csv('../restaurants.csv')\n",
    "review_counts = review_counts[review_counts['review_count'] <= 2000]\n",
    "review_counts.sort_values(by=['review_count'], ascending=False, inplace=True)\n",
    "df = review_counts.iloc[:5, :]\n",
    "list(df['id'])"
   ]
  },
  {
   "cell_type": "code",
   "execution_count": 51,
   "metadata": {},
   "outputs": [
    {
     "data": {
      "text/html": [
       "<div>\n",
       "<style>\n",
       "    .dataframe thead tr:only-child th {\n",
       "        text-align: right;\n",
       "    }\n",
       "\n",
       "    .dataframe thead th {\n",
       "        text-align: left;\n",
       "    }\n",
       "\n",
       "    .dataframe tbody tr th {\n",
       "        vertical-align: top;\n",
       "    }\n",
       "</style>\n",
       "<table border=\"1\" class=\"dataframe\">\n",
       "  <thead>\n",
       "    <tr style=\"text-align: right;\">\n",
       "      <th></th>\n",
       "      <th>id</th>\n",
       "      <th>name</th>\n",
       "      <th>neighborhood</th>\n",
       "      <th>address</th>\n",
       "      <th>city</th>\n",
       "      <th>state</th>\n",
       "      <th>postal_code</th>\n",
       "      <th>latitude</th>\n",
       "      <th>longitude</th>\n",
       "      <th>stars</th>\n",
       "      <th>review_count</th>\n",
       "      <th>is_open</th>\n",
       "    </tr>\n",
       "  </thead>\n",
       "  <tbody>\n",
       "    <tr>\n",
       "      <th>26407</th>\n",
       "      <td>JzOp695tclcNCNMuBl7oxA</td>\n",
       "      <td>Four Peaks Brewing</td>\n",
       "      <td>NaN</td>\n",
       "      <td>1340 E 8th St, Ste 104</td>\n",
       "      <td>Tempe</td>\n",
       "      <td>AZ</td>\n",
       "      <td>85281</td>\n",
       "      <td>33.4196</td>\n",
       "      <td>-111.9160</td>\n",
       "      <td>4.5</td>\n",
       "      <td>1965</td>\n",
       "      <td>1</td>\n",
       "    </tr>\n",
       "    <tr>\n",
       "      <th>29391</th>\n",
       "      <td>LR0qF0FEVsCOhYWUOiH26A</td>\n",
       "      <td>The Buffet at ARIA</td>\n",
       "      <td>The Strip</td>\n",
       "      <td>3743 Las Vegas Blvd S</td>\n",
       "      <td>Las Vegas</td>\n",
       "      <td>NV</td>\n",
       "      <td>89109</td>\n",
       "      <td>36.1071</td>\n",
       "      <td>-115.1780</td>\n",
       "      <td>3.0</td>\n",
       "      <td>1961</td>\n",
       "      <td>1</td>\n",
       "    </tr>\n",
       "    <tr>\n",
       "      <th>1651</th>\n",
       "      <td>0W4lkclzZThpx3V65bVgig</td>\n",
       "      <td>Schwartz's</td>\n",
       "      <td>Plateau-Mont-Royal</td>\n",
       "      <td>3895 Boulevard Saint-Laurent</td>\n",
       "      <td>Montréal</td>\n",
       "      <td>QC</td>\n",
       "      <td>H2W 1X9</td>\n",
       "      <td>45.5164</td>\n",
       "      <td>-73.5775</td>\n",
       "      <td>4.0</td>\n",
       "      <td>1953</td>\n",
       "      <td>1</td>\n",
       "    </tr>\n",
       "    <tr>\n",
       "      <th>16597</th>\n",
       "      <td>EAwh1OmG6t6p3nRaZOW_AA</td>\n",
       "      <td>Ellis Island Hotel, Casino &amp; Brewery</td>\n",
       "      <td>Eastside</td>\n",
       "      <td>4178 Koval Ln</td>\n",
       "      <td>Las Vegas</td>\n",
       "      <td>NV</td>\n",
       "      <td>89109</td>\n",
       "      <td>36.1130</td>\n",
       "      <td>-115.1630</td>\n",
       "      <td>4.0</td>\n",
       "      <td>1946</td>\n",
       "      <td>1</td>\n",
       "    </tr>\n",
       "    <tr>\n",
       "      <th>29916</th>\n",
       "      <td>l_GV0hgEoTUf70uJVT0_hg</td>\n",
       "      <td>Eat.</td>\n",
       "      <td>Downtown</td>\n",
       "      <td>707 Carson Ave</td>\n",
       "      <td>Las Vegas</td>\n",
       "      <td>NV</td>\n",
       "      <td>89101</td>\n",
       "      <td>36.1667</td>\n",
       "      <td>-115.1390</td>\n",
       "      <td>4.0</td>\n",
       "      <td>1941</td>\n",
       "      <td>1</td>\n",
       "    </tr>\n",
       "  </tbody>\n",
       "</table>\n",
       "</div>"
      ],
      "text/plain": [
       "                           id                                  name  \\\n",
       "26407  JzOp695tclcNCNMuBl7oxA                    Four Peaks Brewing   \n",
       "29391  LR0qF0FEVsCOhYWUOiH26A                    The Buffet at ARIA   \n",
       "1651   0W4lkclzZThpx3V65bVgig                            Schwartz's   \n",
       "16597  EAwh1OmG6t6p3nRaZOW_AA  Ellis Island Hotel, Casino & Brewery   \n",
       "29916  l_GV0hgEoTUf70uJVT0_hg                                  Eat.   \n",
       "\n",
       "             neighborhood                       address       city state  \\\n",
       "26407                 NaN        1340 E 8th St, Ste 104      Tempe    AZ   \n",
       "29391           The Strip         3743 Las Vegas Blvd S  Las Vegas    NV   \n",
       "1651   Plateau-Mont-Royal  3895 Boulevard Saint-Laurent   Montréal    QC   \n",
       "16597            Eastside                 4178 Koval Ln  Las Vegas    NV   \n",
       "29916            Downtown                707 Carson Ave  Las Vegas    NV   \n",
       "\n",
       "      postal_code  latitude  longitude  stars  review_count  is_open  \n",
       "26407       85281   33.4196  -111.9160    4.5          1965        1  \n",
       "29391       89109   36.1071  -115.1780    3.0          1961        1  \n",
       "1651      H2W 1X9   45.5164   -73.5775    4.0          1953        1  \n",
       "16597       89109   36.1130  -115.1630    4.0          1946        1  \n",
       "29916       89101   36.1667  -115.1390    4.0          1941        1  "
      ]
     },
     "execution_count": 51,
     "metadata": {},
     "output_type": "execute_result"
    }
   ],
   "source": [
    "df"
   ]
  },
  {
   "cell_type": "code",
   "execution_count": 30,
   "metadata": {
    "collapsed": true
   },
   "outputs": [],
   "source": [
    "reviews = pd.read_html('../mon_reviews.html', header=0)[0]"
   ]
  },
  {
   "cell_type": "code",
   "execution_count": 31,
   "metadata": {
    "scrolled": false
   },
   "outputs": [
    {
     "data": {
      "text/html": [
       "<div>\n",
       "<style>\n",
       "    .dataframe thead tr:only-child th {\n",
       "        text-align: right;\n",
       "    }\n",
       "\n",
       "    .dataframe thead th {\n",
       "        text-align: left;\n",
       "    }\n",
       "\n",
       "    .dataframe tbody tr th {\n",
       "        vertical-align: top;\n",
       "    }\n",
       "</style>\n",
       "<table border=\"1\" class=\"dataframe\">\n",
       "  <thead>\n",
       "    <tr style=\"text-align: right;\">\n",
       "      <th></th>\n",
       "      <th>id</th>\n",
       "      <th>business_id</th>\n",
       "      <th>user_id</th>\n",
       "      <th>stars</th>\n",
       "      <th>date</th>\n",
       "      <th>text</th>\n",
       "      <th>useful</th>\n",
       "      <th>funny</th>\n",
       "      <th>cool</th>\n",
       "      <th>year</th>\n",
       "      <th>month</th>\n",
       "    </tr>\n",
       "  </thead>\n",
       "  <tbody>\n",
       "    <tr>\n",
       "      <th>3250</th>\n",
       "      <td>ojCMmtgJPvw6yaIDpUYZmw</td>\n",
       "      <td>4JNXUYY8wbaaDmk3BPzlWw</td>\n",
       "      <td>qEYG5IE5dTekjIhdoV31bQ</td>\n",
       "      <td>5</td>\n",
       "      <td>2005-10-10</td>\n",
       "      <td>If you enjoy a little people watching with you...</td>\n",
       "      <td>0</td>\n",
       "      <td>0</td>\n",
       "      <td>0</td>\n",
       "      <td>2005</td>\n",
       "      <td>10</td>\n",
       "    </tr>\n",
       "    <tr>\n",
       "      <th>1461</th>\n",
       "      <td>diaVB93Is7yYD-ajYQKvqw</td>\n",
       "      <td>4JNXUYY8wbaaDmk3BPzlWw</td>\n",
       "      <td>k2zuwaAne-FhHd8M6bXnyQ</td>\n",
       "      <td>5</td>\n",
       "      <td>2005-10-15</td>\n",
       "      <td>affordable, fairly classic french food sit out...</td>\n",
       "      <td>2</td>\n",
       "      <td>2</td>\n",
       "      <td>2</td>\n",
       "      <td>2005</td>\n",
       "      <td>10</td>\n",
       "    </tr>\n",
       "    <tr>\n",
       "      <th>598</th>\n",
       "      <td>6HswqFO2yndpRGCe2gIAwg</td>\n",
       "      <td>4JNXUYY8wbaaDmk3BPzlWw</td>\n",
       "      <td>gjhzKWsqCIrpEd9pevbKZw</td>\n",
       "      <td>4</td>\n",
       "      <td>2005-12-02</td>\n",
       "      <td>Though heartbroken and a bit aimless on my 22n...</td>\n",
       "      <td>3</td>\n",
       "      <td>2</td>\n",
       "      <td>3</td>\n",
       "      <td>2005</td>\n",
       "      <td>12</td>\n",
       "    </tr>\n",
       "    <tr>\n",
       "      <th>1404</th>\n",
       "      <td>d2IvFpPFBs6trRqVkqyjbg</td>\n",
       "      <td>4JNXUYY8wbaaDmk3BPzlWw</td>\n",
       "      <td>8-lLoii2bEEB_IDJlryyDw</td>\n",
       "      <td>4</td>\n",
       "      <td>2006-01-07</td>\n",
       "      <td>The food and wine was amazing, but the super h...</td>\n",
       "      <td>1</td>\n",
       "      <td>0</td>\n",
       "      <td>0</td>\n",
       "      <td>2006</td>\n",
       "      <td>1</td>\n",
       "    </tr>\n",
       "    <tr>\n",
       "      <th>2881</th>\n",
       "      <td>M99598wD-2oEQhGru_GvEQ</td>\n",
       "      <td>4JNXUYY8wbaaDmk3BPzlWw</td>\n",
       "      <td>_W4y7ku6Q0uGoiI3ePtkgQ</td>\n",
       "      <td>5</td>\n",
       "      <td>2006-01-31</td>\n",
       "      <td>Yippy! Make-your-own bloody mary bar! Chose th...</td>\n",
       "      <td>0</td>\n",
       "      <td>1</td>\n",
       "      <td>0</td>\n",
       "      <td>2006</td>\n",
       "      <td>1</td>\n",
       "    </tr>\n",
       "  </tbody>\n",
       "</table>\n",
       "</div>"
      ],
      "text/plain": [
       "                          id             business_id                 user_id  \\\n",
       "3250  ojCMmtgJPvw6yaIDpUYZmw  4JNXUYY8wbaaDmk3BPzlWw  qEYG5IE5dTekjIhdoV31bQ   \n",
       "1461  diaVB93Is7yYD-ajYQKvqw  4JNXUYY8wbaaDmk3BPzlWw  k2zuwaAne-FhHd8M6bXnyQ   \n",
       "598   6HswqFO2yndpRGCe2gIAwg  4JNXUYY8wbaaDmk3BPzlWw  gjhzKWsqCIrpEd9pevbKZw   \n",
       "1404  d2IvFpPFBs6trRqVkqyjbg  4JNXUYY8wbaaDmk3BPzlWw  8-lLoii2bEEB_IDJlryyDw   \n",
       "2881  M99598wD-2oEQhGru_GvEQ  4JNXUYY8wbaaDmk3BPzlWw  _W4y7ku6Q0uGoiI3ePtkgQ   \n",
       "\n",
       "      stars       date                                               text  \\\n",
       "3250      5 2005-10-10  If you enjoy a little people watching with you...   \n",
       "1461      5 2005-10-15  affordable, fairly classic french food sit out...   \n",
       "598       4 2005-12-02  Though heartbroken and a bit aimless on my 22n...   \n",
       "1404      4 2006-01-07  The food and wine was amazing, but the super h...   \n",
       "2881      5 2006-01-31  Yippy! Make-your-own bloody mary bar! Chose th...   \n",
       "\n",
       "      useful  funny  cool  year  month  \n",
       "3250       0      0     0  2005     10  \n",
       "1461       2      2     2  2005     10  \n",
       "598        3      2     3  2005     12  \n",
       "1404       1      0     0  2006      1  \n",
       "2881       0      1     0  2006      1  "
      ]
     },
     "execution_count": 31,
     "metadata": {},
     "output_type": "execute_result"
    }
   ],
   "source": [
    "reviews['date'] = pd.to_datetime(reviews['date'])\n",
    "reviews['year'], reviews['month'] = reviews['date'].dt.year, reviews['date'].dt.month\n",
    "reviews = reviews.sort_values(by=['date'])\n",
    "reviews.head()"
   ]
  },
  {
   "cell_type": "code",
   "execution_count": 32,
   "metadata": {},
   "outputs": [],
   "source": [
    "reviews['prev_date'] = reviews['date'] + pd.DateOffset(days=-15)\n",
    "reviews['after_date'] = reviews['date'] + pd.DateOffset(days=15)"
   ]
  },
  {
   "cell_type": "code",
   "execution_count": 33,
   "metadata": {},
   "outputs": [
    {
     "data": {
      "text/html": [
       "<div>\n",
       "<style>\n",
       "    .dataframe thead tr:only-child th {\n",
       "        text-align: right;\n",
       "    }\n",
       "\n",
       "    .dataframe thead th {\n",
       "        text-align: left;\n",
       "    }\n",
       "\n",
       "    .dataframe tbody tr th {\n",
       "        vertical-align: top;\n",
       "    }\n",
       "</style>\n",
       "<table border=\"1\" class=\"dataframe\">\n",
       "  <thead>\n",
       "    <tr style=\"text-align: right;\">\n",
       "      <th></th>\n",
       "      <th>id</th>\n",
       "      <th>business_id</th>\n",
       "      <th>user_id</th>\n",
       "      <th>stars</th>\n",
       "      <th>date</th>\n",
       "      <th>text</th>\n",
       "      <th>useful</th>\n",
       "      <th>funny</th>\n",
       "      <th>cool</th>\n",
       "      <th>year</th>\n",
       "      <th>month</th>\n",
       "      <th>prev_date</th>\n",
       "      <th>after_date</th>\n",
       "      <th>star_before</th>\n",
       "      <th>star_after</th>\n",
       "    </tr>\n",
       "  </thead>\n",
       "  <tbody>\n",
       "    <tr>\n",
       "      <th>3250</th>\n",
       "      <td>ojCMmtgJPvw6yaIDpUYZmw</td>\n",
       "      <td>4JNXUYY8wbaaDmk3BPzlWw</td>\n",
       "      <td>qEYG5IE5dTekjIhdoV31bQ</td>\n",
       "      <td>5</td>\n",
       "      <td>2005-10-10</td>\n",
       "      <td>If you enjoy a little people watching with you...</td>\n",
       "      <td>0</td>\n",
       "      <td>0</td>\n",
       "      <td>0</td>\n",
       "      <td>2005</td>\n",
       "      <td>10</td>\n",
       "      <td>2005-09-25</td>\n",
       "      <td>2005-10-25</td>\n",
       "      <td></td>\n",
       "      <td></td>\n",
       "    </tr>\n",
       "    <tr>\n",
       "      <th>1461</th>\n",
       "      <td>diaVB93Is7yYD-ajYQKvqw</td>\n",
       "      <td>4JNXUYY8wbaaDmk3BPzlWw</td>\n",
       "      <td>k2zuwaAne-FhHd8M6bXnyQ</td>\n",
       "      <td>5</td>\n",
       "      <td>2005-10-15</td>\n",
       "      <td>affordable, fairly classic french food sit out...</td>\n",
       "      <td>2</td>\n",
       "      <td>2</td>\n",
       "      <td>2</td>\n",
       "      <td>2005</td>\n",
       "      <td>10</td>\n",
       "      <td>2005-09-30</td>\n",
       "      <td>2005-10-30</td>\n",
       "      <td></td>\n",
       "      <td></td>\n",
       "    </tr>\n",
       "    <tr>\n",
       "      <th>598</th>\n",
       "      <td>6HswqFO2yndpRGCe2gIAwg</td>\n",
       "      <td>4JNXUYY8wbaaDmk3BPzlWw</td>\n",
       "      <td>gjhzKWsqCIrpEd9pevbKZw</td>\n",
       "      <td>4</td>\n",
       "      <td>2005-12-02</td>\n",
       "      <td>Though heartbroken and a bit aimless on my 22n...</td>\n",
       "      <td>3</td>\n",
       "      <td>2</td>\n",
       "      <td>3</td>\n",
       "      <td>2005</td>\n",
       "      <td>12</td>\n",
       "      <td>2005-11-17</td>\n",
       "      <td>2005-12-17</td>\n",
       "      <td></td>\n",
       "      <td></td>\n",
       "    </tr>\n",
       "    <tr>\n",
       "      <th>1404</th>\n",
       "      <td>d2IvFpPFBs6trRqVkqyjbg</td>\n",
       "      <td>4JNXUYY8wbaaDmk3BPzlWw</td>\n",
       "      <td>8-lLoii2bEEB_IDJlryyDw</td>\n",
       "      <td>4</td>\n",
       "      <td>2006-01-07</td>\n",
       "      <td>The food and wine was amazing, but the super h...</td>\n",
       "      <td>1</td>\n",
       "      <td>0</td>\n",
       "      <td>0</td>\n",
       "      <td>2006</td>\n",
       "      <td>1</td>\n",
       "      <td>2005-12-23</td>\n",
       "      <td>2006-01-22</td>\n",
       "      <td></td>\n",
       "      <td></td>\n",
       "    </tr>\n",
       "    <tr>\n",
       "      <th>2881</th>\n",
       "      <td>M99598wD-2oEQhGru_GvEQ</td>\n",
       "      <td>4JNXUYY8wbaaDmk3BPzlWw</td>\n",
       "      <td>_W4y7ku6Q0uGoiI3ePtkgQ</td>\n",
       "      <td>5</td>\n",
       "      <td>2006-01-31</td>\n",
       "      <td>Yippy! Make-your-own bloody mary bar! Chose th...</td>\n",
       "      <td>0</td>\n",
       "      <td>1</td>\n",
       "      <td>0</td>\n",
       "      <td>2006</td>\n",
       "      <td>1</td>\n",
       "      <td>2006-01-16</td>\n",
       "      <td>2006-02-15</td>\n",
       "      <td></td>\n",
       "      <td></td>\n",
       "    </tr>\n",
       "  </tbody>\n",
       "</table>\n",
       "</div>"
      ],
      "text/plain": [
       "                          id             business_id                 user_id  \\\n",
       "3250  ojCMmtgJPvw6yaIDpUYZmw  4JNXUYY8wbaaDmk3BPzlWw  qEYG5IE5dTekjIhdoV31bQ   \n",
       "1461  diaVB93Is7yYD-ajYQKvqw  4JNXUYY8wbaaDmk3BPzlWw  k2zuwaAne-FhHd8M6bXnyQ   \n",
       "598   6HswqFO2yndpRGCe2gIAwg  4JNXUYY8wbaaDmk3BPzlWw  gjhzKWsqCIrpEd9pevbKZw   \n",
       "1404  d2IvFpPFBs6trRqVkqyjbg  4JNXUYY8wbaaDmk3BPzlWw  8-lLoii2bEEB_IDJlryyDw   \n",
       "2881  M99598wD-2oEQhGru_GvEQ  4JNXUYY8wbaaDmk3BPzlWw  _W4y7ku6Q0uGoiI3ePtkgQ   \n",
       "\n",
       "      stars       date                                               text  \\\n",
       "3250      5 2005-10-10  If you enjoy a little people watching with you...   \n",
       "1461      5 2005-10-15  affordable, fairly classic french food sit out...   \n",
       "598       4 2005-12-02  Though heartbroken and a bit aimless on my 22n...   \n",
       "1404      4 2006-01-07  The food and wine was amazing, but the super h...   \n",
       "2881      5 2006-01-31  Yippy! Make-your-own bloody mary bar! Chose th...   \n",
       "\n",
       "      useful  funny  cool  year  month  prev_date after_date star_before  \\\n",
       "3250       0      0     0  2005     10 2005-09-25 2005-10-25               \n",
       "1461       2      2     2  2005     10 2005-09-30 2005-10-30               \n",
       "598        3      2     3  2005     12 2005-11-17 2005-12-17               \n",
       "1404       1      0     0  2006      1 2005-12-23 2006-01-22               \n",
       "2881       0      1     0  2006      1 2006-01-16 2006-02-15               \n",
       "\n",
       "     star_after  \n",
       "3250             \n",
       "1461             \n",
       "598              \n",
       "1404             \n",
       "2881             "
      ]
     },
     "execution_count": 33,
     "metadata": {},
     "output_type": "execute_result"
    }
   ],
   "source": [
    "reviews['star_before']=''\n",
    "reviews['star_after']=''\n",
    "reviews.head()"
   ]
  },
  {
   "cell_type": "code",
   "execution_count": 34,
   "metadata": {},
   "outputs": [
    {
     "name": "stderr",
     "output_type": "stream",
     "text": [
      "100%|██████████| 5270/5270 [00:22<00:00, 233.99it/s]\n"
     ]
    }
   ],
   "source": [
    "# test = reviews.iloc[:100, :]\n",
    "l1 = []\n",
    "l2 = []\n",
    "for i in tqdm(range(reviews.shape[0])):\n",
    "    before_date = reviews.iloc[i, :]['prev_date']\n",
    "    curr_date = reviews.iloc[i, :]['date']\n",
    "    after_date = reviews.iloc[i, :]['after_date']\n",
    "    blah = reviews[(reviews['date']>=before_date) & (reviews['date']<curr_date)]['stars'].mean()\n",
    "    l1.append(reviews[(reviews['date']>=before_date) & (reviews['date']<curr_date)]['stars'].mean())\n",
    "    l2.append(reviews[(reviews['date']>curr_date) & (reviews['date']<=after_date)]['stars'].mean())\n",
    "    \n",
    "reviews[\"star_before\"] = l1\n",
    "reviews[\"star_after\"] = l2"
   ]
  },
  {
   "cell_type": "code",
   "execution_count": 99,
   "metadata": {},
   "outputs": [
    {
     "name": "stderr",
     "output_type": "stream",
     "text": [
      "100%|██████████| 5/5 [01:02<00:00, 12.53s/it]\n"
     ]
    }
   ],
   "source": []
  },
  {
   "cell_type": "code",
   "execution_count": 113,
   "metadata": {
    "collapsed": true
   },
   "outputs": [],
   "source": [
    "thres = 30\n",
    "\n",
    "def get_rolling(df, thres, outliers):\n",
    "#     reviews = pd.read_html(file, header=0)[0]\n",
    "    reviews = df\n",
    "    reviews['date'] = pd.to_datetime(reviews['date'])\n",
    "    reviews['year'], reviews['month'] = reviews['date'].dt.year, reviews['date'].dt.month\n",
    "    reviews = reviews.sort_values(by=['date'])\n",
    "    reviews['prev_date'] = reviews['date'] + pd.DateOffset(days=-thres)\n",
    "    reviews['after_date'] = reviews['date'] + pd.DateOffset(days=thres)\n",
    "    reviews['star_before']=''\n",
    "    reviews['star_after']=''\n",
    "    l1, l2 = [], []\n",
    "\n",
    "    for i in range(reviews.shape[0]):\n",
    "        before_date = reviews.iloc[i, :]['prev_date']\n",
    "        curr_date = reviews.iloc[i, :]['date']\n",
    "        after_date = reviews.iloc[i, :]['after_date']\n",
    "        l1.append(reviews[(reviews['date']>=before_date) & (reviews['date']<curr_date)]['stars'].mean())\n",
    "        l2.append(reviews[(reviews['date']>curr_date) & (reviews['date']<=after_date)]['stars'].mean())\n",
    "    \n",
    "    reviews[\"star_before\"] = l1\n",
    "    reviews[\"star_after\"] = l2\n",
    "    reviews['star_diff'] = reviews[\"star_after\"] - reviews[\"star_before\"]\n",
    "    \n",
    "    influencers_ids = list(all_users.iloc[outliers,:]['id'])\n",
    "    influencers_reviews = reviews[reviews['user_id'].isin(influencers_ids)]\n",
    "    influencers_reviews = influencers_reviews.dropna()\n",
    "    return influencers_reviews['star_diff'].values\n",
    "    \n",
    "   "
   ]
  },
  {
   "cell_type": "code",
   "execution_count": 114,
   "metadata": {},
   "outputs": [
    {
     "data": {
      "text/plain": [
       "(18591, 20)"
      ]
     },
     "execution_count": 114,
     "metadata": {},
     "output_type": "execute_result"
    }
   ],
   "source": [
    "all_users = pd.read_csv(\"../top_rated_res_user.csv\", sep = \",\")\n",
    "all_users.shape"
   ]
  },
  {
   "cell_type": "code",
   "execution_count": 115,
   "metadata": {},
   "outputs": [
    {
     "name": "stderr",
     "output_type": "stream",
     "text": [
      "100%|██████████| 5/5 [00:59<00:00, 11.83s/it]\n"
     ]
    }
   ],
   "source": [
    "#reading reviews files for all 5 top restaurants\n",
    "files = glob.glob('../*.html')\n",
    "df_list = []\n",
    "for file in tqdm(files):\n",
    "    temp_df = pd.read_html(file, header=0)[0]\n",
    "    df_list.append(temp_df)"
   ]
  },
  {
   "cell_type": "code",
   "execution_count": 116,
   "metadata": {},
   "outputs": [
    {
     "name": "stderr",
     "output_type": "stream",
     "text": [
      "100%|██████████| 5/5 [01:05<00:00, 13.07s/it]\n"
     ]
    }
   ],
   "source": [
    "mean_diff = []\n",
    "for reviews_df in tqdm(df_list):\n",
    "    mean_diff.append(get_rolling(reviews_df, thres, outliers))\n",
    "mean_diff_total = [j for i in mean_diff for j in i]"
   ]
  },
  {
   "cell_type": "code",
   "execution_count": 117,
   "metadata": {},
   "outputs": [
    {
     "name": "stdout",
     "output_type": "stream",
     "text": [
      "106\n",
      "66\n"
     ]
    }
   ],
   "source": [
    "print(len(mean_diff_total))\n",
    "print(len(outliers))"
   ]
  },
  {
   "cell_type": "code",
   "execution_count": 118,
   "metadata": {},
   "outputs": [
    {
     "name": "stdout",
     "output_type": "stream",
     "text": [
      "Ttest_1sampResult(statistic=1.9431460069551914, pvalue=0.05467593042357695)\n"
     ]
    }
   ],
   "source": [
    "from scipy import stats\n",
    "t = stats.ttest_1samp(mean_diff_total,0)\n",
    "print(t)"
   ]
  },
  {
   "cell_type": "code",
   "execution_count": 119,
   "metadata": {},
   "outputs": [
    {
     "name": "stdout",
     "output_type": "stream",
     "text": [
      "0.20541982065405323\n",
      "(0.0061357515166875, 0.07177244056312382)\n",
      "0.06563668904643633\n"
     ]
    }
   ],
   "source": [
    "sigma  = np.std(mean_diff_total)\n",
    "n = len(mean_diff_total)\n",
    "mean = np.mean(mean_diff_total)\n",
    "conf_interval = stats.norm.interval(0.90, loc = mean, scale=sigma/np.sqrt(n))\n",
    "conf_interval_len = conf_interval[1] - conf_interval[0]\n",
    "print(sigma)\n",
    "print(conf_interval)\n",
    "print(conf_interval_len)"
   ]
  },
  {
   "cell_type": "code",
   "execution_count": 120,
   "metadata": {},
   "outputs": [
    {
     "data": {
      "text/plain": [
       "array([  360,   395,   594,  1126,  1204,  1388,  1802,  2089,  2128,\n",
       "        2593,  2710,  2879,  2901,  3018,  3214,  3250,  3334,  3730,\n",
       "        4025,  4100,  4133,  4144,  4251,  4602,  5225,  5870,  6023,\n",
       "        6249,  6279,  6380,  6394,  6632,  6709,  6819,  6974,  7274,\n",
       "        7807,  8736,  9638, 10012, 10733, 10904, 11018, 11104, 11184,\n",
       "       11384, 11517, 11783, 12127, 12711, 13060, 13213, 13707, 15142,\n",
       "       15685, 15985, 16012, 16073, 16085, 16222, 16544, 17383, 17580,\n",
       "       17662, 17756, 17809])"
      ]
     },
     "execution_count": 120,
     "metadata": {},
     "output_type": "execute_result"
    }
   ],
   "source": [
    "outliers"
   ]
  },
  {
   "cell_type": "code",
   "execution_count": null,
   "metadata": {
    "collapsed": true
   },
   "outputs": [],
   "source": []
  }
 ],
 "metadata": {
  "kernelspec": {
   "display_name": "Python 3",
   "language": "python",
   "name": "python3"
  },
  "language_info": {
   "codemirror_mode": {
    "name": "ipython",
    "version": 3
   },
   "file_extension": ".py",
   "mimetype": "text/x-python",
   "name": "python",
   "nbconvert_exporter": "python",
   "pygments_lexer": "ipython3",
   "version": "3.5.4"
  }
 },
 "nbformat": 4,
 "nbformat_minor": 2
}
